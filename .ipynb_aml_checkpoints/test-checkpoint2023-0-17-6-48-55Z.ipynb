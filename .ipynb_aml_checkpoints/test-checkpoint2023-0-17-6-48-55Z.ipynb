{
  "cells": [
    {
      "cell_type": "code",
      "source": [
        "print(\"Hello, world!\")"
      ],
      "outputs": [
        {
          "output_type": "stream",
          "name": "stdout",
          "text": "Hello, world!\n"
        }
      ],
      "execution_count": 1,
      "metadata": {
        "gather": {
          "logged": 1673937633154
        }
      }
    },
    {
      "cell_type": "code",
      "source": [
        "print(\"Hello, world!\")"
      ],
      "outputs": [],
      "execution_count": null,
      "metadata": {
        "jupyter": {
          "source_hidden": false,
          "outputs_hidden": false
        },
        "nteract": {
          "transient": {
            "deleting": false
          }
        }
      }
    },
    {
      "cell_type": "code",
      "source": [
        "!git clone https://github.com/TommyZihao/Train_Custom_Dataset.git"
      ],
      "outputs": [
        {
          "output_type": "stream",
          "name": "stdout",
          "text": "Cloning into 'Train_Custom_Dataset'...\nremote: Enumerating objects: 1114, done.\u001b[K\nremote: Counting objects: 100% (260/260), done.\u001b[K\nremote: Compressing objects: 100% (114/114), done.\u001b[K\nremote: Total 1114 (delta 201), reused 177 (delta 146), pack-reused 854\u001b[K\nReceiving objects: 100% (1114/1114), 186.92 MiB | 42.68 MiB/s, done.\nResolving deltas: 100% (657/657), done.\nUpdating files: 100% (138/138), done.\n"
        }
      ],
      "execution_count": 2,
      "metadata": {
        "jupyter": {
          "source_hidden": false,
          "outputs_hidden": false
        },
        "nteract": {
          "transient": {
            "deleting": false
          }
        }
      }
    },
    {
      "cell_type": "code",
      "source": [
        "!cd Train_Custom_Dataset/ & rm -rf .git"
      ],
      "outputs": [],
      "execution_count": 5,
      "metadata": {
        "jupyter": {
          "source_hidden": false,
          "outputs_hidden": false
        },
        "nteract": {
          "transient": {
            "deleting": false
          }
        }
      }
    },
    {
      "cell_type": "code",
      "source": [
        "!ls -l -a"
      ],
      "outputs": [
        {
          "output_type": "stream",
          "name": "stdout",
          "text": "total 5\r\ndrwxrwxrwx 2 root root    0 Jan 17 06:27 .\r\ndrwxrwxrwx 2 root root    0 Jan 17 06:27 ..\r\n-rwxrwxrwx 1 root root  315 Jan 17 06:36 .amlignore\r\n-rwxrwxrwx 1 root root  315 Jan 17 06:36 .amlignore.amltmp\r\ndrwxrwxrwx 2 root root    0 Jan 17 06:36 .ipynb_aml_checkpoints\r\ndrwxrwxrwx 2 root root    0 Jan 17 06:40 Train_Custom_Dataset\r\ndrwxrwxrwx 2 root root    0 Jan 17 06:34 dataWhale\r\n-rwxrwxrwx 1 root root 1565 Jan 17 06:40 test.ipynb\r\n-rwxrwxrwx 1 root root 1565 Jan 17 06:40 test.ipynb.amltmp\r\n"
        }
      ],
      "execution_count": 4,
      "metadata": {
        "jupyter": {
          "source_hidden": false,
          "outputs_hidden": false
        },
        "nteract": {
          "transient": {
            "deleting": false
          }
        }
      }
    },
    {
      "cell_type": "code",
      "source": [
        "!git "
      ],
      "outputs": [],
      "execution_count": null,
      "metadata": {
        "jupyter": {
          "source_hidden": false,
          "outputs_hidden": false
        },
        "nteract": {
          "transient": {
            "deleting": false
          }
        }
      }
    }
  ],
  "metadata": {
    "kernelspec": {
      "name": "python310-sdkv2",
      "language": "python",
      "display_name": "Python 3.10 - SDK V2"
    },
    "language_info": {
      "name": "python",
      "version": "3.10.6",
      "mimetype": "text/x-python",
      "codemirror_mode": {
        "name": "ipython",
        "version": 3
      },
      "pygments_lexer": "ipython3",
      "nbconvert_exporter": "python",
      "file_extension": ".py"
    },
    "kernel_info": {
      "name": "python310-sdkv2"
    },
    "nteract": {
      "version": "nteract-front-end@1.0.0"
    }
  },
  "nbformat": 4,
  "nbformat_minor": 2
}