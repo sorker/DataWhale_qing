{
  "cells": [
    {
      "cell_type": "markdown",
      "source": [
        "# 安装配置环境\n",
        "\n",
        "同济子豪兄 https://space.bilibili.com/1900783\n",
        "\n",
        "代码运行[云GPU平台](https://featurize.cn/?s=d7ce99f842414bfcaea5662a97581bd1)\n",
        "\n",
        "2022-8-2"
      ],
      "metadata": {},
      "id": "68aa2c39-1a4b-4d3c-ab35-3d44896f2f67"
    },
    {
      "cell_type": "markdown",
      "source": [
        "## 直接运行代码块即可"
      ],
      "metadata": {},
      "id": "d56b4a5f-8ec2-4493-8344-580ed67d3d25"
    },
    {
      "cell_type": "code",
      "source": [
        "!pip install numpy pandas matplotlib requests tqdm opencv-python pillow gc"
      ],
      "outputs": [
        {
          "output_type": "stream",
          "name": "stdout",
          "text": "Requirement already satisfied: numpy in /anaconda/envs/azureml_py38/lib/python3.8/site-packages (1.21.6)\nRequirement already satisfied: pandas in /anaconda/envs/azureml_py38/lib/python3.8/site-packages (1.1.5)\nRequirement already satisfied: matplotlib in /anaconda/envs/azureml_py38/lib/python3.8/site-packages (3.2.1)\nRequirement already satisfied: requests in /anaconda/envs/azureml_py38/lib/python3.8/site-packages (2.28.1)\nRequirement already satisfied: tqdm in /anaconda/envs/azureml_py38/lib/python3.8/site-packages (4.64.1)\nCollecting opencv-python\n  Downloading opencv_python-4.7.0.68-cp37-abi3-manylinux_2_17_x86_64.manylinux2014_x86_64.whl (61.8 MB)\n\u001b[K     |████████████████████████████████| 61.8 MB 23 kB/s  eta 0:00:01\n\u001b[?25hRequirement already satisfied: pillow in /anaconda/envs/azureml_py38/lib/python3.8/site-packages (9.2.0)\n\u001b[31mERROR: Could not find a version that satisfies the requirement gc (from versions: none)\u001b[0m\n\u001b[31mERROR: No matching distribution found for gc\u001b[0m\n"
        }
      ],
      "execution_count": 1,
      "metadata": {},
      "id": "83c98888-79c0-4f4c-8e64-b9cc65ac797e"
    },
    {
      "cell_type": "markdown",
      "source": [
        "## 下载安装Pytorch"
      ],
      "metadata": {},
      "id": "f34acebb-ad33-4775-a842-3df6e4cce3fb"
    },
    {
      "cell_type": "code",
      "source": [
        "!pip3 install torch torchvision torchaudio --extra-index-url https://download.pytorch.org/whl/cu113"
      ],
      "outputs": [
        {
          "output_type": "stream",
          "name": "stdout",
          "text": "Looking in indexes: https://pypi.org/simple, https://download.pytorch.org/whl/cu113\nRequirement already satisfied: torch in /anaconda/envs/azureml_py38/lib/python3.8/site-packages (1.12.0)\nRequirement already satisfied: torchvision in /anaconda/envs/azureml_py38/lib/python3.8/site-packages (0.9.1)\nCollecting torchaudio\n  Downloading torchaudio-0.13.1-cp38-cp38-manylinux1_x86_64.whl (4.2 MB)\n\u001b[K     |████████████████████████████████| 4.2 MB 6.0 MB/s eta 0:00:01\n\u001b[?25hRequirement already satisfied: typing-extensions in /anaconda/envs/azureml_py38/lib/python3.8/site-packages (from torch) (4.4.0)\nRequirement already satisfied: numpy in /anaconda/envs/azureml_py38/lib/python3.8/site-packages (from torchvision) (1.21.6)\nRequirement already satisfied: pillow>=4.1.1 in /anaconda/envs/azureml_py38/lib/python3.8/site-packages (from torchvision) (9.2.0)\n\u001b[31mERROR: torchaudio 0.13.1 has requirement torch==1.13.1, but you'll have torch 1.12.0 which is incompatible.\u001b[0m\nInstalling collected packages: torchaudio\nSuccessfully installed torchaudio-0.13.1\n"
        }
      ],
      "execution_count": 2,
      "metadata": {},
      "id": "f9c9f8de-2c5e-477e-8893-f1435e3ff331"
    },
    {
      "cell_type": "markdown",
      "source": [
        "## 下载安装 mmcv-full"
      ],
      "metadata": {},
      "id": "84132041-20bb-4401-9f8e-2bdad1f16cbe"
    },
    {
      "cell_type": "code",
      "source": [
        "# 安装mmcv -full\n",
        "!pip install mmcv-full -f https://download.openmmlab.com/mmcv/dist/cu113/torch1.10.0/index.html"
      ],
      "outputs": [
        {
          "output_type": "stream",
          "name": "stdout",
          "text": "Looking in links: https://download.openmmlab.com/mmcv/dist/cu113/torch1.10.0/index.html\nCollecting mmcv-full\n  Downloading https://download.openmmlab.com/mmcv/dist/cu113/torch1.10.0/mmcv_full-1.7.1-cp38-cp38-manylinux1_x86_64.whl (58.2 MB)\n\u001b[K     |████████████████████████████████| 58.2 MB 948 bytes/s  0:00:01\n\u001b[?25hCollecting addict\n  Downloading addict-2.4.0-py3-none-any.whl (3.8 kB)\nRequirement already satisfied: yapf in /anaconda/envs/azureml_py38/lib/python3.8/site-packages (from mmcv-full) (0.32.0)\nRequirement already satisfied: numpy in /anaconda/envs/azureml_py38/lib/python3.8/site-packages (from mmcv-full) (1.21.6)\nCollecting opencv-python>=3\n  Using cached opencv_python-4.7.0.68-cp37-abi3-manylinux_2_17_x86_64.manylinux2014_x86_64.whl (61.8 MB)\nRequirement already satisfied: pyyaml in /anaconda/envs/azureml_py38/lib/python3.8/site-packages (from mmcv-full) (6.0)\nRequirement already satisfied: packaging in /anaconda/envs/azureml_py38/lib/python3.8/site-packages (from mmcv-full) (21.3)\nRequirement already satisfied: Pillow in /anaconda/envs/azureml_py38/lib/python3.8/site-packages (from mmcv-full) (9.2.0)\nRequirement already satisfied: pyparsing!=3.0.5,>=2.0.2 in /anaconda/envs/azureml_py38/lib/python3.8/site-packages (from packaging->mmcv-full) (3.0.9)\nInstalling collected packages: addict, opencv-python, mmcv-full\nSuccessfully installed addict-2.4.0 mmcv-full-1.7.1 opencv-python-4.7.0.68\n"
        }
      ],
      "execution_count": 3,
      "metadata": {
        "gather": {
          "logged": 1674025501349
        }
      },
      "id": "75203561-5659-40cb-ad35-202a316d6641"
    },
    {
      "cell_type": "markdown",
      "source": [
        "## 下载中文字体文件"
      ],
      "metadata": {},
      "id": "4df3fa7c-23d2-4db1-a12f-8fafbe96b16d"
    },
    {
      "cell_type": "code",
      "source": [
        "!wget https://zihao-openmmlab.obs.cn-east-3.myhuaweicloud.com/20220716-mmclassification/dataset/SimHei.ttf\n"
      ],
      "outputs": [
        {
          "output_type": "stream",
          "name": "stdout",
          "text": "--2023-01-18 07:05:04--  https://zihao-openmmlab.obs.cn-east-3.myhuaweicloud.com/20220716-mmclassification/dataset/SimHei.ttf\nResolving zihao-openmmlab.obs.cn-east-3.myhuaweicloud.com (zihao-openmmlab.obs.cn-east-3.myhuaweicloud.com)... 121.36.235.132\nConnecting to zihao-openmmlab.obs.cn-east-3.myhuaweicloud.com (zihao-openmmlab.obs.cn-east-3.myhuaweicloud.com)|121.36.235.132|:443... connected.\nHTTP request sent, awaiting response... 200 OK\nLength: 10050868 (9.6M) [application/x-font-ttf]\nSaving to: ‘SimHei.ttf.1’\n\nSimHei.ttf.1        100%[===================>]   9.58M  4.61MB/s    in 2.1s    \n\n2023-01-18 07:05:07 (4.61 MB/s) - ‘SimHei.ttf.1’ saved [10050868/10050868]\n\n"
        }
      ],
      "execution_count": 5,
      "metadata": {},
      "id": "a18e57f9-0ece-4d34-a0fd-0642a778a3b6"
    },
    {
      "cell_type": "markdown",
      "source": [
        "## 下载 ImageNet 1000类别信息"
      ],
      "metadata": {},
      "id": "8997e27f-7056-41cb-a371-3f41b50b5657"
    },
    {
      "cell_type": "code",
      "source": [
        "!wget https://zihao-openmmlab.obs.cn-east-3.myhuaweicloud.com/20220716-mmclassification/dataset/meta_data/imagenet_class_index.csv\n"
      ],
      "outputs": [
        {
          "output_type": "stream",
          "name": "stdout",
          "text": "--2023-01-18 07:05:02--  https://zihao-openmmlab.obs.cn-east-3.myhuaweicloud.com/20220716-mmclassification/dataset/meta_data/imagenet_class_index.csv\nResolving zihao-openmmlab.obs.cn-east-3.myhuaweicloud.com (zihao-openmmlab.obs.cn-east-3.myhuaweicloud.com)... 121.36.235.132\nConnecting to zihao-openmmlab.obs.cn-east-3.myhuaweicloud.com (zihao-openmmlab.obs.cn-east-3.myhuaweicloud.com)|121.36.235.132|:443... connected.\nHTTP request sent, awaiting response... 200 OK\nLength: 37074 (36K) [text/csv]\nSaving to: ‘imagenet_class_index.csv.1’\n\nimagenet_class_inde 100%[===================>]  36.21K   125KB/s    in 0.3s    \n\n2023-01-18 07:05:04 (125 KB/s) - ‘imagenet_class_index.csv.1’ saved [37074/37074]\n\n"
        }
      ],
      "execution_count": 4,
      "metadata": {},
      "id": "ad87e1f8-e15a-45a4-bbeb-cc7d0479610c"
    },
    {
      "cell_type": "markdown",
      "source": [
        "## 创建目录"
      ],
      "metadata": {},
      "id": "5628a6f7-e356-4d45-95ee-17fcb316b3c7"
    },
    {
      "cell_type": "code",
      "source": [
        "import os"
      ],
      "outputs": [],
      "execution_count": 6,
      "metadata": {
        "gather": {
          "logged": 1674025507880
        }
      },
      "id": "d149db7a-5f6e-4513-b5c2-72fdf3eb3e2a"
    },
    {
      "cell_type": "code",
      "source": [
        "# 存放测试图片\n",
        "os.mkdir('test_img')\n",
        "\n",
        "# 存放结果文件\n",
        "os.mkdir('output')"
      ],
      "outputs": [
        {
          "output_type": "error",
          "ename": "FileExistsError",
          "evalue": "[Errno 17] File exists: 'test_img'",
          "traceback": [
            "\u001b[0;31m---------------------------------------------------------------------------\u001b[0m",
            "\u001b[0;31mFileExistsError\u001b[0m                           Traceback (most recent call last)",
            "Cell \u001b[0;32mIn [7], line 2\u001b[0m\n\u001b[1;32m      1\u001b[0m \u001b[38;5;66;03m# 存放测试图片\u001b[39;00m\n\u001b[0;32m----> 2\u001b[0m \u001b[43mos\u001b[49m\u001b[38;5;241;43m.\u001b[39;49m\u001b[43mmkdir\u001b[49m\u001b[43m(\u001b[49m\u001b[38;5;124;43m'\u001b[39;49m\u001b[38;5;124;43mtest_img\u001b[39;49m\u001b[38;5;124;43m'\u001b[39;49m\u001b[43m)\u001b[49m\n\u001b[1;32m      4\u001b[0m \u001b[38;5;66;03m# 存放结果文件\u001b[39;00m\n\u001b[1;32m      5\u001b[0m os\u001b[38;5;241m.\u001b[39mmkdir(\u001b[38;5;124m'\u001b[39m\u001b[38;5;124moutput\u001b[39m\u001b[38;5;124m'\u001b[39m)\n",
            "\u001b[0;31mFileExistsError\u001b[0m: [Errno 17] File exists: 'test_img'"
          ]
        }
      ],
      "execution_count": 7,
      "metadata": {
        "gather": {
          "logged": 1674025509748
        }
      },
      "id": "97a32738-da46-4b63-8b37-8a37dbf79602"
    },
    {
      "cell_type": "code",
      "source": [
        "# 下载测试图像文件 至 test_img 文件夹\n",
        "\n",
        "!wget https://zihao-openmmlab.obs.cn-east-3.myhuaweicloud.com/20220716-mmclassification/test/watermelon1.jpg -O test_img/watermelon1.jpg\n",
        "!wget https://zihao-openmmlab.obs.cn-east-3.myhuaweicloud.com/20220716-mmclassification/test/banana1.jpg -O test_img/banana1.jpg\n",
        "!wget https://zihao-openmmlab.obs.cn-east-3.myhuaweicloud.com/20220716-mmclassification/test/cat1.jpg -O test_img/cat1.jpg\n",
        "\n",
        "# 哈士奇，来源：https://www.pexels.com/zh-cn/photo/2853130/\n",
        "!wget https://zihao-openmmlab.obs.cn-east-3.myhuaweicloud.com/20220716-mmclassification/test/husky1.jpeg -O test_img/husky1.jpeg\n",
        "\n",
        "# 猫狗，来源：https://unsplash.com/photos/ouo1hbizWwo\n",
        "!wget https://zihao-openmmlab.obs.cn-east-3.myhuaweicloud.com/20220716-mmclassification/test/cat_dog.jpg -O test_img/cat_dog.jpg\n",
        "\n",
        "!wget https://zihao-openmmlab.obs.cn-east-3.myhuaweicloud.com/20220716-mmclassification/test/video_2.mp4 -O test_img/video_2.mp4\n"
      ],
      "outputs": [],
      "execution_count": null,
      "metadata": {
        "gather": {
          "logged": 1674025509819
        }
      },
      "id": "2d31e3d5-b6eb-4769-a7cf-724cd8d9b888"
    },
    {
      "cell_type": "code",
      "source": [],
      "outputs": [],
      "execution_count": null,
      "metadata": {},
      "id": "04e12a75-af98-4197-b679-aff86ef7a240"
    }
  ],
  "metadata": {
    "kernelspec": {
      "name": "python3",
      "language": "python",
      "display_name": "Python 3 (ipykernel)"
    },
    "language_info": {
      "name": "python",
      "version": "3.8.5",
      "mimetype": "text/x-python",
      "codemirror_mode": {
        "name": "ipython",
        "version": 3
      },
      "pygments_lexer": "ipython3",
      "nbconvert_exporter": "python",
      "file_extension": ".py"
    },
    "kernel_info": {
      "name": "python3"
    },
    "nteract": {
      "version": "nteract-front-end@1.0.0"
    }
  },
  "nbformat": 4,
  "nbformat_minor": 5
}