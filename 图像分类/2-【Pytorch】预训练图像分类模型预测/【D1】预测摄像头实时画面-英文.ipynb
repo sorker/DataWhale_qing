{
  "cells": [
    {
      "cell_type": "markdown",
      "source": [
        "# ImageNet预训练图像分类模型预测摄像头实时画面\n",
        "\n",
        "使用 ImageNet 预训练图像分类模型，预测摄像头实时画面。\n",
        "\n",
        "本代码需在`连接摄像头的本地`运行，不能在云GPU平台运行。\n",
        "\n",
        "同济子豪兄：https://space.bilibili.com/1900783\n",
        "\n",
        "测试运行环境：Macbook Pro"
      ],
      "metadata": {},
      "id": "f273893d"
    },
    {
      "cell_type": "markdown",
      "source": [
        "## 导入工具包"
      ],
      "metadata": {
        "tags": []
      },
      "id": "da603202"
    },
    {
      "cell_type": "code",
      "source": [
        "import os\n",
        "\n",
        "import numpy as np\n",
        "import pandas as pd\n",
        "\n",
        "import cv2 # opencv-python\n",
        "from PIL import Image # pillow\n",
        "from tqdm import tqdm # 进度条\n",
        "\n",
        "import matplotlib.pyplot as plt\n",
        "%matplotlib inline\n",
        "\n",
        "import torch\n",
        "import torch.nn.functional as F\n",
        "from torchvision import models"
      ],
      "outputs": [],
      "execution_count": 1,
      "metadata": {
        "gather": {
          "logged": 1674028196390
        }
      },
      "id": "a9d2f1f6"
    },
    {
      "cell_type": "code",
      "source": [
        "# 有 GPU 就用 GPU，没有就用 CPU\n",
        "device = torch.device('cuda:0' if torch.cuda.is_available() else 'cpu')\n",
        "print('device:', device)"
      ],
      "outputs": [
        {
          "output_type": "stream",
          "name": "stdout",
          "text": "device: cuda:0\n"
        }
      ],
      "execution_count": 2,
      "metadata": {
        "gather": {
          "logged": 1674028197555
        }
      },
      "id": "d985fafb"
    },
    {
      "cell_type": "markdown",
      "source": [
        "## 载入预训练图像分类模型"
      ],
      "metadata": {},
      "id": "dd9d3395"
    },
    {
      "cell_type": "code",
      "source": [
        "model = models.resnet18(pretrained=True)\n",
        "model = model.eval()\n",
        "model = model.to(device)"
      ],
      "outputs": [],
      "execution_count": 3,
      "metadata": {
        "gather": {
          "logged": 1674028202646
        }
      },
      "id": "0ea0e5e5"
    },
    {
      "cell_type": "markdown",
      "source": [
        "## 载入ImageNet 1000图像分类标签\n",
        "\n",
        "ImageNet 1000类别中文释义：https://github.com/ningbonb/imagenet_classes_chinese"
      ],
      "metadata": {},
      "id": "099a2efc"
    },
    {
      "cell_type": "code",
      "source": [
        "df = pd.read_csv('imagenet_class_index.csv')\n",
        "idx_to_labels = {}\n",
        "for idx, row in df.iterrows():\n",
        "    idx_to_labels[row['ID']] = row['class']"
      ],
      "outputs": [],
      "execution_count": 4,
      "metadata": {
        "gather": {
          "logged": 1674028210713
        }
      },
      "id": "9dfb88d4"
    },
    {
      "cell_type": "code",
      "source": [
        "idx_to_labels"
      ],
      "outputs": [
        {
          "output_type": "execute_result",
          "execution_count": 5,
          "data": {
            "text/plain": "{0: 'tench',\n 1: 'goldfish',\n 2: 'great_white_shark',\n 3: 'tiger_shark',\n 4: 'hammerhead',\n 5: 'electric_ray',\n 6: 'stingray',\n 7: 'cock',\n 8: 'hen',\n 9: 'ostrich',\n 10: 'brambling',\n 11: 'goldfinch',\n 12: 'house_finch',\n 13: 'junco',\n 14: 'indigo_bunting',\n 15: 'robin',\n 16: 'bulbul',\n 17: 'jay',\n 18: 'magpie',\n 19: 'chickadee',\n 20: 'water_ouzel',\n 21: 'kite',\n 22: 'bald_eagle',\n 23: 'vulture',\n 24: 'great_grey_owl',\n 25: 'European_fire_salamander',\n 26: 'common_newt',\n 27: 'eft',\n 28: 'spotted_salamander',\n 29: 'axolotl',\n 30: 'bullfrog',\n 31: 'tree_frog',\n 32: 'tailed_frog',\n 33: 'loggerhead',\n 34: 'leatherback_turtle',\n 35: 'mud_turtle',\n 36: 'terrapin',\n 37: 'box_turtle',\n 38: 'banded_gecko',\n 39: 'common_iguana',\n 40: 'American_chameleon',\n 41: 'whiptail',\n 42: 'agama',\n 43: 'frilled_lizard',\n 44: 'alligator_lizard',\n 45: 'Gila_monster',\n 46: 'green_lizard',\n 47: 'African_chameleon',\n 48: 'Komodo_dragon',\n 49: 'African_crocodile',\n 50: 'American_alligator',\n 51: 'triceratops',\n 52: 'thunder_snake',\n 53: 'ringneck_snake',\n 54: 'hognose_snake',\n 55: 'green_snake',\n 56: 'king_snake',\n 57: 'garter_snake',\n 58: 'water_snake',\n 59: 'vine_snake',\n 60: 'night_snake',\n 61: 'boa_constrictor',\n 62: 'rock_python',\n 63: 'Indian_cobra',\n 64: 'green_mamba',\n 65: 'sea_snake',\n 66: 'horned_viper',\n 67: 'diamondback',\n 68: 'sidewinder',\n 69: 'trilobite',\n 70: 'harvestman',\n 71: 'scorpion',\n 72: 'black_and_gold_garden_spider',\n 73: 'barn_spider',\n 74: 'garden_spider',\n 75: 'black_widow',\n 76: 'tarantula',\n 77: 'wolf_spider',\n 78: 'tick',\n 79: 'centipede',\n 80: 'black_grouse',\n 81: 'ptarmigan',\n 82: 'ruffed_grouse',\n 83: 'prairie_chicken',\n 84: 'peacock',\n 85: 'quail',\n 86: 'partridge',\n 87: 'African_grey',\n 88: 'macaw',\n 89: 'sulphur-crested_cockatoo',\n 90: 'lorikeet',\n 91: 'coucal',\n 92: 'bee_eater',\n 93: 'hornbill',\n 94: 'hummingbird',\n 95: 'jacamar',\n 96: 'toucan',\n 97: 'drake',\n 98: 'red-breasted_merganser',\n 99: 'goose',\n 100: 'black_swan',\n 101: 'tusker',\n 102: 'echidna',\n 103: 'platypus',\n 104: 'wallaby',\n 105: 'koala',\n 106: 'wombat',\n 107: 'jellyfish',\n 108: 'sea_anemone',\n 109: 'brain_coral',\n 110: 'flatworm',\n 111: 'nematode',\n 112: 'conch',\n 113: 'snail',\n 114: 'slug',\n 115: 'sea_slug',\n 116: 'chiton',\n 117: 'chambered_nautilus',\n 118: 'Dungeness_crab',\n 119: 'rock_crab',\n 120: 'fiddler_crab',\n 121: 'king_crab',\n 122: 'American_lobster',\n 123: 'spiny_lobster',\n 124: 'crayfish',\n 125: 'hermit_crab',\n 126: 'isopod',\n 127: 'white_stork',\n 128: 'black_stork',\n 129: 'spoonbill',\n 130: 'flamingo',\n 131: 'little_blue_heron',\n 132: 'American_egret',\n 133: 'bittern',\n 134: 'crane',\n 135: 'limpkin',\n 136: 'European_gallinule',\n 137: 'American_coot',\n 138: 'bustard',\n 139: 'ruddy_turnstone',\n 140: 'red-backed_sandpiper',\n 141: 'redshank',\n 142: 'dowitcher',\n 143: 'oystercatcher',\n 144: 'pelican',\n 145: 'king_penguin',\n 146: 'albatross',\n 147: 'grey_whale',\n 148: 'killer_whale',\n 149: 'dugong',\n 150: 'sea_lion',\n 151: 'Chihuahua',\n 152: 'Japanese_spaniel',\n 153: 'Maltese_dog',\n 154: 'Pekinese',\n 155: 'Shih-Tzu',\n 156: 'Blenheim_spaniel',\n 157: 'papillon',\n 158: 'toy_terrier',\n 159: 'Rhodesian_ridgeback',\n 160: 'Afghan_hound',\n 161: 'basset',\n 162: 'beagle',\n 163: 'bloodhound',\n 164: 'bluetick',\n 165: 'black-and-tan_coonhound',\n 166: 'Walker_hound',\n 167: 'English_foxhound',\n 168: 'redbone',\n 169: 'borzoi',\n 170: 'Irish_wolfhound',\n 171: 'Italian_greyhound',\n 172: 'whippet',\n 173: 'Ibizan_hound',\n 174: 'Norwegian_elkhound',\n 175: 'otterhound',\n 176: 'Saluki',\n 177: 'Scottish_deerhound',\n 178: 'Weimaraner',\n 179: 'Staffordshire_bullterrier',\n 180: 'American_Staffordshire_terrier',\n 181: 'Bedlington_terrier',\n 182: 'Border_terrier',\n 183: 'Kerry_blue_terrier',\n 184: 'Irish_terrier',\n 185: 'Norfolk_terrier',\n 186: 'Norwich_terrier',\n 187: 'Yorkshire_terrier',\n 188: 'wire-haired_fox_terrier',\n 189: 'Lakeland_terrier',\n 190: 'Sealyham_terrier',\n 191: 'Airedale',\n 192: 'cairn',\n 193: 'Australian_terrier',\n 194: 'Dandie_Dinmont',\n 195: 'Boston_bull',\n 196: 'miniature_schnauzer',\n 197: 'giant_schnauzer',\n 198: 'standard_schnauzer',\n 199: 'Scotch_terrier',\n 200: 'Tibetan_terrier',\n 201: 'silky_terrier',\n 202: 'soft-coated_wheaten_terrier',\n 203: 'West_Highland_white_terrier',\n 204: 'Lhasa',\n 205: 'flat-coated_retriever',\n 206: 'curly-coated_retriever',\n 207: 'golden_retriever',\n 208: 'Labrador_retriever',\n 209: 'Chesapeake_Bay_retriever',\n 210: 'German_short-haired_pointer',\n 211: 'vizsla',\n 212: 'English_setter',\n 213: 'Irish_setter',\n 214: 'Gordon_setter',\n 215: 'Brittany_spaniel',\n 216: 'clumber',\n 217: 'English_springer',\n 218: 'Welsh_springer_spaniel',\n 219: 'cocker_spaniel',\n 220: 'Sussex_spaniel',\n 221: 'Irish_water_spaniel',\n 222: 'kuvasz',\n 223: 'schipperke',\n 224: 'groenendael',\n 225: 'malinois',\n 226: 'briard',\n 227: 'kelpie',\n 228: 'komondor',\n 229: 'Old_English_sheepdog',\n 230: 'Shetland_sheepdog',\n 231: 'collie',\n 232: 'Border_collie',\n 233: 'Bouvier_des_Flandres',\n 234: 'Rottweiler',\n 235: 'German_shepherd',\n 236: 'Doberman',\n 237: 'miniature_pinscher',\n 238: 'Greater_Swiss_Mountain_dog',\n 239: 'Bernese_mountain_dog',\n 240: 'Appenzeller',\n 241: 'EntleBucher',\n 242: 'boxer',\n 243: 'bull_mastiff',\n 244: 'Tibetan_mastiff',\n 245: 'French_bulldog',\n 246: 'Great_Dane',\n 247: 'Saint_Bernard',\n 248: 'Eskimo_dog',\n 249: 'malamute',\n 250: 'Siberian_husky',\n 251: 'dalmatian',\n 252: 'affenpinscher',\n 253: 'basenji',\n 254: 'pug',\n 255: 'Leonberg',\n 256: 'Newfoundland',\n 257: 'Great_Pyrenees',\n 258: 'Samoyed',\n 259: 'Pomeranian',\n 260: 'chow',\n 261: 'keeshond',\n 262: 'Brabancon_griffon',\n 263: 'Pembroke',\n 264: 'Cardigan',\n 265: 'toy_poodle',\n 266: 'miniature_poodle',\n 267: 'standard_poodle',\n 268: 'Mexican_hairless',\n 269: 'timber_wolf',\n 270: 'white_wolf',\n 271: 'red_wolf',\n 272: 'coyote',\n 273: 'dingo',\n 274: 'dhole',\n 275: 'African_hunting_dog',\n 276: 'hyena',\n 277: 'red_fox',\n 278: 'kit_fox',\n 279: 'Arctic_fox',\n 280: 'grey_fox',\n 281: 'tabby',\n 282: 'tiger_cat',\n 283: 'Persian_cat',\n 284: 'Siamese_cat',\n 285: 'Egyptian_cat',\n 286: 'cougar',\n 287: 'lynx',\n 288: 'leopard',\n 289: 'snow_leopard',\n 290: 'jaguar',\n 291: 'lion',\n 292: 'tiger',\n 293: 'cheetah',\n 294: 'brown_bear',\n 295: 'American_black_bear',\n 296: 'ice_bear',\n 297: 'sloth_bear',\n 298: 'mongoose',\n 299: 'meerkat',\n 300: 'tiger_beetle',\n 301: 'ladybug',\n 302: 'ground_beetle',\n 303: 'long-horned_beetle',\n 304: 'leaf_beetle',\n 305: 'dung_beetle',\n 306: 'rhinoceros_beetle',\n 307: 'weevil',\n 308: 'fly',\n 309: 'bee',\n 310: 'ant',\n 311: 'grasshopper',\n 312: 'cricket',\n 313: 'walking_stick',\n 314: 'cockroach',\n 315: 'mantis',\n 316: 'cicada',\n 317: 'leafhopper',\n 318: 'lacewing',\n 319: 'dragonfly',\n 320: 'damselfly',\n 321: 'admiral',\n 322: 'ringlet',\n 323: 'monarch',\n 324: 'cabbage_butterfly',\n 325: 'sulphur_butterfly',\n 326: 'lycaenid',\n 327: 'starfish',\n 328: 'sea_urchin',\n 329: 'sea_cucumber',\n 330: 'wood_rabbit',\n 331: 'hare',\n 332: 'Angora',\n 333: 'hamster',\n 334: 'porcupine',\n 335: 'fox_squirrel',\n 336: 'marmot',\n 337: 'beaver',\n 338: 'guinea_pig',\n 339: 'sorrel',\n 340: 'zebra',\n 341: 'hog',\n 342: 'wild_boar',\n 343: 'warthog',\n 344: 'hippopotamus',\n 345: 'ox',\n 346: 'water_buffalo',\n 347: 'bison',\n 348: 'ram',\n 349: 'bighorn',\n 350: 'ibex',\n 351: 'hartebeest',\n 352: 'impala',\n 353: 'gazelle',\n 354: 'Arabian_camel',\n 355: 'llama',\n 356: 'weasel',\n 357: 'mink',\n 358: 'polecat',\n 359: 'black-footed_ferret',\n 360: 'otter',\n 361: 'skunk',\n 362: 'badger',\n 363: 'armadillo',\n 364: 'three-toed_sloth',\n 365: 'orangutan',\n 366: 'gorilla',\n 367: 'chimpanzee',\n 368: 'gibbon',\n 369: 'siamang',\n 370: 'guenon',\n 371: 'patas',\n 372: 'baboon',\n 373: 'macaque',\n 374: 'langur',\n 375: 'colobus',\n 376: 'proboscis_monkey',\n 377: 'marmoset',\n 378: 'capuchin',\n 379: 'howler_monkey',\n 380: 'titi',\n 381: 'spider_monkey',\n 382: 'squirrel_monkey',\n 383: 'Madagascar_cat',\n 384: 'indri',\n 385: 'Indian_elephant',\n 386: 'African_elephant',\n 387: 'lesser_panda',\n 388: 'giant_panda',\n 389: 'barracouta',\n 390: 'eel',\n 391: 'coho',\n 392: 'rock_beauty',\n 393: 'anemone_fish',\n 394: 'sturgeon',\n 395: 'gar',\n 396: 'lionfish',\n 397: 'puffer',\n 398: 'abacus',\n 399: 'abaya',\n 400: 'academic_gown',\n 401: 'accordion',\n 402: 'acoustic_guitar',\n 403: 'aircraft_carrier',\n 404: 'airliner',\n 405: 'airship',\n 406: 'altar',\n 407: 'ambulance',\n 408: 'amphibian',\n 409: 'analog_clock',\n 410: 'apiary',\n 411: 'apron',\n 412: 'ashcan',\n 413: 'assault_rifle',\n 414: 'backpack',\n 415: 'bakery',\n 416: 'balance_beam',\n 417: 'balloon',\n 418: 'ballpoint',\n 419: 'Band_Aid',\n 420: 'banjo',\n 421: 'bannister',\n 422: 'barbell',\n 423: 'barber_chair',\n 424: 'barbershop',\n 425: 'barn',\n 426: 'barometer',\n 427: 'barrel',\n 428: 'barrow',\n 429: 'baseball',\n 430: 'basketball',\n 431: 'bassinet',\n 432: 'bassoon',\n 433: 'bathing_cap',\n 434: 'bath_towel',\n 435: 'bathtub',\n 436: 'beach_wagon',\n 437: 'beacon',\n 438: 'beaker',\n 439: 'bearskin',\n 440: 'beer_bottle',\n 441: 'beer_glass',\n 442: 'bell_cote',\n 443: 'bib',\n 444: 'bicycle-built-for-two',\n 445: 'bikini',\n 446: 'binder',\n 447: 'binoculars',\n 448: 'birdhouse',\n 449: 'boathouse',\n 450: 'bobsled',\n 451: 'bolo_tie',\n 452: 'bonnet',\n 453: 'bookcase',\n 454: 'bookshop',\n 455: 'bottlecap',\n 456: 'bow',\n 457: 'bow_tie',\n 458: 'brass',\n 459: 'brassiere',\n 460: 'breakwater',\n 461: 'breastplate',\n 462: 'broom',\n 463: 'bucket',\n 464: 'buckle',\n 465: 'bulletproof_vest',\n 466: 'bullet_train',\n 467: 'butcher_shop',\n 468: 'cab',\n 469: 'caldron',\n 470: 'candle',\n 471: 'cannon',\n 472: 'canoe',\n 473: 'can_opener',\n 474: 'cardigan',\n 475: 'car_mirror',\n 476: 'carousel',\n 477: \"carpenter's_kit\",\n 478: 'carton',\n 479: 'car_wheel',\n 480: 'cash_machine',\n 481: 'cassette',\n 482: 'cassette_player',\n 483: 'castle',\n 484: 'catamaran',\n 485: 'CD_player',\n 486: 'cello',\n 487: 'cellular_telephone',\n 488: 'chain',\n 489: 'chainlink_fence',\n 490: 'chain_mail',\n 491: 'chain_saw',\n 492: 'chest',\n 493: 'chiffonier',\n 494: 'chime',\n 495: 'china_cabinet',\n 496: 'Christmas_stocking',\n 497: 'church',\n 498: 'cinema',\n 499: 'cleaver',\n 500: 'cliff_dwelling',\n 501: 'cloak',\n 502: 'clog',\n 503: 'cocktail_shaker',\n 504: 'coffee_mug',\n 505: 'coffeepot',\n 506: 'coil',\n 507: 'combination_lock',\n 508: 'computer_keyboard',\n 509: 'confectionery',\n 510: 'container_ship',\n 511: 'convertible',\n 512: 'corkscrew',\n 513: 'cornet',\n 514: 'cowboy_boot',\n 515: 'cowboy_hat',\n 516: 'cradle',\n 517: 'crane',\n 518: 'crash_helmet',\n 519: 'crate',\n 520: 'crib',\n 521: 'Crock_Pot',\n 522: 'croquet_ball',\n 523: 'crutch',\n 524: 'cuirass',\n 525: 'dam',\n 526: 'desk',\n 527: 'desktop_computer',\n 528: 'dial_telephone',\n 529: 'diaper',\n 530: 'digital_clock',\n 531: 'digital_watch',\n 532: 'dining_table',\n 533: 'dishrag',\n 534: 'dishwasher',\n 535: 'disk_brake',\n 536: 'dock',\n 537: 'dogsled',\n 538: 'dome',\n 539: 'doormat',\n 540: 'drilling_platform',\n 541: 'drum',\n 542: 'drumstick',\n 543: 'dumbbell',\n 544: 'Dutch_oven',\n 545: 'electric_fan',\n 546: 'electric_guitar',\n 547: 'electric_locomotive',\n 548: 'entertainment_center',\n 549: 'envelope',\n 550: 'espresso_maker',\n 551: 'face_powder',\n 552: 'feather_boa',\n 553: 'file',\n 554: 'fireboat',\n 555: 'fire_engine',\n 556: 'fire_screen',\n 557: 'flagpole',\n 558: 'flute',\n 559: 'folding_chair',\n 560: 'football_helmet',\n 561: 'forklift',\n 562: 'fountain',\n 563: 'fountain_pen',\n 564: 'four-poster',\n 565: 'freight_car',\n 566: 'French_horn',\n 567: 'frying_pan',\n 568: 'fur_coat',\n 569: 'garbage_truck',\n 570: 'gasmask',\n 571: 'gas_pump',\n 572: 'goblet',\n 573: 'go-kart',\n 574: 'golf_ball',\n 575: 'golfcart',\n 576: 'gondola',\n 577: 'gong',\n 578: 'gown',\n 579: 'grand_piano',\n 580: 'greenhouse',\n 581: 'grille',\n 582: 'grocery_store',\n 583: 'guillotine',\n 584: 'hair_slide',\n 585: 'hair_spray',\n 586: 'half_track',\n 587: 'hammer',\n 588: 'hamper',\n 589: 'hand_blower',\n 590: 'hand-held_computer',\n 591: 'handkerchief',\n 592: 'hard_disc',\n 593: 'harmonica',\n 594: 'harp',\n 595: 'harvester',\n 596: 'hatchet',\n 597: 'holster',\n 598: 'home_theater',\n 599: 'honeycomb',\n 600: 'hook',\n 601: 'hoopskirt',\n 602: 'horizontal_bar',\n 603: 'horse_cart',\n 604: 'hourglass',\n 605: 'iPod',\n 606: 'iron',\n 607: \"jack-o'-lantern\",\n 608: 'jean',\n 609: 'jeep',\n 610: 'jersey',\n 611: 'jigsaw_puzzle',\n 612: 'jinrikisha',\n 613: 'joystick',\n 614: 'kimono',\n 615: 'knee_pad',\n 616: 'knot',\n 617: 'lab_coat',\n 618: 'ladle',\n 619: 'lampshade',\n 620: 'laptop',\n 621: 'lawn_mower',\n 622: 'lens_cap',\n 623: 'letter_opener',\n 624: 'library',\n 625: 'lifeboat',\n 626: 'lighter',\n 627: 'limousine',\n 628: 'liner',\n 629: 'lipstick',\n 630: 'Loafer',\n 631: 'lotion',\n 632: 'loudspeaker',\n 633: 'loupe',\n 634: 'lumbermill',\n 635: 'magnetic_compass',\n 636: 'mailbag',\n 637: 'mailbox',\n 638: 'maillot',\n 639: 'maillot',\n 640: 'manhole_cover',\n 641: 'maraca',\n 642: 'marimba',\n 643: 'mask',\n 644: 'matchstick',\n 645: 'maypole',\n 646: 'maze',\n 647: 'measuring_cup',\n 648: 'medicine_chest',\n 649: 'megalith',\n 650: 'microphone',\n 651: 'microwave',\n 652: 'military_uniform',\n 653: 'milk_can',\n 654: 'minibus',\n 655: 'miniskirt',\n 656: 'minivan',\n 657: 'missile',\n 658: 'mitten',\n 659: 'mixing_bowl',\n 660: 'mobile_home',\n 661: 'Model_T',\n 662: 'modem',\n 663: 'monastery',\n 664: 'monitor',\n 665: 'moped',\n 666: 'mortar',\n 667: 'mortarboard',\n 668: 'mosque',\n 669: 'mosquito_net',\n 670: 'motor_scooter',\n 671: 'mountain_bike',\n 672: 'mountain_tent',\n 673: 'mouse',\n 674: 'mousetrap',\n 675: 'moving_van',\n 676: 'muzzle',\n 677: 'nail',\n 678: 'neck_brace',\n 679: 'necklace',\n 680: 'nipple',\n 681: 'notebook',\n 682: 'obelisk',\n 683: 'oboe',\n 684: 'ocarina',\n 685: 'odometer',\n 686: 'oil_filter',\n 687: 'organ',\n 688: 'oscilloscope',\n 689: 'overskirt',\n 690: 'oxcart',\n 691: 'oxygen_mask',\n 692: 'packet',\n 693: 'paddle',\n 694: 'paddlewheel',\n 695: 'padlock',\n 696: 'paintbrush',\n 697: 'pajama',\n 698: 'palace',\n 699: 'panpipe',\n 700: 'paper_towel',\n 701: 'parachute',\n 702: 'parallel_bars',\n 703: 'park_bench',\n 704: 'parking_meter',\n 705: 'passenger_car',\n 706: 'patio',\n 707: 'pay-phone',\n 708: 'pedestal',\n 709: 'pencil_box',\n 710: 'pencil_sharpener',\n 711: 'perfume',\n 712: 'Petri_dish',\n 713: 'photocopier',\n 714: 'pick',\n 715: 'pickelhaube',\n 716: 'picket_fence',\n 717: 'pickup',\n 718: 'pier',\n 719: 'piggy_bank',\n 720: 'pill_bottle',\n 721: 'pillow',\n 722: 'ping-pong_ball',\n 723: 'pinwheel',\n 724: 'pirate',\n 725: 'pitcher',\n 726: 'plane',\n 727: 'planetarium',\n 728: 'plastic_bag',\n 729: 'plate_rack',\n 730: 'plow',\n 731: 'plunger',\n 732: 'Polaroid_camera',\n 733: 'pole',\n 734: 'police_van',\n 735: 'poncho',\n 736: 'pool_table',\n 737: 'pop_bottle',\n 738: 'pot',\n 739: \"potter's_wheel\",\n 740: 'power_drill',\n 741: 'prayer_rug',\n 742: 'printer',\n 743: 'prison',\n 744: 'projectile',\n 745: 'projector',\n 746: 'puck',\n 747: 'punching_bag',\n 748: 'purse',\n 749: 'quill',\n 750: 'quilt',\n 751: 'racer',\n 752: 'racket',\n 753: 'radiator',\n 754: 'radio',\n 755: 'radio_telescope',\n 756: 'rain_barrel',\n 757: 'recreational_vehicle',\n 758: 'reel',\n 759: 'reflex_camera',\n 760: 'refrigerator',\n 761: 'remote_control',\n 762: 'restaurant',\n 763: 'revolver',\n 764: 'rifle',\n 765: 'rocking_chair',\n 766: 'rotisserie',\n 767: 'rubber_eraser',\n 768: 'rugby_ball',\n 769: 'rule',\n 770: 'running_shoe',\n 771: 'safe',\n 772: 'safety_pin',\n 773: 'saltshaker',\n 774: 'sandal',\n 775: 'sarong',\n 776: 'sax',\n 777: 'scabbard',\n 778: 'scale',\n 779: 'school_bus',\n 780: 'schooner',\n 781: 'scoreboard',\n 782: 'screen',\n 783: 'screw',\n 784: 'screwdriver',\n 785: 'seat_belt',\n 786: 'sewing_machine',\n 787: 'shield',\n 788: 'shoe_shop',\n 789: 'shoji',\n 790: 'shopping_basket',\n 791: 'shopping_cart',\n 792: 'shovel',\n 793: 'shower_cap',\n 794: 'shower_curtain',\n 795: 'ski',\n 796: 'ski_mask',\n 797: 'sleeping_bag',\n 798: 'slide_rule',\n 799: 'sliding_door',\n 800: 'slot',\n 801: 'snorkel',\n 802: 'snowmobile',\n 803: 'snowplow',\n 804: 'soap_dispenser',\n 805: 'soccer_ball',\n 806: 'sock',\n 807: 'solar_dish',\n 808: 'sombrero',\n 809: 'soup_bowl',\n 810: 'space_bar',\n 811: 'space_heater',\n 812: 'space_shuttle',\n 813: 'spatula',\n 814: 'speedboat',\n 815: 'spider_web',\n 816: 'spindle',\n 817: 'sports_car',\n 818: 'spotlight',\n 819: 'stage',\n 820: 'steam_locomotive',\n 821: 'steel_arch_bridge',\n 822: 'steel_drum',\n 823: 'stethoscope',\n 824: 'stole',\n 825: 'stone_wall',\n 826: 'stopwatch',\n 827: 'stove',\n 828: 'strainer',\n 829: 'streetcar',\n 830: 'stretcher',\n 831: 'studio_couch',\n 832: 'stupa',\n 833: 'submarine',\n 834: 'suit',\n 835: 'sundial',\n 836: 'sunglass',\n 837: 'sunglasses',\n 838: 'sunscreen',\n 839: 'suspension_bridge',\n 840: 'swab',\n 841: 'sweatshirt',\n 842: 'swimming_trunks',\n 843: 'swing',\n 844: 'switch',\n 845: 'syringe',\n 846: 'table_lamp',\n 847: 'tank',\n 848: 'tape_player',\n 849: 'teapot',\n 850: 'teddy',\n 851: 'television',\n 852: 'tennis_ball',\n 853: 'thatch',\n 854: 'theater_curtain',\n 855: 'thimble',\n 856: 'thresher',\n 857: 'throne',\n 858: 'tile_roof',\n 859: 'toaster',\n 860: 'tobacco_shop',\n 861: 'toilet_seat',\n 862: 'torch',\n 863: 'totem_pole',\n 864: 'tow_truck',\n 865: 'toyshop',\n 866: 'tractor',\n 867: 'trailer_truck',\n 868: 'tray',\n 869: 'trench_coat',\n 870: 'tricycle',\n 871: 'trimaran',\n 872: 'tripod',\n 873: 'triumphal_arch',\n 874: 'trolleybus',\n 875: 'trombone',\n 876: 'tub',\n 877: 'turnstile',\n 878: 'typewriter_keyboard',\n 879: 'umbrella',\n 880: 'unicycle',\n 881: 'upright',\n 882: 'vacuum',\n 883: 'vase',\n 884: 'vault',\n 885: 'velvet',\n 886: 'vending_machine',\n 887: 'vestment',\n 888: 'viaduct',\n 889: 'violin',\n 890: 'volleyball',\n 891: 'waffle_iron',\n 892: 'wall_clock',\n 893: 'wallet',\n 894: 'wardrobe',\n 895: 'warplane',\n 896: 'washbasin',\n 897: 'washer',\n 898: 'water_bottle',\n 899: 'water_jug',\n 900: 'water_tower',\n 901: 'whiskey_jug',\n 902: 'whistle',\n 903: 'wig',\n 904: 'window_screen',\n 905: 'window_shade',\n 906: 'Windsor_tie',\n 907: 'wine_bottle',\n 908: 'wing',\n 909: 'wok',\n 910: 'wooden_spoon',\n 911: 'wool',\n 912: 'worm_fence',\n 913: 'wreck',\n 914: 'yawl',\n 915: 'yurt',\n 916: 'web_site',\n 917: 'comic_book',\n 918: 'crossword_puzzle',\n 919: 'street_sign',\n 920: 'traffic_light',\n 921: 'book_jacket',\n 922: 'menu',\n 923: 'plate',\n 924: 'guacamole',\n 925: 'consomme',\n 926: 'hot_pot',\n 927: 'trifle',\n 928: 'ice_cream',\n 929: 'ice_lolly',\n 930: 'French_loaf',\n 931: 'bagel',\n 932: 'pretzel',\n 933: 'cheeseburger',\n 934: 'hotdog',\n 935: 'mashed_potato',\n 936: 'head_cabbage',\n 937: 'broccoli',\n 938: 'cauliflower',\n 939: 'zucchini',\n 940: 'spaghetti_squash',\n 941: 'acorn_squash',\n 942: 'butternut_squash',\n 943: 'cucumber',\n 944: 'artichoke',\n 945: 'bell_pepper',\n 946: 'cardoon',\n 947: 'mushroom',\n 948: 'Granny_Smith',\n 949: 'strawberry',\n 950: 'orange',\n 951: 'lemon',\n 952: 'fig',\n 953: 'pineapple',\n 954: 'banana',\n 955: 'jackfruit',\n 956: 'custard_apple',\n 957: 'pomegranate',\n 958: 'hay',\n 959: 'carbonara',\n 960: 'chocolate_sauce',\n 961: 'dough',\n 962: 'meat_loaf',\n 963: 'pizza',\n 964: 'potpie',\n 965: 'burrito',\n 966: 'red_wine',\n 967: 'espresso',\n 968: 'cup',\n 969: 'eggnog',\n 970: 'alp',\n 971: 'bubble',\n 972: 'cliff',\n 973: 'coral_reef',\n 974: 'geyser',\n 975: 'lakeside',\n 976: 'promontory',\n 977: 'sandbar',\n 978: 'seashore',\n 979: 'valley',\n 980: 'volcano',\n 981: 'ballplayer',\n 982: 'groom',\n 983: 'scuba_diver',\n 984: 'rapeseed',\n 985: 'daisy',\n 986: \"yellow_lady's_slipper\",\n 987: 'corn',\n 988: 'acorn',\n 989: 'hip',\n 990: 'buckeye',\n 991: 'coral_fungus',\n 992: 'agaric',\n 993: 'gyromitra',\n 994: 'stinkhorn',\n 995: 'earthstar',\n 996: 'hen-of-the-woods',\n 997: 'bolete',\n 998: 'ear',\n 999: 'toilet_tissue'}"
          },
          "metadata": {}
        }
      ],
      "execution_count": 5,
      "metadata": {
        "gather": {
          "logged": 1674028246824
        }
      },
      "id": "8c04bd41"
    },
    {
      "cell_type": "markdown",
      "source": [
        "## 图像预处理"
      ],
      "metadata": {},
      "id": "dec1d82d"
    },
    {
      "cell_type": "code",
      "source": [
        "from torchvision import transforms\n",
        "\n",
        "# 测试集图像预处理-RCTN：缩放裁剪、转 Tensor、归一化\n",
        "test_transform = transforms.Compose([transforms.Resize(256),\n",
        "                                     transforms.CenterCrop(224),\n",
        "                                     transforms.ToTensor(),\n",
        "                                     transforms.Normalize(\n",
        "                                         mean=[0.485, 0.456, 0.406], \n",
        "                                         std=[0.229, 0.224, 0.225])\n",
        "                                    ])"
      ],
      "outputs": [],
      "execution_count": 6,
      "metadata": {
        "gather": {
          "logged": 1674028289001
        }
      },
      "id": "015211e9"
    },
    {
      "cell_type": "markdown",
      "source": [
        "## 获取摄像头的一帧画面"
      ],
      "metadata": {},
      "id": "d662f19c"
    },
    {
      "cell_type": "code",
      "source": [
        "# 导入opencv-python\n",
        "import cv2\n",
        "import time\n",
        "\n",
        "# 获取摄像头，传入0表示获取系统默认摄像头\n",
        "cap = cv2.VideoCapture(1)\n",
        "\n",
        "# 打开cap\n",
        "cap.open(0)\n",
        "\n",
        "time.sleep(1)\n",
        "\n",
        "success, img_bgr = cap.read()\n",
        "    \n",
        "# 关闭摄像头\n",
        "cap.release()\n",
        "\n",
        "# 关闭图像窗口\n",
        "cv2.destroyAllWindows()"
      ],
      "outputs": [
        {
          "output_type": "stream",
          "name": "stderr",
          "text": "[ WARN:0@95.617] global cap_v4l.cpp:982 open VIDEOIO(V4L2:/dev/video1): can't open camera by index\n[ERROR:0@95.617] global obsensor_uvc_stream_channel.cpp:156 getStreamChannelGroup Camera index out of range\n[ WARN:0@95.618] global cap_v4l.cpp:982 open VIDEOIO(V4L2:/dev/video0): can't open camera by index\n[ERROR:0@95.618] global obsensor_uvc_stream_channel.cpp:156 getStreamChannelGroup Camera index out of range\n"
        }
      ],
      "execution_count": 7,
      "metadata": {
        "gather": {
          "logged": 1674028291894
        }
      },
      "id": "30d5229a"
    },
    {
      "cell_type": "code",
      "source": [
        "img_bgr.shape"
      ],
      "outputs": [],
      "execution_count": null,
      "metadata": {
        "gather": {
          "logged": 1674028294092
        }
      },
      "id": "2b5fd913"
    },
    {
      "cell_type": "code",
      "source": [
        "img_rgb = cv2.cvtColor(img_bgr, cv2.COLOR_BGR2RGB) # BGR转RGB"
      ],
      "outputs": [],
      "execution_count": 11,
      "metadata": {},
      "id": "7dd981da"
    },
    {
      "cell_type": "code",
      "source": [
        "img_pil = Image.fromarray(img_rgb)"
      ],
      "outputs": [],
      "execution_count": 12,
      "metadata": {},
      "id": "ed3f4022"
    },
    {
      "cell_type": "code",
      "source": [
        "img_pil"
      ],
      "outputs": [],
      "execution_count": null,
      "metadata": {},
      "id": "92095197"
    },
    {
      "cell_type": "code",
      "source": [
        "input_img = test_transform(img_pil).unsqueeze(0).to(device) # 预处理"
      ],
      "outputs": [],
      "execution_count": 14,
      "metadata": {},
      "id": "f5c3ccf3"
    },
    {
      "cell_type": "code",
      "source": [
        "input_img.shape"
      ],
      "outputs": [
        {
          "output_type": "execute_result",
          "execution_count": 15,
          "data": {
            "text/plain": "torch.Size([1, 3, 224, 224])"
          },
          "metadata": {}
        }
      ],
      "execution_count": 15,
      "metadata": {},
      "id": "45f98945"
    },
    {
      "cell_type": "code",
      "source": [
        "pred_logits = model(input_img) # 执行前向预测，得到所有类别的 logit 预测分数\n",
        "pred_softmax = F.softmax(pred_logits, dim=1) # 对 logit 分数做 softmax 运算"
      ],
      "outputs": [],
      "execution_count": 16,
      "metadata": {},
      "id": "dbb262ad"
    },
    {
      "cell_type": "code",
      "source": [
        "n = 5"
      ],
      "outputs": [],
      "execution_count": 17,
      "metadata": {},
      "id": "d4e31646"
    },
    {
      "cell_type": "code",
      "source": [
        "top_n = torch.topk(pred_softmax, n) # 取置信度最大的 n 个结果"
      ],
      "outputs": [],
      "execution_count": 18,
      "metadata": {},
      "id": "0d21fa22"
    },
    {
      "cell_type": "code",
      "source": [
        "confs = top_n[0].cpu().detach().numpy().squeeze()"
      ],
      "outputs": [],
      "execution_count": 19,
      "metadata": {},
      "id": "438573a9"
    },
    {
      "cell_type": "code",
      "source": [
        "confs"
      ],
      "outputs": [
        {
          "output_type": "execute_result",
          "execution_count": 20,
          "data": {
            "text/plain": "array([0.07187931, 0.05447301, 0.05060318, 0.03974674, 0.0340406 ],\n      dtype=float32)"
          },
          "metadata": {}
        }
      ],
      "execution_count": 20,
      "metadata": {},
      "id": "e9d67cef"
    },
    {
      "cell_type": "code",
      "source": [
        "pred_ids = top_n[1].cpu().detach().numpy().squeeze()"
      ],
      "outputs": [],
      "execution_count": 21,
      "metadata": {},
      "id": "c0f4a058"
    },
    {
      "cell_type": "code",
      "source": [
        "pred_ids"
      ],
      "outputs": [
        {
          "output_type": "execute_result",
          "execution_count": 22,
          "data": {
            "text/plain": "array([834, 457, 837, 785, 617])"
          },
          "metadata": {}
        }
      ],
      "execution_count": 22,
      "metadata": {},
      "id": "2448e7de"
    },
    {
      "cell_type": "code",
      "source": [
        "for i in range(len(confs)):\n",
        "    pred_class = idx_to_labels[pred_ids[i]]\n",
        "    text = '{:<15} {:>.3f}'.format(pred_class, confs[i])\n",
        "    \n",
        "    # 图片，添加的文字，左上角坐标，字体，字体大小，颜色，线宽，线型\n",
        "    img_bgr = cv2.putText(img_bgr, text, (50, 80 + 80 * i), cv2.FONT_HERSHEY_SIMPLEX, 2.5, (0, 0, 255), 5, cv2.LINE_AA)\n",
        "    "
      ],
      "outputs": [],
      "execution_count": 23,
      "metadata": {},
      "id": "b50e4c19"
    },
    {
      "cell_type": "code",
      "source": [
        "img_rgb = cv2.cvtColor(img_bgr, cv2.COLOR_BGR2RGB) # BGR转RGB\n",
        "plt.imshow(img_rgb)\n",
        "plt.show()"
      ],
      "outputs": [],
      "execution_count": null,
      "metadata": {},
      "id": "046948e2"
    },
    {
      "cell_type": "markdown",
      "source": [
        "## 处理单帧画面的函数（英文）"
      ],
      "metadata": {},
      "id": "89652b74"
    },
    {
      "cell_type": "code",
      "source": [
        "# 处理帧函数\n",
        "def process_frame(img):\n",
        "    \n",
        "    '''\n",
        "    输入摄像头拍摄画面bgr-array，输出图像分类预测结果bgr-array\n",
        "    '''\n",
        "    \n",
        "    # 记录该帧开始处理的时间\n",
        "    start_time = time.time()\n",
        "    \n",
        "    img_rgb = cv2.cvtColor(img, cv2.COLOR_BGR2RGB) # BGR转RGB\n",
        "    img_pil = Image.fromarray(img_rgb) # array 转 PIL\n",
        "    input_img = test_transform(img_pil).unsqueeze(0).to(device) # 预处理\n",
        "    pred_logits = model(input_img) # 执行前向预测，得到所有类别的 logit 预测分数\n",
        "    pred_softmax = F.softmax(pred_logits, dim=1) # 对 logit 分数做 softmax 运算\n",
        "    \n",
        "    top_n = torch.topk(pred_softmax, 5) # 取置信度最大的 n 个结果\n",
        "    pred_ids = top_n[1].cpu().detach().numpy().squeeze() # 解析预测类别\n",
        "    confs = top_n[0].cpu().detach().numpy().squeeze() # 解析置信度\n",
        "    \n",
        "    # 在图像上写字\n",
        "    for i in range(len(confs)):\n",
        "        pred_class = idx_to_labels[pred_ids[i]]\n",
        "        text = '{:<15} {:>.3f}'.format(pred_class, confs[i])\n",
        "\n",
        "        # 图片，添加的文字，左上角坐标，字体，字体大小，颜色，线宽，线型\n",
        "        img = cv2.putText(img, text, (50, 160 + 80 * i), cv2.FONT_HERSHEY_SIMPLEX, 2, (0, 0, 255), 4, cv2.LINE_AA)\n",
        "    \n",
        "    # 记录该帧处理完毕的时间\n",
        "    end_time = time.time()\n",
        "    # 计算每秒处理图像帧数FPS\n",
        "    FPS = 1/(end_time - start_time)  \n",
        "    # 图片，添加的文字，左上角坐标，字体，字体大小，颜色，线宽，线型\n",
        "    img = cv2.putText(img, 'FPS  '+str(int(FPS)), (50, 80), cv2.FONT_HERSHEY_SIMPLEX, 2, (255, 0, 255), 4, cv2.LINE_AA)\n",
        "\n",
        "    return img"
      ],
      "outputs": [],
      "execution_count": 17,
      "metadata": {},
      "id": "c1dbd134"
    },
    {
      "cell_type": "markdown",
      "source": [
        "## 调用摄像头获取每帧（模板）"
      ],
      "metadata": {},
      "id": "06b27853"
    },
    {
      "cell_type": "code",
      "source": [
        "# 调用摄像头逐帧实时处理模板\n",
        "# 不需修改任何代码，只需修改process_frame函数即可\n",
        "# 同济子豪兄 2021-7-8\n",
        "\n",
        "# 导入opencv-python\n",
        "import cv2\n",
        "import time\n",
        "\n",
        "# 获取摄像头，传入0表示获取系统默认摄像头\n",
        "cap = cv2.VideoCapture(1)\n",
        "\n",
        "# 打开cap\n",
        "cap.open(0)\n",
        "\n",
        "# 无限循环，直到break被触发\n",
        "while cap.isOpened():\n",
        "    # 获取画面\n",
        "    success, frame = cap.read()\n",
        "    if not success:\n",
        "        print('Error')\n",
        "        break\n",
        "    \n",
        "    ## !!!处理帧函数\n",
        "    frame = process_frame(frame)\n",
        "    \n",
        "    # 展示处理后的三通道图像\n",
        "    cv2.imshow('my_window',frame)\n",
        "\n",
        "    if cv2.waitKey(1) in [ord('q'),27]: # 按键盘上的q或esc退出（在英文输入法下）\n",
        "        break\n",
        "    \n",
        "# 关闭摄像头\n",
        "cap.release()\n",
        "\n",
        "# 关闭图像窗口\n",
        "cv2.destroyAllWindows()"
      ],
      "outputs": [],
      "execution_count": 18,
      "metadata": {},
      "id": "d1fa0d80"
    },
    {
      "cell_type": "code",
      "source": [],
      "outputs": [],
      "execution_count": null,
      "metadata": {},
      "id": "3b717dd4"
    }
  ],
  "metadata": {
    "kernelspec": {
      "name": "python3",
      "language": "python",
      "display_name": "Python 3 (ipykernel)"
    },
    "language_info": {
      "name": "python",
      "version": "3.8.5",
      "mimetype": "text/x-python",
      "codemirror_mode": {
        "name": "ipython",
        "version": 3
      },
      "pygments_lexer": "ipython3",
      "nbconvert_exporter": "python",
      "file_extension": ".py"
    },
    "kernel_info": {
      "name": "python3"
    },
    "nteract": {
      "version": "nteract-front-end@1.0.0"
    }
  },
  "nbformat": 4,
  "nbformat_minor": 5
}