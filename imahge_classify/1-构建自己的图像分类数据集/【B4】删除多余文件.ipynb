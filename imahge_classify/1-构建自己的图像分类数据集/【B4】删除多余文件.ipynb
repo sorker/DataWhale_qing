{
 "cells": [
  {
   "cell_type": "markdown",
   "source": [
    "# 删除多余文件\n",
    "\n",
    "同济子豪兄 https://space.bilibili.com/1900783\n",
    "\n",
    "2022-8-1"
   ],
   "metadata": {
    "pycharm": {
     "name": "#%% md\n"
    }
   },
   "id": "a59772a4-7398-4b67-9599-65b9f8a17e11"
  },
  {
   "cell_type": "markdown",
   "source": [
    "## 导入工具包"
   ],
   "metadata": {
    "pycharm": {
     "name": "#%% md\n"
    }
   },
   "id": "185dec06-1393-4d41-b1a2-25080381e7bf"
  },
  {
   "cell_type": "code",
   "source": [
    "import os\n",
    "import cv2\n",
    "from tqdm import tqdm"
   ],
   "outputs": [
    {
     "ename": "ModuleNotFoundError",
     "evalue": "No module named 'cv2'",
     "output_type": "error",
     "traceback": [
      "\u001B[1;31m---------------------------------------------------------------------------\u001B[0m",
      "\u001B[1;31mModuleNotFoundError\u001B[0m                       Traceback (most recent call last)",
      "Cell \u001B[1;32mIn[1], line 2\u001B[0m\n\u001B[0;32m      1\u001B[0m \u001B[38;5;28;01mimport\u001B[39;00m \u001B[38;5;21;01mos\u001B[39;00m\n\u001B[1;32m----> 2\u001B[0m \u001B[38;5;28;01mimport\u001B[39;00m \u001B[38;5;21;01mcv2\u001B[39;00m\n\u001B[0;32m      3\u001B[0m \u001B[38;5;28;01mfrom\u001B[39;00m \u001B[38;5;21;01mtqdm\u001B[39;00m \u001B[38;5;28;01mimport\u001B[39;00m tqdm\n",
      "\u001B[1;31mModuleNotFoundError\u001B[0m: No module named 'cv2'"
     ]
    }
   ],
   "execution_count": 1,
   "metadata": {
    "gather": {
     "logged": 1673937719266
    },
    "pycharm": {
     "name": "#%%\n"
    }
   },
   "id": "60e25bcc-d14e-4393-89d3-0c01d228e02d"
  },
  {
   "cell_type": "markdown",
   "source": [
    "## 准备样例数据集"
   ],
   "metadata": {
    "pycharm": {
     "name": "#%% md\n"
    }
   },
   "id": "9d037d57-2676-46d0-8d93-cd0be7c3005c"
  },
  {
   "cell_type": "code",
   "source": [
    "# 下载测试数据集压缩包\n",
    "!wget https://zihao-openmmlab.obs.cn-east-3.myhuaweicloud.com/20220716-mmclassification/dataset/dataset_delete_test.zip"
   ],
   "outputs": [
    {
     "output_type": "stream",
     "name": "stdout",
     "text": "--2023-01-17 06:41:59--  https://zihao-openmmlab.obs.cn-east-3.myhuaweicloud.com/20220716-mmclassification/dataset/dataset_delete_test.zip\nResolving zihao-openmmlab.obs.cn-east-3.myhuaweicloud.com (zihao-openmmlab.obs.cn-east-3.myhuaweicloud.com)... 121.36.235.132\nConnecting to zihao-openmmlab.obs.cn-east-3.myhuaweicloud.com (zihao-openmmlab.obs.cn-east-3.myhuaweicloud.com)|121.36.235.132|:443... connected.\nHTTP request sent, awaiting response... 200 OK\nLength: 29954078 (29M) [application/zip]\nSaving to: ‘dataset_delete_test.zip’\n\ndataset_delete_test 100%[===================>]  28.57M  9.05MB/s    in 3.4s    \n\n2023-01-17 06:42:04 (8.34 MB/s) - ‘dataset_delete_test.zip’ saved [29954078/29954078]\n\n"
    }
   ],
   "execution_count": 2,
   "metadata": {
    "gather": {
     "logged": 1673937724995
    },
    "pycharm": {
     "name": "#%%\n"
    }
   },
   "id": "380ea21d-89be-43dd-a98a-b16262ea6392"
  },
  {
   "cell_type": "code",
   "source": [
    "# 解压\n",
    "!unzip dataset_delete_test.zip >> /dev/null"
   ],
   "outputs": [],
   "execution_count": 3,
   "metadata": {
    "gather": {
     "logged": 1673937797927
    },
    "pycharm": {
     "name": "#%%\n"
    }
   },
   "id": "36dae75b-8263-4dce-8a77-02870947c148"
  },
  {
   "cell_type": "markdown",
   "source": [
    "## 删除系统自动生成的多余文件\n",
    "\n",
    "建议在 Linux 系统中运行爬虫、划分训练集测试集代码"
   ],
   "metadata": {
    "pycharm": {
     "name": "#%% md\n"
    }
   },
   "id": "58043e9d-25f4-419c-8d0e-27d2e0aa723f"
  },
  {
   "cell_type": "markdown",
   "source": [
    "### 查看待删除的多余文件"
   ],
   "metadata": {
    "pycharm": {
     "name": "#%% md\n"
    }
   },
   "id": "59f1d609-3983-45e5-beeb-b96f1c438295"
  },
  {
   "cell_type": "code",
   "source": [
    "!find . -iname '__MACOSX'"
   ],
   "outputs": [
    {
     "name": "stderr",
     "output_type": "stream",
     "text": [
      "FIND: 参数格式不正确\n"
     ]
    }
   ],
   "execution_count": 1,
   "metadata": {
    "pycharm": {
     "name": "#%%\n"
    }
   },
   "id": "a8356247-4b89-42e9-aa87-4c630f05e1f8"
  },
  {
   "cell_type": "code",
   "source": [
    "!find . -iname '.DS_Store'"
   ],
   "outputs": [],
   "execution_count": 16,
   "metadata": {
    "pycharm": {
     "name": "#%%\n"
    }
   },
   "id": "a1b64d9d-bdf8-43fe-8321-bb6d241137dc"
  },
  {
   "cell_type": "code",
   "source": [
    "!find . -iname '.ipynb_checkpoints'"
   ],
   "outputs": [
    {
     "output_type": "stream",
     "name": "stdout",
     "text": "./.ipynb_checkpoints\n"
    }
   ],
   "execution_count": 17,
   "metadata": {
    "pycharm": {
     "name": "#%%\n"
    }
   },
   "id": "a5f038c2-72ba-4724-a190-b2ec97d8bcf0"
  },
  {
   "cell_type": "code",
   "source": [
    "'.DS_Store' in os.listdir('dataset_delete_test/芒果')"
   ],
   "outputs": [
    {
     "output_type": "execute_result",
     "execution_count": 9,
     "data": {
      "text/plain": "True"
     },
     "metadata": {}
    }
   ],
   "execution_count": 9,
   "metadata": {
    "pycharm": {
     "name": "#%%\n"
    }
   },
   "id": "e524530c-75f8-4326-92bf-4d54d6a6b55d"
  },
  {
   "cell_type": "markdown",
   "source": [
    "### 删除多余文件"
   ],
   "metadata": {
    "pycharm": {
     "name": "#%% md\n"
    }
   },
   "id": "c9db2572-5a40-4100-990b-12ea808fae34"
  },
  {
   "cell_type": "code",
   "source": [
    "!for i in `find . -iname '__MACOSX'`; do rm -rf $i;done"
   ],
   "outputs": [
    {
     "name": "stderr",
     "output_type": "stream",
     "text": [
      "此时不应有 i。\n"
     ]
    }
   ],
   "execution_count": 2,
   "metadata": {
    "pycharm": {
     "name": "#%%\n"
    }
   },
   "id": "4bf04f95-0750-4248-8696-fa2aa4ff03e5"
  },
  {
   "cell_type": "code",
   "source": [
    "!for i in `find . -iname '.DS_Store'`; do rm -rf $i;done"
   ],
   "outputs": [
    {
     "name": "stderr",
     "output_type": "stream",
     "text": [
      "此时不应有 i。\n"
     ]
    }
   ],
   "execution_count": 3,
   "metadata": {
    "pycharm": {
     "name": "#%%\n"
    }
   },
   "id": "217b2325-835b-451c-89d7-3d39c5dfc5c2"
  },
  {
   "cell_type": "code",
   "source": [
    "!for i in `find . -iname '.ipynb_checkpoints'`; do rm -rf $i;done"
   ],
   "outputs": [],
   "execution_count": 7,
   "metadata": {
    "pycharm": {
     "name": "#%%\n"
    }
   },
   "id": "cfb7afa4-106a-4e6a-ab35-86f0eb902432"
  },
  {
   "cell_type": "markdown",
   "source": [
    "### 验证多余文件已删除"
   ],
   "metadata": {
    "pycharm": {
     "name": "#%% md\n"
    }
   },
   "id": "7e400ec2-341b-4ac3-888a-c5416d4f8895"
  },
  {
   "cell_type": "code",
   "source": [
    "!find . -iname '__MACOSX'"
   ],
   "outputs": [],
   "execution_count": 17,
   "metadata": {
    "pycharm": {
     "name": "#%%\n"
    }
   },
   "id": "33239471-a70e-426d-beba-3517c14311e6"
  },
  {
   "cell_type": "code",
   "source": [
    "!find . -iname '.DS_Store'"
   ],
   "outputs": [],
   "execution_count": 18,
   "metadata": {
    "pycharm": {
     "name": "#%%\n"
    }
   },
   "id": "f82a7703-8b94-4103-9672-ec29849616b9"
  },
  {
   "cell_type": "code",
   "source": [
    "!find . -iname '.ipynb_checkpoints'"
   ],
   "outputs": [],
   "execution_count": 10,
   "metadata": {
    "pycharm": {
     "name": "#%%\n"
    }
   },
   "id": "0101460a-d0bc-4388-aa0b-d30b0f0ef538"
  },
  {
   "cell_type": "markdown",
   "source": [
    "## 删除gif格式的图像文件"
   ],
   "metadata": {
    "tags": [],
    "pycharm": {
     "name": "#%% md\n"
    }
   },
   "id": "c8eaf8f0-b6ab-4e49-baf7-84124c6a472a"
  },
  {
   "cell_type": "code",
   "source": [
    "dataset_path = 'dataset_delete_test'"
   ],
   "outputs": [],
   "execution_count": 11,
   "metadata": {
    "gather": {
     "logged": 1673939318423
    },
    "pycharm": {
     "name": "#%%\n"
    }
   },
   "id": "b4e5db5c-965a-4e8a-a084-c353116d3d09"
  },
  {
   "cell_type": "code",
   "source": [
    "for fruit in tqdm(os.listdir(dataset_path)):\n",
    "    for file in os.listdir(os.path.join(dataset_path, fruit)):\n",
    "        file_path = os.path.join(dataset_path, fruit, file)\n",
    "        img = cv2.imread(file_path)\n",
    "        if img is None:\n",
    "            print(file_path, '读取错误，删除')\n",
    "            os.remove(file_path)"
   ],
   "outputs": [
    {
     "output_type": "stream",
     "name": "stderr",
     "text": " 33%|███▎      | 1/3 [00:04<00:08,  4.45s/it]libpng warning: iCCP: known incorrect sRGB profile\n100%|██████████| 3/3 [00:09<00:00,  3.31s/it]\n"
    },
    {
     "output_type": "stream",
     "name": "stdout",
     "text": "dataset_delete_test/西葫芦/112.jpg 读取错误，删除\n"
    }
   ],
   "execution_count": 12,
   "metadata": {
    "gather": {
     "logged": 1673939329676
    },
    "pycharm": {
     "name": "#%%\n"
    }
   },
   "id": "b7d6bba1-5ab0-482c-a0f9-4856a6bd7b41"
  },
  {
   "cell_type": "markdown",
   "source": [
    "## 删除非三通道的图像"
   ],
   "metadata": {
    "pycharm": {
     "name": "#%% md\n"
    }
   },
   "id": "6204feec-0ec4-441d-b358-479d705e179f"
  },
  {
   "cell_type": "code",
   "source": [
    "import numpy as np\n",
    "from PIL import Image\n",
    "for fruit in tqdm(os.listdir(dataset_path)):\n",
    "    for file in os.listdir(os.path.join(dataset_path, fruit)):\n",
    "        file_path = os.path.join(dataset_path, fruit, file)\n",
    "        img = np.array(Image.open(file_path))\n",
    "        try:\n",
    "            channel = img.shape[2]\n",
    "            if channel != 3:\n",
    "                print(file_path, '非三通道，删除')\n",
    "                os.remove(file_path)\n",
    "        except:\n",
    "            print(file_path, '非三通道，删除')\n",
    "            os.remove(file_path)"
   ],
   "outputs": [
    {
     "output_type": "stream",
     "name": "stderr",
     "text": "100%|██████████| 3/3 [00:08<00:00,  2.98s/it]\n"
    },
    {
     "output_type": "stream",
     "name": "stdout",
     "text": "dataset_delete_test/猕猴桃/120.jpg 非三通道，删除\ndataset_delete_test/猕猴桃/129.png 非三通道，删除\ndataset_delete_test/猕猴桃/132.png 非三通道，删除\ndataset_delete_test/猕猴桃/165.png 非三通道，删除\ndataset_delete_test/猕猴桃/168.jpg 非三通道，删除\ndataset_delete_test/猕猴桃/173.png 非三通道，删除\ndataset_delete_test/猕猴桃/43.png 非三通道，删除\ndataset_delete_test/猕猴桃/51.jpg 非三通道，删除\ndataset_delete_test/猕猴桃/55.jpg 非三通道，删除\n"
    }
   ],
   "execution_count": 13,
   "metadata": {
    "gather": {
     "logged": 1673939340359
    },
    "pycharm": {
     "name": "#%%\n"
    }
   },
   "id": "f6d07e40-2abc-4897-a3ea-2a834f1e6c50"
  },
  {
   "cell_type": "markdown",
   "source": [
    "## 再次删除多余的`.ipynb_checkpoints`目录"
   ],
   "metadata": {
    "pycharm": {
     "name": "#%% md\n"
    }
   },
   "id": "4f9afab9-4f90-47c1-8f5c-3fbc3a2f9995"
  },
  {
   "cell_type": "code",
   "source": [
    "!find . -iname '.ipynb_checkpoints'"
   ],
   "outputs": [],
   "execution_count": 14,
   "metadata": {
    "pycharm": {
     "name": "#%%\n"
    }
   },
   "id": "b6720c92-39f7-4ab2-915d-4d73def40a56"
  },
  {
   "cell_type": "code",
   "source": [
    "!for i in `find . -iname '.ipynb_checkpoints'`; do rm -rf $i;done"
   ],
   "outputs": [],
   "execution_count": 15,
   "metadata": {
    "pycharm": {
     "name": "#%%\n"
    }
   },
   "id": "e810b64e-1371-455e-ae3a-5a97417d91ac"
  },
  {
   "cell_type": "code",
   "source": [
    "!find . -iname '.ipynb_checkpoints'"
   ],
   "outputs": [],
   "execution_count": 16,
   "metadata": {
    "pycharm": {
     "name": "#%%\n"
    }
   },
   "id": "75ca2b9a-3c10-479e-b782-88901a3c8bcf"
  },
  {
   "cell_type": "code",
   "source": [],
   "outputs": [],
   "execution_count": null,
   "metadata": {
    "pycharm": {
     "name": "#%%\n"
    }
   },
   "id": "f134f949-0448-45c4-884e-a1ac89c37bca"
  }
 ],
 "metadata": {
  "kernelspec": {
   "name": "python3",
   "language": "python",
   "display_name": "Python 3 (ipykernel)"
  },
  "language_info": {
   "name": "python",
   "version": "3.8.5",
   "mimetype": "text/x-python",
   "codemirror_mode": {
    "name": "ipython",
    "version": 3
   },
   "pygments_lexer": "ipython3",
   "nbconvert_exporter": "python",
   "file_extension": ".py"
  },
  "kernel_info": {
   "name": "python3"
  },
  "nteract": {
   "version": "nteract-front-end@1.0.0"
  }
 },
 "nbformat": 4,
 "nbformat_minor": 5
}