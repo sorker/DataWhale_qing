{
  "cells": [
    {
      "cell_type": "markdown",
      "source": [
        "# 划分训练集和测试集\n",
        "\n",
        "同济子豪兄 https://space.bilibili.com/1900783\n",
        "\n",
        "代码运行[云GPU平台](https://featurize.cn/?s=d7ce99f842414bfcaea5662a97581bd1)\n",
        "\n",
        "2022-7-22"
      ],
      "metadata": {},
      "id": "65f90911-c910-4cb9-ab55-ad41e3ffd568"
    },
    {
      "cell_type": "markdown",
      "source": [
        "## 导入工具包"
      ],
      "metadata": {},
      "id": "aa621a92-e18e-46a0-aefb-5e57d4374f7b"
    },
    {
      "cell_type": "code",
      "source": [
        "import os\n",
        "import shutil\n",
        "import random\n",
        "import pandas as pd"
      ],
      "outputs": [],
      "execution_count": 14,
      "metadata": {
        "gather": {
          "logged": 1673943822876
        }
      },
      "id": "acfeb9c9-2a3e-45cf-bd07-3472d09519d6"
    },
    {
      "cell_type": "markdown",
      "source": [
        "## 获得所有类别名称"
      ],
      "metadata": {},
      "id": "ea237880-2fa1-4aff-a1d3-56e616f6a897"
    },
    {
      "cell_type": "code",
      "source": [
        "# 指定数据集路径\n",
        "dataset_path = 'fruit17_full'"
      ],
      "outputs": [],
      "execution_count": 22,
      "metadata": {
        "gather": {
          "logged": 1673944055843
        }
      },
      "id": "512a0bda-f31f-4f26-b727-85369eebca48"
    },
    {
      "cell_type": "code",
      "source": [
        "dataset_name = dataset_path.split('_')[0]\n",
        "print('数据集', dataset_name)"
      ],
      "outputs": [
        {
          "output_type": "stream",
          "name": "stdout",
          "text": "数据集 fruit17\n"
        }
      ],
      "execution_count": 23,
      "metadata": {
        "gather": {
          "logged": 1673944056812
        }
      },
      "id": "a59265d8-848b-45d4-9cb1-5d43c81f8e6a"
    },
    {
      "cell_type": "code",
      "source": [
        "classes = os.listdir(dataset_path)"
      ],
      "outputs": [],
      "execution_count": 25,
      "metadata": {
        "gather": {
          "logged": 1673944064821
        }
      },
      "id": "3b62be1b-f42a-4477-8b44-2dd12817e44f"
    },
    {
      "cell_type": "code",
      "source": [
        "len(classes)"
      ],
      "outputs": [
        {
          "output_type": "execute_result",
          "execution_count": 26,
          "data": {
            "text/plain": "17"
          },
          "metadata": {}
        }
      ],
      "execution_count": 26,
      "metadata": {
        "gather": {
          "logged": 1673944066843
        }
      },
      "id": "a51ea20e-ba30-499d-8d93-b6448e584465"
    },
    {
      "cell_type": "code",
      "source": [
        "classes"
      ],
      "outputs": [
        {
          "output_type": "execute_result",
          "execution_count": 27,
          "data": {
            "text/plain": "['丝瓜',\n '人参果',\n '佛手瓜',\n '冬瓜',\n '南瓜',\n '哈密瓜',\n '木瓜',\n '甜瓜-伊丽莎白',\n '甜瓜-白',\n '甜瓜-绿',\n '甜瓜-金',\n '白兰瓜',\n '羊角蜜',\n '苦瓜',\n '西瓜',\n '西葫芦',\n '黄瓜']"
          },
          "metadata": {}
        }
      ],
      "execution_count": 27,
      "metadata": {
        "gather": {
          "logged": 1673944067940
        }
      },
      "id": "af01e960-d178-4cff-bc8b-ce1520d642c1"
    },
    {
      "cell_type": "markdown",
      "source": [
        "## 创建训练集文件夹和测试集文件夹"
      ],
      "metadata": {},
      "id": "a6b4d257-5bdc-4830-bb34-6936e04916ad"
    },
    {
      "cell_type": "code",
      "source": [
        "# 创建 train 文件夹\n",
        "os.mkdir(os.path.join(dataset_path, 'train'))\n",
        "\n",
        "# 创建 test 文件夹\n",
        "os.mkdir(os.path.join(dataset_path, 'val'))\n",
        "\n",
        "# 在 train 和 test 文件夹中创建各类别子文件夹\n",
        "for fruit in classes:\n",
        "    os.mkdir(os.path.join(dataset_path, 'train', fruit))\n",
        "    os.mkdir(os.path.join(dataset_path, 'val', fruit))"
      ],
      "outputs": [],
      "execution_count": 28,
      "metadata": {
        "gather": {
          "logged": 1673944072749
        }
      },
      "id": "522222b5-9128-420d-a134-fb0b4cdc38ca"
    },
    {
      "cell_type": "markdown",
      "source": [
        "## 划分训练集、测试集，移动文件"
      ],
      "metadata": {},
      "id": "b890d0aa-4563-4f92-ac35-771acb588604"
    },
    {
      "cell_type": "code",
      "source": [
        "test_frac = 0.2  # 测试集比例\n",
        "random.seed(123) # 随机数种子，便于复现"
      ],
      "outputs": [],
      "execution_count": 29,
      "metadata": {
        "gather": {
          "logged": 1673944076874
        }
      },
      "id": "eb2ad0c2-e3c6-481c-8589-51cdd2aeb516"
    },
    {
      "cell_type": "code",
      "source": [
        "df = pd.DataFrame()\n",
        "\n",
        "print('{:^18} {:^18} {:^18}'.format('类别', '训练集数据个数', '测试集数据个数'))\n",
        "\n",
        "for fruit in classes: # 遍历每个类别\n",
        "\n",
        "    # 读取该类别的所有图像文件名\n",
        "    old_dir = os.path.join(dataset_path, fruit)\n",
        "    images_filename = os.listdir(old_dir)\n",
        "    random.shuffle(images_filename) # 随机打乱\n",
        "\n",
        "    # 划分训练集和测试集\n",
        "    testset_numer = int(len(images_filename) * test_frac) # 测试集图像个数\n",
        "    testset_images = images_filename[:testset_numer]      # 获取拟移动至 test 目录的测试集图像文件名\n",
        "    trainset_images = images_filename[testset_numer:]     # 获取拟移动至 train 目录的训练集图像文件名\n",
        "\n",
        "    # 移动图像至 test 目录\n",
        "    for image in testset_images:\n",
        "        old_img_path = os.path.join(dataset_path, fruit, image)         # 获取原始文件路径\n",
        "        new_test_path = os.path.join(dataset_path, 'val', fruit, image) # 获取 test 目录的新文件路径\n",
        "        shutil.move(old_img_path, new_test_path) # 移动文件\n",
        "\n",
        "    # 移动图像至 train 目录\n",
        "    for image in trainset_images:\n",
        "        old_img_path = os.path.join(dataset_path, fruit, image)           # 获取原始文件路径\n",
        "        new_train_path = os.path.join(dataset_path, 'train', fruit, image) # 获取 train 目录的新文件路径\n",
        "        shutil.move(old_img_path, new_train_path) # 移动文件\n",
        "    \n",
        "    # 删除旧文件夹\n",
        "    assert len(os.listdir(old_dir)) == 0 # 确保旧文件夹中的所有图像都被移动走\n",
        "    shutil.rmtree(old_dir) # 删除文件夹\n",
        "    \n",
        "    # 工整地输出每一类别的数据个数\n",
        "    print('{:^18} {:^18} {:^18}'.format(fruit, len(trainset_images), len(testset_images)))\n",
        "    \n",
        "    # 保存到表格中\n",
        "    df = df.append({'class':fruit, 'trainset':len(trainset_images), 'testset':len(testset_images)}, ignore_index=True)\n",
        "\n",
        "# 重命名数据集文件夹\n",
        "shutil.move(dataset_path, dataset_name+'_split')\n",
        "\n",
        "# 数据集各类别数量统计表格，导出为 csv 文件\n",
        "df['total'] = df['trainset'] + df['testset']\n",
        "df.to_csv('数据量统计.csv', index=False)"
      ],
      "outputs": [
        {
          "output_type": "stream",
          "name": "stdout",
          "text": "        类别              训练集数据个数            测试集数据个数      \n        丝瓜                151                 37        \n       人参果                146                 36        \n       佛手瓜                129                 32        \n        冬瓜                123                 30        \n        南瓜                147                 36        \n       哈密瓜                157                 39        \n        木瓜                156                 38        \n     甜瓜-伊丽莎白               75                 18        \n       甜瓜-白                68                 17        \n       甜瓜-绿                35                 8         \n       甜瓜-金                42                 10        \n       白兰瓜                103                 25        \n       羊角蜜                157                 39        \n        苦瓜                151                 37        \n        西瓜                156                 38        \n       西葫芦                136                 33        \n        黄瓜                144                 36        \n"
        }
      ],
      "execution_count": 30,
      "metadata": {
        "gather": {
          "logged": 1673944228042
        }
      },
      "id": "3ef9944c-a36d-4d62-a38b-78faa33fb9f1"
    },
    {
      "cell_type": "code",
      "source": [
        "df"
      ],
      "outputs": [
        {
          "output_type": "execute_result",
          "execution_count": 31,
          "data": {
            "text/plain": "      class  testset  trainset  total\n0        丝瓜     37.0     151.0  188.0\n1       人参果     36.0     146.0  182.0\n2       佛手瓜     32.0     129.0  161.0\n3        冬瓜     30.0     123.0  153.0\n4        南瓜     36.0     147.0  183.0\n5       哈密瓜     39.0     157.0  196.0\n6        木瓜     38.0     156.0  194.0\n7   甜瓜-伊丽莎白     18.0      75.0   93.0\n8      甜瓜-白     17.0      68.0   85.0\n9      甜瓜-绿      8.0      35.0   43.0\n10     甜瓜-金     10.0      42.0   52.0\n11      白兰瓜     25.0     103.0  128.0\n12      羊角蜜     39.0     157.0  196.0\n13       苦瓜     37.0     151.0  188.0\n14       西瓜     38.0     156.0  194.0\n15      西葫芦     33.0     136.0  169.0\n16       黄瓜     36.0     144.0  180.0",
            "text/html": "<div>\n<style scoped>\n    .dataframe tbody tr th:only-of-type {\n        vertical-align: middle;\n    }\n\n    .dataframe tbody tr th {\n        vertical-align: top;\n    }\n\n    .dataframe thead th {\n        text-align: right;\n    }\n</style>\n<table border=\"1\" class=\"dataframe\">\n  <thead>\n    <tr style=\"text-align: right;\">\n      <th></th>\n      <th>class</th>\n      <th>testset</th>\n      <th>trainset</th>\n      <th>total</th>\n    </tr>\n  </thead>\n  <tbody>\n    <tr>\n      <th>0</th>\n      <td>丝瓜</td>\n      <td>37.0</td>\n      <td>151.0</td>\n      <td>188.0</td>\n    </tr>\n    <tr>\n      <th>1</th>\n      <td>人参果</td>\n      <td>36.0</td>\n      <td>146.0</td>\n      <td>182.0</td>\n    </tr>\n    <tr>\n      <th>2</th>\n      <td>佛手瓜</td>\n      <td>32.0</td>\n      <td>129.0</td>\n      <td>161.0</td>\n    </tr>\n    <tr>\n      <th>3</th>\n      <td>冬瓜</td>\n      <td>30.0</td>\n      <td>123.0</td>\n      <td>153.0</td>\n    </tr>\n    <tr>\n      <th>4</th>\n      <td>南瓜</td>\n      <td>36.0</td>\n      <td>147.0</td>\n      <td>183.0</td>\n    </tr>\n    <tr>\n      <th>5</th>\n      <td>哈密瓜</td>\n      <td>39.0</td>\n      <td>157.0</td>\n      <td>196.0</td>\n    </tr>\n    <tr>\n      <th>6</th>\n      <td>木瓜</td>\n      <td>38.0</td>\n      <td>156.0</td>\n      <td>194.0</td>\n    </tr>\n    <tr>\n      <th>7</th>\n      <td>甜瓜-伊丽莎白</td>\n      <td>18.0</td>\n      <td>75.0</td>\n      <td>93.0</td>\n    </tr>\n    <tr>\n      <th>8</th>\n      <td>甜瓜-白</td>\n      <td>17.0</td>\n      <td>68.0</td>\n      <td>85.0</td>\n    </tr>\n    <tr>\n      <th>9</th>\n      <td>甜瓜-绿</td>\n      <td>8.0</td>\n      <td>35.0</td>\n      <td>43.0</td>\n    </tr>\n    <tr>\n      <th>10</th>\n      <td>甜瓜-金</td>\n      <td>10.0</td>\n      <td>42.0</td>\n      <td>52.0</td>\n    </tr>\n    <tr>\n      <th>11</th>\n      <td>白兰瓜</td>\n      <td>25.0</td>\n      <td>103.0</td>\n      <td>128.0</td>\n    </tr>\n    <tr>\n      <th>12</th>\n      <td>羊角蜜</td>\n      <td>39.0</td>\n      <td>157.0</td>\n      <td>196.0</td>\n    </tr>\n    <tr>\n      <th>13</th>\n      <td>苦瓜</td>\n      <td>37.0</td>\n      <td>151.0</td>\n      <td>188.0</td>\n    </tr>\n    <tr>\n      <th>14</th>\n      <td>西瓜</td>\n      <td>38.0</td>\n      <td>156.0</td>\n      <td>194.0</td>\n    </tr>\n    <tr>\n      <th>15</th>\n      <td>西葫芦</td>\n      <td>33.0</td>\n      <td>136.0</td>\n      <td>169.0</td>\n    </tr>\n    <tr>\n      <th>16</th>\n      <td>黄瓜</td>\n      <td>36.0</td>\n      <td>144.0</td>\n      <td>180.0</td>\n    </tr>\n  </tbody>\n</table>\n</div>"
          },
          "metadata": {}
        }
      ],
      "execution_count": 31,
      "metadata": {
        "gather": {
          "logged": 1673944230953
        }
      },
      "id": "2ca80db6-9537-4203-9e1c-8873c473a95c"
    },
    {
      "cell_type": "markdown",
      "source": [
        "## 查看文件目录结构"
      ],
      "metadata": {},
      "id": "a7f90207-20e0-4de0-a916-73422856b095"
    },
    {
      "cell_type": "code",
      "source": [
        "!sudo snap install tree"
      ],
      "outputs": [
        {
          "output_type": "stream",
          "name": "stdout",
          "text": "\u001b[0m\u001b[?25h\u001b[Ktree 1.8.0+pkg-3fd6 from 林博仁(Buo-ren, Lin) (brlin\u001b[32m\u001b[0m) installedns\u001b[0m\n"
        }
      ],
      "execution_count": 32,
      "metadata": {},
      "id": "e435f029-f876-4423-841c-ecb4fd34ee09"
    },
    {
      "cell_type": "code",
      "source": [
        "!tree fruit17_split -L 2"
      ],
      "outputs": [
        {
          "output_type": "stream",
          "name": "stdout",
          "text": "fruit17_split [error opening dir]\r\n\r\n0 directories, 0 files\r\n"
        }
      ],
      "execution_count": 34,
      "metadata": {},
      "id": "00bb2504-b4f5-40c9-9572-7c9123d3b38d"
    },
    {
      "cell_type": "code",
      "source": [
        "!ls"
      ],
      "outputs": [
        {
          "output_type": "stream",
          "name": "stdout",
          "text": "dataset_delete_test\r\nfruit17_split\r\n【A】安装配置环境.ipynb\r\n【B1】图像采集（首选）.ipynb\r\n【B2】图像采集（备用）.ipynb\r\n【B3】制作图像分类数据集的注意事项.ipynb\r\n【B4】删除多余文件.ipynb\r\n【C1】下载Demo数据集.ipynb\r\n【C2】统计图像尺寸、比例分布.ipynb\r\n【C3】拍摄地点地图可视化.ipynb\r\n【D】划分训练集测试集.ipynb\r\n【E1】可视化文件夹中的图像.ipynb\r\n【E2】统计各类别图像数量.ipynb\r\n【F】训练图像分类识别模型的N种方法.ipynb\r\n【a】安装配置环境.ipynb.amltmp\r\n【b1】图像采集（首选）.ipynb.amltmp\r\n【b3】制作图像分类数据集的注意事项.ipynb.amltmp\r\n【b4】删除多余文件.ipynb.amltmp\r\n【c1】下载demo数据集.ipynb.amltmp\r\n【c2】统计图像尺寸、比例分布.ipynb.amltmp\r\n【d】划分训练集测试集.ipynb.amltmp\r\n各类别图像数量.pdf\r\n图像尺寸分布.pdf\r\n数据量统计.csv\r\n"
        }
      ],
      "execution_count": 35,
      "metadata": {},
      "id": "4f3febba-135e-4502-b83c-0d377a517713"
    }
  ],
  "metadata": {
    "kernelspec": {
      "name": "python3",
      "language": "python",
      "display_name": "Python 3 (ipykernel)"
    },
    "language_info": {
      "name": "python",
      "version": "3.8.5",
      "mimetype": "text/x-python",
      "codemirror_mode": {
        "name": "ipython",
        "version": 3
      },
      "pygments_lexer": "ipython3",
      "nbconvert_exporter": "python",
      "file_extension": ".py"
    },
    "kernel_info": {
      "name": "python3"
    },
    "microsoft": {
      "host": {
        "AzureML": {
          "notebookHasBeenCompleted": true
        }
      }
    },
    "nteract": {
      "version": "nteract-front-end@1.0.0"
    }
  },
  "nbformat": 4,
  "nbformat_minor": 5
}