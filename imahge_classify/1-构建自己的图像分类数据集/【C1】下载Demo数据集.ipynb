{
 "cells": [
  {
   "cell_type": "markdown",
   "source": [
    "# 下载Demo数据集\n",
    "\n",
    "同济子豪兄 https://space.bilibili.com/1900783\n",
    "\n",
    "代码运行[云GPU平台](https://featurize.cn/?s=d7ce99f842414bfcaea5662a97581bd1)\n",
    "\n",
    "2022-8-2"
   ],
   "metadata": {
    "pycharm": {
     "name": "#%% md\n"
    }
   },
   "id": "9e2f582b-3805-4b9b-86cc-9d8e30b3e9e6"
  },
  {
   "cell_type": "markdown",
   "source": [
    "## melon17瓜果图像分类数据集"
   ],
   "metadata": {
    "pycharm": {
     "name": "#%% md\n"
    }
   },
   "id": "9f84e2ac-8295-4896-8661-f2e7cd929aee"
  },
  {
   "cell_type": "code",
   "source": [
    "# 下载压缩包\n",
    "# 如报错 Unable to establish SSL connection. 重新运行本代码块即可\n",
    "!wget https://zihao-openmmlab.obs.cn-east-3.myhuaweicloud.com/20220716-mmclassification/dataset/melon17/melon17_full.zip"
   ],
   "outputs": [
    {
     "output_type": "stream",
     "name": "stdout",
     "text": "--2023-01-17 08:20:44--  https://zihao-openmmlab.obs.cn-east-3.myhuaweicloud.com/20220716-mmclassification/dataset/melon17/melon17_full.zip\nResolving zihao-openmmlab.obs.cn-east-3.myhuaweicloud.com (zihao-openmmlab.obs.cn-east-3.myhuaweicloud.com)... 121.36.235.132\nConnecting to zihao-openmmlab.obs.cn-east-3.myhuaweicloud.com (zihao-openmmlab.obs.cn-east-3.myhuaweicloud.com)|121.36.235.132|:443... connected.\nHTTP request sent, awaiting response... 200 OK\nLength: 131303074 (125M) [application/zip]\nSaving to: ‘melon17_full.zip’\n\nmelon17_full.zip    100%[===================>] 125.22M  13.7MB/s    in 10s     \n\n2023-01-17 08:20:57 (12.0 MB/s) - ‘melon17_full.zip’ saved [131303074/131303074]\n\n"
    }
   ],
   "execution_count": 5,
   "metadata": {
    "gather": {
     "logged": 1673943657876
    },
    "pycharm": {
     "name": "#%%\n"
    }
   },
   "id": "7dc1fa1d-588c-4d26-8c54-3adc8b37a875"
  },
  {
   "cell_type": "code",
   "source": [
    "# 解压\n",
    "!unzip melon17_full.zip >> /dev/null"
   ],
   "outputs": [],
   "execution_count": 2,
   "metadata": {
    "gather": {
     "logged": 1673940025808
    },
    "pycharm": {
     "name": "#%%\n"
    }
   },
   "id": "342917b7-1535-4659-a506-7ef216ab2fed"
  },
  {
   "cell_type": "markdown",
   "source": [
    "## fruit81水果图像分类数据集"
   ],
   "metadata": {
    "pycharm": {
     "name": "#%% md\n"
    }
   },
   "id": "3ec92de5-b3a7-4a6b-9ea0-afa74784e8d8"
  },
  {
   "cell_type": "code",
   "source": [
    "# 下载压缩包\n",
    "# 如报错 Unable to establish SSL connection. 重新运行本代码块即可\n",
    "!wget https://zihao-openmmlab.obs.cn-east-3.myhuaweicloud.com/20220716-mmclassification/dataset/fruit81/fruit81_full.zip"
   ],
   "outputs": [
    {
     "output_type": "stream",
     "name": "stdout",
     "text": "--2023-01-17 08:19:53--  https://zihao-openmmlab.obs.cn-east-3.myhuaweicloud.com/20220716-mmclassification/dataset/fruit81/fruit81_full.zip\nResolving zihao-openmmlab.obs.cn-east-3.myhuaweicloud.com (zihao-openmmlab.obs.cn-east-3.myhuaweicloud.com)... 121.36.235.132\nConnecting to zihao-openmmlab.obs.cn-east-3.myhuaweicloud.com (zihao-openmmlab.obs.cn-east-3.myhuaweicloud.com)|121.36.235.132|:443... connected.\nHTTP request sent, awaiting response... 200 OK\nLength: 724936499 (691M) [application/zip]\nSaving to: ‘fruit81_full.zip’\n\nfruit81_full.zip    100%[===================>] 691.35M  13.1MB/s    in 49s     \n\n2023-01-17 08:20:44 (14.0 MB/s) - ‘fruit81_full.zip’ saved [724936499/724936499]\n\n"
    }
   ],
   "execution_count": 4,
   "metadata": {
    "gather": {
     "logged": 1673943644834
    },
    "pycharm": {
     "name": "#%%\n"
    }
   },
   "id": "dddc647c-208f-4822-9764-736fe493f40a"
  },
  {
   "cell_type": "code",
   "source": [
    "# 解压\n",
    "!unzip fruit81_full.zip >> /dev/null"
   ],
   "outputs": [],
   "execution_count": 8,
   "metadata": {
    "pycharm": {
     "name": "#%%\n"
    }
   },
   "id": "9f5d9f94-394f-42e6-a3de-48b8cc88485d"
  },
  {
   "cell_type": "markdown",
   "source": [
    "## 如何删除文件和文件夹"
   ],
   "metadata": {
    "pycharm": {
     "name": "#%% md\n"
    }
   },
   "id": "39cff6ce-4ba9-490f-9eca-dba90568965b"
  },
  {
   "cell_type": "code",
   "source": [
    "# 删除文件\n",
    "!rm -rf fruit17_full.zip"
   ],
   "outputs": [],
   "execution_count": 3,
   "metadata": {
    "gather": {
     "logged": 1673940047596
    },
    "pycharm": {
     "name": "#%%\n"
    }
   },
   "id": "6b668148-3adc-4305-84b3-9aea9949201f"
  },
  {
   "cell_type": "code",
   "source": [
    "# 删除文件夹\n",
    "!rm -rf fruit81_split"
   ],
   "outputs": [],
   "execution_count": null,
   "metadata": {
    "pycharm": {
     "name": "#%%\n"
    }
   },
   "id": "a844a868-e670-43d3-98e2-b20211fa964d"
  },
  {
   "cell_type": "code",
   "source": [],
   "outputs": [],
   "execution_count": null,
   "metadata": {
    "pycharm": {
     "name": "#%%\n"
    }
   },
   "id": "420fd776-6b39-47f8-b8cd-a3ec104b6640"
  }
 ],
 "metadata": {
  "kernelspec": {
   "name": "python3",
   "language": "python",
   "display_name": "Python 3 (ipykernel)"
  },
  "language_info": {
   "name": "python",
   "version": "3.8.5",
   "mimetype": "text/x-python",
   "codemirror_mode": {
    "name": "ipython",
    "version": 3
   },
   "pygments_lexer": "ipython3",
   "nbconvert_exporter": "python",
   "file_extension": ".py"
  },
  "kernel_info": {
   "name": "python3"
  },
  "nteract": {
   "version": "nteract-front-end@1.0.0"
  }
 },
 "nbformat": 4,
 "nbformat_minor": 5
}