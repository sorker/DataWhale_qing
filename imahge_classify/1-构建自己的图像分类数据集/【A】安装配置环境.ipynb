{
 "cells": [
  {
   "cell_type": "markdown",
   "source": [
    "# 安装配置环境\n",
    "\n",
    "同济子豪兄 https://space.bilibili.com/1900783\n",
    "\n",
    "代码运行[云GPU平台](https://featurize.cn/?s=d7ce99f842414bfcaea5662a97581bd1)\n",
    "\n",
    "2022-8-2"
   ],
   "metadata": {
    "pycharm": {
     "name": "#%% md\n"
    }
   },
   "id": "68aa2c39-1a4b-4d3c-ab35-3d44896f2f67"
  },
  {
   "cell_type": "markdown",
   "source": [
    "## 直接运行代码块即可"
   ],
   "metadata": {
    "pycharm": {
     "name": "#%% md\n"
    }
   },
   "id": "d56b4a5f-8ec2-4493-8344-580ed67d3d25"
  },
  {
   "cell_type": "code",
   "source": [
    "!pip install numpy pandas matplotlib requests tqdm opencv-python"
   ],
   "outputs": [
    {
     "name": "stdout",
     "output_type": "stream",
     "text": [
      "Requirement already satisfied: numpy in k:\\pythonproject\\datawhale_qing\\venv\\lib\\site-packages (1.24.2)\n",
      "Requirement already satisfied: pandas in k:\\pythonproject\\datawhale_qing\\venv\\lib\\site-packages (1.5.3)\n",
      "Requirement already satisfied: matplotlib in k:\\pythonproject\\datawhale_qing\\venv\\lib\\site-packages (3.6.3)\n",
      "Requirement already satisfied: requests in k:\\pythonproject\\datawhale_qing\\venv\\lib\\site-packages (2.28.2)\n",
      "Requirement already satisfied: tqdm in k:\\pythonproject\\datawhale_qing\\venv\\lib\\site-packages (4.64.1)\n",
      "Requirement already satisfied: opencv-python in k:\\pythonproject\\datawhale_qing\\venv\\lib\\site-packages (4.7.0.68)\n",
      "Requirement already satisfied: pytz>=2020.1 in k:\\pythonproject\\datawhale_qing\\venv\\lib\\site-packages (from pandas) (2022.7.1)\n",
      "Requirement already satisfied: python-dateutil>=2.8.1 in c:\\users\\pc\\appdata\\local\\programs\\python\\python310\\lib\\site-packages (from pandas) (2.8.2)\n",
      "Requirement already satisfied: packaging>=20.0 in c:\\users\\pc\\appdata\\local\\programs\\python\\python310\\lib\\site-packages (from matplotlib) (23.0)\n",
      "Requirement already satisfied: cycler>=0.10 in k:\\pythonproject\\datawhale_qing\\venv\\lib\\site-packages (from matplotlib) (0.11.0)\n",
      "Requirement already satisfied: kiwisolver>=1.0.1 in k:\\pythonproject\\datawhale_qing\\venv\\lib\\site-packages (from matplotlib) (1.4.4)\n",
      "Requirement already satisfied: contourpy>=1.0.1 in k:\\pythonproject\\datawhale_qing\\venv\\lib\\site-packages (from matplotlib) (1.0.7)\n",
      "Requirement already satisfied: fonttools>=4.22.0 in k:\\pythonproject\\datawhale_qing\\venv\\lib\\site-packages (from matplotlib) (4.38.0)\n",
      "Requirement already satisfied: pyparsing>=2.2.1 in k:\\pythonproject\\datawhale_qing\\venv\\lib\\site-packages (from matplotlib) (3.0.9)\n",
      "Requirement already satisfied: pillow>=6.2.0 in k:\\pythonproject\\datawhale_qing\\venv\\lib\\site-packages (from matplotlib) (9.4.0)\n",
      "Requirement already satisfied: charset-normalizer<4,>=2 in k:\\pythonproject\\datawhale_qing\\venv\\lib\\site-packages (from requests) (3.0.1)\n",
      "Requirement already satisfied: idna<4,>=2.5 in c:\\users\\pc\\appdata\\local\\programs\\python\\python310\\lib\\site-packages (from requests) (3.4)\n",
      "Requirement already satisfied: urllib3<1.27,>=1.21.1 in k:\\pythonproject\\datawhale_qing\\venv\\lib\\site-packages (from requests) (1.26.14)\n",
      "Requirement already satisfied: certifi>=2017.4.17 in k:\\pythonproject\\datawhale_qing\\venv\\lib\\site-packages (from requests) (2022.12.7)\n",
      "Requirement already satisfied: colorama in c:\\users\\pc\\appdata\\local\\programs\\python\\python310\\lib\\site-packages (from tqdm) (0.4.6)\n",
      "Requirement already satisfied: six>=1.5 in c:\\users\\pc\\appdata\\local\\programs\\python\\python310\\lib\\site-packages (from python-dateutil>=2.8.1->pandas) (1.16.0)\n"
     ]
    }
   ],
   "execution_count": 2,
   "metadata": {
    "pycharm": {
     "name": "#%%\n"
    }
   },
   "id": "83c98888-79c0-4f4c-8e64-b9cc65ac797e"
  },
  {
   "cell_type": "code",
   "source": [],
   "outputs": [],
   "execution_count": null,
   "metadata": {
    "pycharm": {
     "name": "#%%\n"
    }
   },
   "id": "83c9d956-5824-4d84-84d4-86d1c7b1f89f"
  }
 ],
 "metadata": {
  "kernelspec": {
   "name": "python3",
   "language": "python",
   "display_name": "Python 3 (ipykernel)"
  },
  "language_info": {
   "name": "python",
   "version": "3.8.5",
   "mimetype": "text/x-python",
   "codemirror_mode": {
    "name": "ipython",
    "version": 3
   },
   "pygments_lexer": "ipython3",
   "nbconvert_exporter": "python",
   "file_extension": ".py"
  },
  "kernel_info": {
   "name": "python3"
  },
  "nteract": {
   "version": "nteract-front-end@1.0.0"
  }
 },
 "nbformat": 4,
 "nbformat_minor": 5
}