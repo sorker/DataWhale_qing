{
  "cells": [
    {
      "cell_type": "markdown",
      "source": [
        "# 准备图像分类数据集和模型文件\n",
        "\n",
        "同济子豪兄：https://space.bilibili.com/1900783\n",
        "\n",
        "[代码运行云GPU环境](https://featurize.cn/?s=d7ce99f842414bfcaea5662a97581bd1)：GPU RTX 3060、CUDA v11.2\n",
        "\n",
        "## 构建自己的图像分类数据集\n",
        "\n",
        "https://www.bilibili.com/video/BV1Jd4y1T7rw"
      ],
      "metadata": {
        "pycharm": {
          "name": "#%% md\n"
        }
      },
      "id": "4a36abc9-47b6-4e9a-8d2c-330e64012db2"
    },
    {
      "cell_type": "markdown",
      "source": [
        "## 下载样例数据集"
      ],
      "metadata": {
        "pycharm": {
          "name": "#%% md\n"
        }
      },
      "id": "e0f48f3b-5137-4b11-a529-4ae41c8806e4"
    },
    {
      "cell_type": "code",
      "source": [
        "# 下载数据集压缩包\n",
        "!wget https://zihao-openmmlab.obs.cn-east-3.myhuaweicloud.com/20220716-mmclassification/dataset/fruit30/fruit30_split.zip\n"
      ],
      "outputs": [
        {
          "output_type": "stream",
          "name": "stdout",
          "text": "--2023-01-28 07:07:53--  https://zihao-openmmlab.obs.cn-east-3.myhuaweicloud.com/20220716-mmclassification/dataset/fruit30/fruit30_split.zip\nResolving zihao-openmmlab.obs.cn-east-3.myhuaweicloud.com (zihao-openmmlab.obs.cn-east-3.myhuaweicloud.com)... 121.36.235.132\nConnecting to zihao-openmmlab.obs.cn-east-3.myhuaweicloud.com (zihao-openmmlab.obs.cn-east-3.myhuaweicloud.com)|121.36.235.132|:443... connected.\nHTTP request sent, awaiting response... 200 OK\nLength: 226278151 (216M) [application/zip]\nSaving to: ‘fruit30_split.zip’\n\nfruit30_split.zip   100%[===================>] 215.79M  13.9MB/s    in 17s     \n\n2023-01-28 07:08:13 (12.3 MB/s) - ‘fruit30_split.zip’ saved [226278151/226278151]\n\n"
        }
      ],
      "execution_count": 2,
      "metadata": {
        "gather": {
          "logged": 1674889694117
        },
        "pycharm": {
          "name": "#%%\n"
        }
      },
      "id": "70a97135-b7a8-4817-a43d-742171ac5978"
    },
    {
      "cell_type": "code",
      "source": [
        "# 解压\n",
        "!unzip fruit30_split.zip >> /dev/null\n",
        "# 删除压缩包\n",
        "!rm fruit30_split.zip"
      ],
      "outputs": [],
      "execution_count": 3,
      "metadata": {
        "gather": {
          "logged": 1674890145683
        },
        "pycharm": {
          "name": "#%%\n"
        }
      },
      "id": "0263626b-53b2-47c4-aefa-1298c26869c9"
    },
    {
      "cell_type": "code",
      "source": [
        "# 下载 类别名称 和 ID索引号 的映射字典\n",
        "!wget https://zihao-openmmlab.obs.cn-east-3.myhuaweicloud.com/20220716-mmclassification/dataset/fruit30/idx_to_labels.npy"
      ],
      "outputs": [
        {
          "output_type": "stream",
          "name": "stderr",
          "text": "'wget' 不是内部或外部命令，也不是可运行的程序\n或批处理文件。\n"
        }
      ],
      "execution_count": 3,
      "metadata": {
        "gather": {
          "logged": 1674824801629
        },
        "pycharm": {
          "name": "#%%\n"
        }
      },
      "id": "44f40ac2-6dd4-4975-bf84-ac5792f0b711"
    },
    {
      "cell_type": "markdown",
      "source": [
        "## 查看数据集目录结构"
      ],
      "metadata": {
        "pycharm": {
          "name": "#%% md\n"
        }
      },
      "id": "55155fe0-2d99-458e-bdb2-ac894d7a6046"
    },
    {
      "cell_type": "code",
      "source": [
        "# !sudo snap install tree\n",
        "!sudo apt install tree"
      ],
      "outputs": [
        {
          "output_type": "stream",
          "name": "stdout",
          "text": "Reading package lists... Done\nBuilding dependency tree       \nReading state information... Done\nThe following packages were automatically installed and are no longer required:\n  ca-certificates-java cmake-data cuda-command-line-tools-11-3\n  cuda-compiler-11-3 cuda-cudart-11-3 cuda-cudart-dev-11-3 cuda-cuobjdump-11-3\n  cuda-cupti-11-3 cuda-cupti-dev-11-3 cuda-cuxxfilt-11-3\n  cuda-documentation-11-3 cuda-driver-dev-11-3 cuda-gdb-11-3\n  cuda-libraries-11-3 cuda-libraries-dev-11-3 cuda-memcheck-11-3\n  cuda-nsight-11-3 cuda-nsight-compute-11-3 cuda-nsight-systems-11-3\n  cuda-nvcc-11-3 cuda-nvdisasm-11-3 cuda-nvml-dev-11-3 cuda-nvprof-11-3\n  cuda-nvprune-11-3 cuda-nvrtc-11-3 cuda-nvrtc-dev-11-3 cuda-nvtx-11-3\n  cuda-nvvp-11-3 cuda-samples-11-3 cuda-sanitizer-11-3 cuda-thrust-11-3\n  cuda-toolkit-11-3 cuda-toolkit-11-3-config-common\n  cuda-toolkit-11-config-common cuda-toolkit-config-common cuda-tools-11-3\n  cuda-visual-tools-11-3 default-jre default-jre-headless fonts-dejavu-extra\n  java-common libatk-wrapper-java libatk-wrapper-java-jni libcublas-11-3\n  libcublas-dev-11-3 libcufft-11-3 libcufft-dev-11-3 libcurand-11-3\n  libcurand-dev-11-3 libcusolver-11-3 libcusolver-dev-11-3 libcusparse-11-3\n  libcusparse-dev-11-3 libjsoncpp1 libnpp-11-3 libnpp-dev-11-3\n  libnvidia-common-525 libnvjpeg-11-3 libnvjpeg-dev-11-3 libpcsclite1\n  librhash0 nsight-compute-2021.1.1 nsight-systems-2021.1.3 openjdk-11-jre\n  openjdk-11-jre-headless\nUse 'sudo apt autoremove' to remove them.\nThe following NEW packages will be installed:\n  tree\n0 upgraded, 1 newly installed, 0 to remove and 1 not upgraded.\nNeed to get 43.0 kB of archives.\nAfter this operation, 115 kB of additional disk space will be used.\nGet:1 http://azure.archive.ubuntu.com/ubuntu focal/universe amd64 tree amd64 1.8.0-1 [43.0 kB]\nFetched 43.0 kB in 0s (2788 kB/s)[0m\u001b[33m\n\n\u001b7\u001b[0;23r\u001b8\u001b[1ASelecting previously unselected package tree.\n(Reading database ... 181082 files and directories currently installed.)\nPreparing to unpack .../tree_1.8.0-1_amd64.deb ...\n\u001b7\u001b[24;0f\u001b[42m\u001b[30mProgress: [  0%]\u001b[49m\u001b[39m [..........................................................] \u001b8\u001b7\u001b[24;0f\u001b[42m\u001b[30mProgress: [ 20%]\u001b[49m\u001b[39m [###########...............................................] \u001b8Unpacking tree (1.8.0-1) ...\n\u001b7\u001b[24;0f\u001b[42m\u001b[30mProgress: [ 40%]\u001b[49m\u001b[39m [#######################...................................] \u001b8Setting up tree (1.8.0-1) ...\n\u001b7\u001b[24;0f\u001b[42m\u001b[30mProgress: [ 60%]\u001b[49m\u001b[39m [##################################........................] \u001b8\u001b7\u001b[24;0f\u001b[42m\u001b[30mProgress: [ 80%]\u001b[49m\u001b[39m [##############################################............] \u001b8Processing triggers for man-db (2.9.1-1) ...\n\n\u001b7\u001b[0;24r\u001b8\u001b[1A\u001b[J"
        }
      ],
      "execution_count": 4,
      "metadata": {
        "pycharm": {
          "name": "#%%\n"
        },
        "gather": {
          "logged": 1674890148954
        }
      },
      "id": "f06d00df-aa4f-41fe-a2be-50a677bb5a3f"
    },
    {
      "cell_type": "code",
      "source": [
        "!tree fruit30_split -L 2"
      ],
      "outputs": [
        {
          "output_type": "stream",
          "name": "stdout",
          "text": "参数太多 - -L\n"
        }
      ],
      "execution_count": 5,
      "metadata": {
        "pycharm": {
          "name": "#%%\n"
        }
      },
      "id": "8f9f463f-ea2e-4d7b-b7b2-9f528afe987c"
    },
    {
      "cell_type": "markdown",
      "source": [
        "## 训练好的模型文件"
      ],
      "metadata": {
        "pycharm": {
          "name": "#%% md\n"
        }
      },
      "id": "473cdb41-9885-461b-904b-eeccf7648684"
    },
    {
      "cell_type": "code",
      "source": [
        "# 下载样例模型文件\n",
        "!wget https://zihao-openmmlab.obs.cn-east-3.myhuaweicloud.com/20220716-mmclassification/checkpoints/fruit30_pytorch_20220814.pth -P checkpoints\n"
      ],
      "outputs": [
        {
          "output_type": "stream",
          "name": "stdout",
          "text": "--2023-01-28 07:15:48--  https://zihao-openmmlab.obs.cn-east-3.myhuaweicloud.com/20220716-mmclassification/checkpoints/fruit30_pytorch_20220814.pth\nResolving zihao-openmmlab.obs.cn-east-3.myhuaweicloud.com (zihao-openmmlab.obs.cn-east-3.myhuaweicloud.com)... 121.36.235.132\nConnecting to zihao-openmmlab.obs.cn-east-3.myhuaweicloud.com (zihao-openmmlab.obs.cn-east-3.myhuaweicloud.com)|121.36.235.132|:443... connected.\nHTTP request sent, awaiting response... 200 OK\nLength: 44854477 (43M) [binary/octet-stream]\nSaving to: ‘checkpoints/fruit30_pytorch_20220814.pth.1’\n\nfruit30_pytorch_202 100%[===================>]  42.78M  13.7MB/s    in 4.3s    \n\n2023-01-28 07:15:54 (10.0 MB/s) - ‘checkpoints/fruit30_pytorch_20220814.pth.1’ saved [44854477/44854477]\n\n"
        }
      ],
      "execution_count": 5,
      "metadata": {
        "gather": {
          "logged": 1674890154912
        },
        "pycharm": {
          "name": "#%%\n"
        }
      },
      "id": "9bed2674-c592-4e2d-b696-8ffb537bc2cf"
    },
    {
      "cell_type": "code",
      "source": [],
      "outputs": [],
      "execution_count": null,
      "metadata": {
        "pycharm": {
          "name": "#%%\n"
        }
      },
      "id": "aa8c32ee-5fea-4d76-bc33-1e7efdfc20b0"
    }
  ],
  "metadata": {
    "kernelspec": {
      "name": "python3",
      "language": "python",
      "display_name": "Python 3 (ipykernel)"
    },
    "language_info": {
      "name": "python",
      "version": "3.8.5",
      "mimetype": "text/x-python",
      "codemirror_mode": {
        "name": "ipython",
        "version": 3
      },
      "pygments_lexer": "ipython3",
      "nbconvert_exporter": "python",
      "file_extension": ".py"
    },
    "kernel_info": {
      "name": "python3"
    },
    "nteract": {
      "version": "nteract-front-end@1.0.0"
    }
  },
  "nbformat": 4,
  "nbformat_minor": 5
}