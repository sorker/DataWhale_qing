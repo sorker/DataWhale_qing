{
 "cells": [
  {
   "cell_type": "markdown",
   "source": [
    "# 准备图像分类数据集和模型文件\n",
    "\n",
    "同济子豪兄：https://space.bilibili.com/1900783\n",
    "\n",
    "[代码运行云GPU环境](https://featurize.cn/?s=d7ce99f842414bfcaea5662a97581bd1)：GPU RTX 3060、CUDA v11.2\n",
    "\n",
    "## 构建自己的图像分类数据集\n",
    "\n",
    "https://www.bilibili.com/video/BV1Jd4y1T7rw"
   ],
   "metadata": {
    "pycharm": {
     "name": "#%% md\n"
    }
   },
   "id": "4a36abc9-47b6-4e9a-8d2c-330e64012db2"
  },
  {
   "cell_type": "markdown",
   "source": [
    "## 下载样例数据集"
   ],
   "metadata": {
    "pycharm": {
     "name": "#%% md\n"
    }
   },
   "id": "e0f48f3b-5137-4b11-a529-4ae41c8806e4"
  },
  {
   "cell_type": "code",
   "source": [
    "# 下载数据集压缩包\n",
    "!wget https://zihao-openmmlab.obs.cn-east-3.myhuaweicloud.com/20220716-mmclassification/dataset/fruit30/fruit30_split.zip\n"
   ],
   "outputs": [
    {
     "name": "stderr",
     "output_type": "stream",
     "text": [
      "'wget' 不是内部或外部命令，也不是可运行的程序\n",
      "或批处理文件。\n"
     ]
    }
   ],
   "execution_count": 1,
   "metadata": {
    "gather": {
     "logged": 1674824416627
    },
    "pycharm": {
     "name": "#%%\n"
    }
   },
   "id": "70a97135-b7a8-4817-a43d-742171ac5978"
  },
  {
   "cell_type": "code",
   "source": [
    "# 解压\n",
    "!unzip fruit30_split.zip >> /dev/null\n",
    "# 删除压缩包\n",
    "!rm fruit30_split.zip"
   ],
   "outputs": [
    {
     "name": "stderr",
     "output_type": "stream",
     "text": [
      "系统找不到指定的路径。\n",
      "'rm' 不是内部或外部命令，也不是可运行的程序\n",
      "或批处理文件。\n"
     ]
    }
   ],
   "execution_count": 2,
   "metadata": {
    "gather": {
     "logged": 1674824800280
    },
    "pycharm": {
     "name": "#%%\n"
    }
   },
   "id": "0263626b-53b2-47c4-aefa-1298c26869c9"
  },
  {
   "cell_type": "code",
   "source": [
    "# 下载 类别名称 和 ID索引号 的映射字典\n",
    "!wget https://zihao-openmmlab.obs.cn-east-3.myhuaweicloud.com/20220716-mmclassification/dataset/fruit30/idx_to_labels.npy"
   ],
   "outputs": [
    {
     "name": "stderr",
     "output_type": "stream",
     "text": [
      "'wget' 不是内部或外部命令，也不是可运行的程序\n",
      "或批处理文件。\n"
     ]
    }
   ],
   "execution_count": 3,
   "metadata": {
    "gather": {
     "logged": 1674824801629
    },
    "pycharm": {
     "name": "#%%\n"
    }
   },
   "id": "44f40ac2-6dd4-4975-bf84-ac5792f0b711"
  },
  {
   "cell_type": "markdown",
   "source": [
    "## 查看数据集目录结构"
   ],
   "metadata": {
    "pycharm": {
     "name": "#%% md\n"
    }
   },
   "id": "55155fe0-2d99-458e-bdb2-ac894d7a6046"
  },
  {
   "cell_type": "code",
   "source": [
    "# !sudo snap install tree\n",
    "!sudo apt install tree"
   ],
   "outputs": [
    {
     "name": "stderr",
     "output_type": "stream",
     "text": [
      "'sudo' 不是内部或外部命令，也不是可运行的程序\n",
      "或批处理文件。\n"
     ]
    }
   ],
   "execution_count": 4,
   "metadata": {
    "pycharm": {
     "name": "#%%\n"
    }
   },
   "id": "f06d00df-aa4f-41fe-a2be-50a677bb5a3f"
  },
  {
   "cell_type": "code",
   "source": [
    "!tree fruit30_split -L 2"
   ],
   "outputs": [
    {
     "name": "stdout",
     "output_type": "stream",
     "text": [
      "参数太多 - -L\n"
     ]
    }
   ],
   "execution_count": 5,
   "metadata": {
    "pycharm": {
     "name": "#%%\n"
    }
   },
   "id": "8f9f463f-ea2e-4d7b-b7b2-9f528afe987c"
  },
  {
   "cell_type": "markdown",
   "source": [
    "## 训练好的模型文件"
   ],
   "metadata": {
    "pycharm": {
     "name": "#%% md\n"
    }
   },
   "id": "473cdb41-9885-461b-904b-eeccf7648684"
  },
  {
   "cell_type": "code",
   "source": [
    "# 下载样例模型文件\n",
    "!wget https://zihao-openmmlab.obs.cn-east-3.myhuaweicloud.com/20220716-mmclassification/checkpoints/fruit30_pytorch_20220814.pth -P checkpoints\n"
   ],
   "outputs": [
    {
     "name": "stderr",
     "output_type": "stream",
     "text": [
      "'wget' 不是内部或外部命令，也不是可运行的程序\n",
      "或批处理文件。\n"
     ]
    }
   ],
   "execution_count": 7,
   "metadata": {
    "gather": {
     "logged": 1674825590408
    },
    "pycharm": {
     "name": "#%%\n"
    }
   },
   "id": "9bed2674-c592-4e2d-b696-8ffb537bc2cf"
  },
  {
   "cell_type": "code",
   "source": [],
   "outputs": [],
   "execution_count": null,
   "metadata": {
    "pycharm": {
     "name": "#%%\n"
    }
   },
   "id": "aa8c32ee-5fea-4d76-bc33-1e7efdfc20b0"
  }
 ],
 "metadata": {
  "kernelspec": {
   "name": "python3",
   "language": "python",
   "display_name": "Python 3 (ipykernel)"
  },
  "language_info": {
   "name": "python",
   "version": "3.8.5",
   "mimetype": "text/x-python",
   "codemirror_mode": {
    "name": "ipython",
    "version": 3
   },
   "pygments_lexer": "ipython3",
   "nbconvert_exporter": "python",
   "file_extension": ".py"
  },
  "kernel_info": {
   "name": "python3"
  },
  "nteract": {
   "version": "nteract-front-end@1.0.0"
  }
 },
 "nbformat": 4,
 "nbformat_minor": 5
}