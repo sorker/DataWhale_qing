{
  "cells": [
    {
      "cell_type": "markdown",
      "source": [
        "# 准备图像分类数据集和模型文件\n",
        "\n",
        "同济子豪兄：https://space.bilibili.com/1900783\n",
        "\n",
        "[代码运行云GPU环境](https://featurize.cn/?s=d7ce99f842414bfcaea5662a97581bd1)：GPU RTX 3060、CUDA v11.2\n",
        "\n",
        "## 构建自己的图像分类数据集\n",
        "\n",
        "https://www.bilibili.com/video/BV1Jd4y1T7rw"
      ],
      "metadata": {},
      "id": "4a36abc9-47b6-4e9a-8d2c-330e64012db2"
    },
    {
      "cell_type": "markdown",
      "source": [
        "## 下载样例数据集"
      ],
      "metadata": {},
      "id": "e0f48f3b-5137-4b11-a529-4ae41c8806e4"
    },
    {
      "cell_type": "code",
      "source": [
        "# 下载数据集压缩包\n",
        "!wget https://zihao-openmmlab.obs.cn-east-3.myhuaweicloud.com/20220716-mmclassification/dataset/fruit30/fruit30_split.zip\n"
      ],
      "outputs": [
        {
          "output_type": "stream",
          "name": "stdout",
          "text": "--2023-01-27 12:59:57--  https://zihao-openmmlab.obs.cn-east-3.myhuaweicloud.com/20220716-mmclassification/dataset/fruit30/fruit30_split.zip\nResolving zihao-openmmlab.obs.cn-east-3.myhuaweicloud.com (zihao-openmmlab.obs.cn-east-3.myhuaweicloud.com)... 121.36.235.132\nConnecting to zihao-openmmlab.obs.cn-east-3.myhuaweicloud.com (zihao-openmmlab.obs.cn-east-3.myhuaweicloud.com)|121.36.235.132|:443... connected.\nHTTP request sent, awaiting response... 200 OK\nLength: 226278151 (216M) [application/zip]\nSaving to: ‘fruit30_split.zip’\n\nfruit30_split.zip   100%[===================>] 215.79M  14.4MB/s    in 17s     \n\n2023-01-27 13:00:15 (12.8 MB/s) - ‘fruit30_split.zip’ saved [226278151/226278151]\n\n"
        }
      ],
      "execution_count": 1,
      "metadata": {
        "gather": {
          "logged": 1674824416627
        }
      },
      "id": "70a97135-b7a8-4817-a43d-742171ac5978"
    },
    {
      "cell_type": "code",
      "source": [
        "# 解压\n",
        "!unzip fruit30_split.zip >> /dev/null\n",
        "# 删除压缩包\n",
        "!rm fruit30_split.zip"
      ],
      "outputs": [],
      "execution_count": 2,
      "metadata": {
        "gather": {
          "logged": 1674824800280
        }
      },
      "id": "0263626b-53b2-47c4-aefa-1298c26869c9"
    },
    {
      "cell_type": "code",
      "source": [
        "# 下载 类别名称 和 ID索引号 的映射字典\n",
        "!wget https://zihao-openmmlab.obs.cn-east-3.myhuaweicloud.com/20220716-mmclassification/dataset/fruit30/idx_to_labels.npy"
      ],
      "outputs": [
        {
          "output_type": "stream",
          "name": "stdout",
          "text": "--2023-01-27 13:06:39--  https://zihao-openmmlab.obs.cn-east-3.myhuaweicloud.com/20220716-mmclassification/dataset/fruit30/idx_to_labels.npy\nResolving zihao-openmmlab.obs.cn-east-3.myhuaweicloud.com (zihao-openmmlab.obs.cn-east-3.myhuaweicloud.com)... 121.36.235.132\nConnecting to zihao-openmmlab.obs.cn-east-3.myhuaweicloud.com (zihao-openmmlab.obs.cn-east-3.myhuaweicloud.com)|121.36.235.132|:443... connected.\nHTTP request sent, awaiting response... 200 OK\nLength: 769 [binary/octet-stream]\nSaving to: ‘idx_to_labels.npy.1’\n\nidx_to_labels.npy.1 100%[===================>]     769  --.-KB/s    in 0s      \n\n2023-01-27 13:06:40 (28.1 MB/s) - ‘idx_to_labels.npy.1’ saved [769/769]\n\n"
        }
      ],
      "execution_count": 3,
      "metadata": {
        "gather": {
          "logged": 1674824801629
        }
      },
      "id": "44f40ac2-6dd4-4975-bf84-ac5792f0b711"
    },
    {
      "cell_type": "markdown",
      "source": [
        "## 查看数据集目录结构"
      ],
      "metadata": {},
      "id": "55155fe0-2d99-458e-bdb2-ac894d7a6046"
    },
    {
      "cell_type": "code",
      "source": [
        "# !sudo snap install tree\r\n",
        "!sudo apt install tree"
      ],
      "outputs": [
        {
          "output_type": "stream",
          "name": "stdout",
          "text": "\u001b[0m\u001b[?25h\u001b[Ktree 1.8.0+pkg-3fd6 from 林博仁(Buo-ren, Lin) (brlin\u001b[32m\u001b[0m) installedns\u001b[0m\n"
        }
      ],
      "execution_count": 4,
      "metadata": {},
      "id": "f06d00df-aa4f-41fe-a2be-50a677bb5a3f"
    },
    {
      "cell_type": "code",
      "source": [
        "!tree fruit30_split -L 2"
      ],
      "outputs": [
        {
          "output_type": "stream",
          "name": "stdout",
          "text": "\u001b[01;34mfruit30_split\u001b[00m\r\n├── \u001b[01;34mtrain\u001b[00m\r\n│   ├── \u001b[01;34m哈密瓜\u001b[00m\r\n│   ├── \u001b[01;34m圣女果\u001b[00m\r\n│   ├── \u001b[01;34m山竹\u001b[00m\r\n│   ├── \u001b[01;34m杨梅\u001b[00m\r\n│   ├── \u001b[01;34m柚子\u001b[00m\r\n│   ├── \u001b[01;34m柠檬\u001b[00m\r\n│   ├── \u001b[01;34m桂圆\u001b[00m\r\n│   ├── \u001b[01;34m梨\u001b[00m\r\n│   ├── \u001b[01;34m椰子\u001b[00m\r\n│   ├── \u001b[01;34m榴莲\u001b[00m\r\n│   ├── \u001b[01;34m火龙果\u001b[00m\r\n│   ├── \u001b[01;34m猕猴桃\u001b[00m\r\n│   ├── \u001b[01;34m石榴\u001b[00m\r\n│   ├── \u001b[01;34m砂糖橘\u001b[00m\r\n│   ├── \u001b[01;34m胡萝卜\u001b[00m\r\n│   ├── \u001b[01;34m脐橙\u001b[00m\r\n│   ├── \u001b[01;34m芒果\u001b[00m\r\n│   ├── \u001b[01;34m苦瓜\u001b[00m\r\n│   ├── \u001b[01;34m苹果-红\u001b[00m\r\n│   ├── \u001b[01;34m苹果-青\u001b[00m\r\n│   ├── \u001b[01;34m草莓\u001b[00m\r\n│   ├── \u001b[01;34m荔枝\u001b[00m\r\n│   ├── \u001b[01;34m菠萝\u001b[00m\r\n│   ├── \u001b[01;34m葡萄-白\u001b[00m\r\n│   ├── \u001b[01;34m葡萄-红\u001b[00m\r\n│   ├── \u001b[01;34m西瓜\u001b[00m\r\n│   ├── \u001b[01;34m西红柿\u001b[00m\r\n│   ├── \u001b[01;34m车厘子\u001b[00m\r\n│   ├── \u001b[01;34m香蕉\u001b[00m\r\n│   └── \u001b[01;34m黄瓜\u001b[00m\r\n└── \u001b[01;34mval\u001b[00m\r\n    ├── \u001b[01;34m哈密瓜\u001b[00m\r\n    ├── \u001b[01;34m圣女果\u001b[00m\r\n    ├── \u001b[01;34m山竹\u001b[00m\r\n    ├── \u001b[01;34m杨梅\u001b[00m\r\n    ├── \u001b[01;34m柚子\u001b[00m\r\n    ├── \u001b[01;34m柠檬\u001b[00m\r\n    ├── \u001b[01;34m桂圆\u001b[00m\r\n    ├── \u001b[01;34m梨\u001b[00m\r\n    ├── \u001b[01;34m椰子\u001b[00m\r\n    ├── \u001b[01;34m榴莲\u001b[00m\r\n    ├── \u001b[01;34m火龙果\u001b[00m\r\n    ├── \u001b[01;34m猕猴桃\u001b[00m\r\n    ├── \u001b[01;34m石榴\u001b[00m\r\n    ├── \u001b[01;34m砂糖橘\u001b[00m\r\n    ├── \u001b[01;34m胡萝卜\u001b[00m\r\n    ├── \u001b[01;34m脐橙\u001b[00m\r\n    ├── \u001b[01;34m芒果\u001b[00m\r\n    ├── \u001b[01;34m苦瓜\u001b[00m\r\n    ├── \u001b[01;34m苹果-红\u001b[00m\r\n    ├── \u001b[01;34m苹果-青\u001b[00m\r\n    ├── \u001b[01;34m草莓\u001b[00m\r\n    ├── \u001b[01;34m荔枝\u001b[00m\r\n    ├── \u001b[01;34m菠萝\u001b[00m\r\n    ├── \u001b[01;34m葡萄-白\u001b[00m\r\n    ├── \u001b[01;34m葡萄-红\u001b[00m\r\n    ├── \u001b[01;34m西瓜\u001b[00m\r\n    ├── \u001b[01;34m西红柿\u001b[00m\r\n    ├── \u001b[01;34m车厘子\u001b[00m\r\n    ├── \u001b[01;34m香蕉\u001b[00m\r\n    └── \u001b[01;34m黄瓜\u001b[00m\r\n\r\n62 directories, 0 files\r\n"
        }
      ],
      "execution_count": 12,
      "metadata": {},
      "id": "8f9f463f-ea2e-4d7b-b7b2-9f528afe987c"
    },
    {
      "cell_type": "markdown",
      "source": [
        "## 训练好的模型文件"
      ],
      "metadata": {},
      "id": "473cdb41-9885-461b-904b-eeccf7648684"
    },
    {
      "cell_type": "code",
      "source": [
        "# 下载样例模型文件\n",
        "!wget https://zihao-openmmlab.obs.cn-east-3.myhuaweicloud.com/20220716-mmclassification/checkpoints/fruit30_pytorch_20220814.pth -P checkpoints\n"
      ],
      "outputs": [
        {
          "output_type": "stream",
          "name": "stdout",
          "text": "--2023-01-27 13:19:43--  https://zihao-openmmlab.obs.cn-east-3.myhuaweicloud.com/20220716-mmclassification/checkpoints/fruit30_pytorch_20220814.pth\nResolving zihao-openmmlab.obs.cn-east-3.myhuaweicloud.com (zihao-openmmlab.obs.cn-east-3.myhuaweicloud.com)... 121.36.235.132\nConnecting to zihao-openmmlab.obs.cn-east-3.myhuaweicloud.com (zihao-openmmlab.obs.cn-east-3.myhuaweicloud.com)|121.36.235.132|:443... connected.\nHTTP request sent, awaiting response... 200 OK\nLength: 44854477 (43M) [binary/octet-stream]\nSaving to: ‘checkpoints/fruit30_pytorch_20220814.pth’\n\nfruit30_pytorch_202 100%[===================>]  42.78M  13.3MB/s    in 4.5s    \n\n2023-01-27 13:19:49 (9.59 MB/s) - ‘checkpoints/fruit30_pytorch_20220814.pth’ saved [44854477/44854477]\n\n"
        }
      ],
      "execution_count": 11,
      "metadata": {
        "gather": {
          "logged": 1674825590408
        }
      },
      "id": "9bed2674-c592-4e2d-b696-8ffb537bc2cf"
    },
    {
      "cell_type": "code",
      "source": [],
      "outputs": [],
      "execution_count": null,
      "metadata": {},
      "id": "aa8c32ee-5fea-4d76-bc33-1e7efdfc20b0"
    }
  ],
  "metadata": {
    "kernelspec": {
      "name": "python3",
      "language": "python",
      "display_name": "Python 3 (ipykernel)"
    },
    "language_info": {
      "name": "python",
      "version": "3.8.5",
      "mimetype": "text/x-python",
      "codemirror_mode": {
        "name": "ipython",
        "version": 3
      },
      "pygments_lexer": "ipython3",
      "nbconvert_exporter": "python",
      "file_extension": ".py"
    },
    "kernel_info": {
      "name": "python3"
    },
    "nteract": {
      "version": "nteract-front-end@1.0.0"
    }
  },
  "nbformat": 4,
  "nbformat_minor": 5
}