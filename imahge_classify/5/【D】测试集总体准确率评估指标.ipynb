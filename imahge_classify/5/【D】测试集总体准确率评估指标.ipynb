{
 "cells": [
  {
   "cell_type": "markdown",
   "source": [
    "# 测试集总体准确率评估指标\n",
    "\n",
    "分析测试集预测结果表格，计算总体准确率评估指标和各类别准确率评估指标。\n",
    "\n",
    "同济子豪兄：https://space.bilibili.com/1900783"
   ],
   "metadata": {
    "pycharm": {
     "name": "#%% md\n"
    }
   },
   "id": "2a22969d-14d8-430d-84af-2ce7c2e5cf29"
  },
  {
   "cell_type": "markdown",
   "source": [
    "## 导入工具包"
   ],
   "metadata": {
    "pycharm": {
     "name": "#%% md\n"
    }
   },
   "id": "6126ed04-a127-4d55-8a4b-aeb5d440039c"
  },
  {
   "cell_type": "code",
   "source": [
    "import pandas as pd\n",
    "import numpy as np\n",
    "from tqdm import tqdm"
   ],
   "outputs": [],
   "execution_count": 1,
   "metadata": {
    "gather": {
     "logged": 1674825886622
    },
    "pycharm": {
     "name": "#%%\n"
    }
   },
   "id": "4c48d4e8-5de7-4d6f-9e6d-c5f799f1223d"
  },
  {
   "cell_type": "markdown",
   "source": [
    "## 载入类别名称和ID"
   ],
   "metadata": {
    "pycharm": {
     "name": "#%% md\n"
    }
   },
   "id": "f1d831d0-8192-4db6-b913-ef7327463f35"
  },
  {
   "cell_type": "code",
   "source": [
    "idx_to_labels = np.load('idx_to_labels.npy', allow_pickle=True).item()\n",
    "# 获得类别名称\n",
    "classes = list(idx_to_labels.values())\n",
    "print(classes)"
   ],
   "outputs": [
    {
     "output_type": "stream",
     "name": "stdout",
     "text": "['哈密瓜', '圣女果', '山竹', '杨梅', '柚子', '柠檬', '桂圆', '梨', '椰子', '榴莲', '火龙果', '猕猴桃', '石榴', '砂糖橘', '胡萝卜', '脐橙', '芒果', '苦瓜', '苹果-红', '苹果-青', '草莓', '荔枝', '菠萝', '葡萄-白', '葡萄-红', '西瓜', '西红柿', '车厘子', '香蕉', '黄瓜']\n"
    }
   ],
   "execution_count": 2,
   "metadata": {
    "gather": {
     "logged": 1674825887049
    },
    "pycharm": {
     "name": "#%%\n"
    }
   },
   "id": "00c507c4-c990-4326-b479-4b18e8aa50da"
  },
  {
   "cell_type": "markdown",
   "source": [
    "## 载入测试集预测结果表格"
   ],
   "metadata": {
    "pycharm": {
     "name": "#%% md\n"
    }
   },
   "id": "a25de944-2532-472c-af77-6b8eaacfa916"
  },
  {
   "cell_type": "code",
   "source": [
    "df = pd.read_csv('测试集预测结果.csv')"
   ],
   "outputs": [],
   "execution_count": 3,
   "metadata": {
    "gather": {
     "logged": 1674825921215
    },
    "pycharm": {
     "name": "#%%\n"
    }
   },
   "id": "42c95441-d023-4fc2-897b-3f6a7f86e017"
  },
  {
   "cell_type": "code",
   "source": [
    "df"
   ],
   "outputs": [
    {
     "output_type": "execute_result",
     "execution_count": 4,
     "data": {
      "text/plain": "                               图像路径  标注类别ID 标注类别名称  top-1-预测ID top-1-预测名称  \\\n0     fruit30_split/val/哈密瓜/106.jpg       0    哈密瓜           4         柚子   \n1     fruit30_split/val/哈密瓜/109.jpg       0    哈密瓜           6         桂圆   \n2     fruit30_split/val/哈密瓜/114.jpg       0    哈密瓜           0        哈密瓜   \n3     fruit30_split/val/哈密瓜/116.jpg       0    哈密瓜           0        哈密瓜   \n4     fruit30_split/val/哈密瓜/118.png       0    哈密瓜           4         柚子   \n...                             ...     ...    ...         ...        ...   \n1073    fruit30_split/val/黄瓜/87.jpg      29     黄瓜          29         黄瓜   \n1074     fruit30_split/val/黄瓜/9.jpg      29     黄瓜          29         黄瓜   \n1075    fruit30_split/val/黄瓜/91.png      29     黄瓜          29         黄瓜   \n1076    fruit30_split/val/黄瓜/94.jpg      29     黄瓜          29         黄瓜   \n1077    fruit30_split/val/黄瓜/97.jpg      29     黄瓜          29         黄瓜   \n\n      top-2-预测ID top-2-预测名称  top-3-预测ID top-3-预测名称  top-n预测正确  ...  \\\n0              5         柠檬           7          梨      False  ...   \n1              0        哈密瓜           8         椰子       True  ...   \n2             26        西红柿          23       葡萄-白       True  ...   \n3             16         芒果           4         柚子       True  ...   \n4             11        猕猴桃          23       葡萄-白      False  ...   \n...          ...        ...         ...        ...        ...  ...   \n1073          25         西瓜          17         苦瓜       True  ...   \n1074          17         苦瓜          19       苹果-青       True  ...   \n1075          17         苦瓜          23       葡萄-白       True  ...   \n1076          17         苦瓜          10        火龙果       True  ...   \n1077          17         苦瓜          20         草莓       True  ...   \n\n          草莓-预测置信度      荔枝-预测置信度      菠萝-预测置信度    葡萄-白-预测置信度    葡萄-红-预测置信度  \\\n0     1.815084e-07  1.234387e-06  3.243423e-06  1.120144e-05  6.447955e-06   \n1     7.804896e-08  1.349890e-06  9.750311e-07  1.510695e-03  4.290937e-05   \n2     9.334810e-03  7.176440e-03  1.038816e-03  3.752752e-02  3.499189e-02   \n3     3.197652e-05  2.536595e-04  6.003276e-05  1.584284e-03  3.354040e-06   \n4     7.075434e-04  6.795795e-05  7.408392e-05  1.152533e-01  7.618453e-04   \n...            ...           ...           ...           ...           ...   \n1073  2.647598e-08  2.788913e-10  1.830679e-09  1.688353e-05  4.367345e-10   \n1074  1.077983e-07  3.748588e-09  9.369248e-09  3.786642e-07  2.311241e-08   \n1075  2.867005e-04  6.892094e-04  1.200460e-04  6.254733e-03  5.051993e-04   \n1076  4.711977e-04  2.416200e-06  1.181708e-04  1.354685e-03  4.606787e-04   \n1077  9.858399e-05  5.240494e-08  2.631890e-05  6.695663e-05  5.562449e-06   \n\n      西瓜-预测置信度     西红柿-预测置信度     车厘子-预测置信度      香蕉-预测置信度      黄瓜-预测置信度  \n0     0.000116  1.286697e-04  4.142584e-07  4.685184e-06  6.217669e-07  \n1     0.000157  6.638699e-07  3.048453e-06  3.217701e-05  2.386899e-06  \n2     0.001578  2.654020e-01  1.620361e-04  5.668558e-03  1.115545e-03  \n3     0.000280  7.256652e-04  2.260151e-07  2.193577e-02  3.845498e-04  \n4     0.000400  2.893470e-03  2.952121e-08  3.345954e-04  4.361433e-04  \n...        ...           ...           ...           ...           ...  \n1073  0.000833  6.809828e-07  3.947978e-09  2.228800e-07  9.990937e-01  \n1074  0.000002  6.244625e-08  2.170759e-08  7.969958e-07  9.997627e-01  \n1075  0.000013  1.443847e-04  7.083568e-07  3.933063e-04  9.471092e-01  \n1076  0.001486  4.860827e-05  4.654320e-06  1.134495e-04  9.820547e-01  \n1077  0.000061  7.503472e-07  1.481079e-07  9.697259e-07  9.951879e-01  \n\n[1078 rows x 40 columns]",
      "text/html": "<div>\n<style scoped>\n    .dataframe tbody tr th:only-of-type {\n        vertical-align: middle;\n    }\n\n    .dataframe tbody tr th {\n        vertical-align: top;\n    }\n\n    .dataframe thead th {\n        text-align: right;\n    }\n</style>\n<table border=\"1\" class=\"dataframe\">\n  <thead>\n    <tr style=\"text-align: right;\">\n      <th></th>\n      <th>图像路径</th>\n      <th>标注类别ID</th>\n      <th>标注类别名称</th>\n      <th>top-1-预测ID</th>\n      <th>top-1-预测名称</th>\n      <th>top-2-预测ID</th>\n      <th>top-2-预测名称</th>\n      <th>top-3-预测ID</th>\n      <th>top-3-预测名称</th>\n      <th>top-n预测正确</th>\n      <th>...</th>\n      <th>草莓-预测置信度</th>\n      <th>荔枝-预测置信度</th>\n      <th>菠萝-预测置信度</th>\n      <th>葡萄-白-预测置信度</th>\n      <th>葡萄-红-预测置信度</th>\n      <th>西瓜-预测置信度</th>\n      <th>西红柿-预测置信度</th>\n      <th>车厘子-预测置信度</th>\n      <th>香蕉-预测置信度</th>\n      <th>黄瓜-预测置信度</th>\n    </tr>\n  </thead>\n  <tbody>\n    <tr>\n      <th>0</th>\n      <td>fruit30_split/val/哈密瓜/106.jpg</td>\n      <td>0</td>\n      <td>哈密瓜</td>\n      <td>4</td>\n      <td>柚子</td>\n      <td>5</td>\n      <td>柠檬</td>\n      <td>7</td>\n      <td>梨</td>\n      <td>False</td>\n      <td>...</td>\n      <td>1.815084e-07</td>\n      <td>1.234387e-06</td>\n      <td>3.243423e-06</td>\n      <td>1.120144e-05</td>\n      <td>6.447955e-06</td>\n      <td>0.000116</td>\n      <td>1.286697e-04</td>\n      <td>4.142584e-07</td>\n      <td>4.685184e-06</td>\n      <td>6.217669e-07</td>\n    </tr>\n    <tr>\n      <th>1</th>\n      <td>fruit30_split/val/哈密瓜/109.jpg</td>\n      <td>0</td>\n      <td>哈密瓜</td>\n      <td>6</td>\n      <td>桂圆</td>\n      <td>0</td>\n      <td>哈密瓜</td>\n      <td>8</td>\n      <td>椰子</td>\n      <td>True</td>\n      <td>...</td>\n      <td>7.804896e-08</td>\n      <td>1.349890e-06</td>\n      <td>9.750311e-07</td>\n      <td>1.510695e-03</td>\n      <td>4.290937e-05</td>\n      <td>0.000157</td>\n      <td>6.638699e-07</td>\n      <td>3.048453e-06</td>\n      <td>3.217701e-05</td>\n      <td>2.386899e-06</td>\n    </tr>\n    <tr>\n      <th>2</th>\n      <td>fruit30_split/val/哈密瓜/114.jpg</td>\n      <td>0</td>\n      <td>哈密瓜</td>\n      <td>0</td>\n      <td>哈密瓜</td>\n      <td>26</td>\n      <td>西红柿</td>\n      <td>23</td>\n      <td>葡萄-白</td>\n      <td>True</td>\n      <td>...</td>\n      <td>9.334810e-03</td>\n      <td>7.176440e-03</td>\n      <td>1.038816e-03</td>\n      <td>3.752752e-02</td>\n      <td>3.499189e-02</td>\n      <td>0.001578</td>\n      <td>2.654020e-01</td>\n      <td>1.620361e-04</td>\n      <td>5.668558e-03</td>\n      <td>1.115545e-03</td>\n    </tr>\n    <tr>\n      <th>3</th>\n      <td>fruit30_split/val/哈密瓜/116.jpg</td>\n      <td>0</td>\n      <td>哈密瓜</td>\n      <td>0</td>\n      <td>哈密瓜</td>\n      <td>16</td>\n      <td>芒果</td>\n      <td>4</td>\n      <td>柚子</td>\n      <td>True</td>\n      <td>...</td>\n      <td>3.197652e-05</td>\n      <td>2.536595e-04</td>\n      <td>6.003276e-05</td>\n      <td>1.584284e-03</td>\n      <td>3.354040e-06</td>\n      <td>0.000280</td>\n      <td>7.256652e-04</td>\n      <td>2.260151e-07</td>\n      <td>2.193577e-02</td>\n      <td>3.845498e-04</td>\n    </tr>\n    <tr>\n      <th>4</th>\n      <td>fruit30_split/val/哈密瓜/118.png</td>\n      <td>0</td>\n      <td>哈密瓜</td>\n      <td>4</td>\n      <td>柚子</td>\n      <td>11</td>\n      <td>猕猴桃</td>\n      <td>23</td>\n      <td>葡萄-白</td>\n      <td>False</td>\n      <td>...</td>\n      <td>7.075434e-04</td>\n      <td>6.795795e-05</td>\n      <td>7.408392e-05</td>\n      <td>1.152533e-01</td>\n      <td>7.618453e-04</td>\n      <td>0.000400</td>\n      <td>2.893470e-03</td>\n      <td>2.952121e-08</td>\n      <td>3.345954e-04</td>\n      <td>4.361433e-04</td>\n    </tr>\n    <tr>\n      <th>...</th>\n      <td>...</td>\n      <td>...</td>\n      <td>...</td>\n      <td>...</td>\n      <td>...</td>\n      <td>...</td>\n      <td>...</td>\n      <td>...</td>\n      <td>...</td>\n      <td>...</td>\n      <td>...</td>\n      <td>...</td>\n      <td>...</td>\n      <td>...</td>\n      <td>...</td>\n      <td>...</td>\n      <td>...</td>\n      <td>...</td>\n      <td>...</td>\n      <td>...</td>\n      <td>...</td>\n    </tr>\n    <tr>\n      <th>1073</th>\n      <td>fruit30_split/val/黄瓜/87.jpg</td>\n      <td>29</td>\n      <td>黄瓜</td>\n      <td>29</td>\n      <td>黄瓜</td>\n      <td>25</td>\n      <td>西瓜</td>\n      <td>17</td>\n      <td>苦瓜</td>\n      <td>True</td>\n      <td>...</td>\n      <td>2.647598e-08</td>\n      <td>2.788913e-10</td>\n      <td>1.830679e-09</td>\n      <td>1.688353e-05</td>\n      <td>4.367345e-10</td>\n      <td>0.000833</td>\n      <td>6.809828e-07</td>\n      <td>3.947978e-09</td>\n      <td>2.228800e-07</td>\n      <td>9.990937e-01</td>\n    </tr>\n    <tr>\n      <th>1074</th>\n      <td>fruit30_split/val/黄瓜/9.jpg</td>\n      <td>29</td>\n      <td>黄瓜</td>\n      <td>29</td>\n      <td>黄瓜</td>\n      <td>17</td>\n      <td>苦瓜</td>\n      <td>19</td>\n      <td>苹果-青</td>\n      <td>True</td>\n      <td>...</td>\n      <td>1.077983e-07</td>\n      <td>3.748588e-09</td>\n      <td>9.369248e-09</td>\n      <td>3.786642e-07</td>\n      <td>2.311241e-08</td>\n      <td>0.000002</td>\n      <td>6.244625e-08</td>\n      <td>2.170759e-08</td>\n      <td>7.969958e-07</td>\n      <td>9.997627e-01</td>\n    </tr>\n    <tr>\n      <th>1075</th>\n      <td>fruit30_split/val/黄瓜/91.png</td>\n      <td>29</td>\n      <td>黄瓜</td>\n      <td>29</td>\n      <td>黄瓜</td>\n      <td>17</td>\n      <td>苦瓜</td>\n      <td>23</td>\n      <td>葡萄-白</td>\n      <td>True</td>\n      <td>...</td>\n      <td>2.867005e-04</td>\n      <td>6.892094e-04</td>\n      <td>1.200460e-04</td>\n      <td>6.254733e-03</td>\n      <td>5.051993e-04</td>\n      <td>0.000013</td>\n      <td>1.443847e-04</td>\n      <td>7.083568e-07</td>\n      <td>3.933063e-04</td>\n      <td>9.471092e-01</td>\n    </tr>\n    <tr>\n      <th>1076</th>\n      <td>fruit30_split/val/黄瓜/94.jpg</td>\n      <td>29</td>\n      <td>黄瓜</td>\n      <td>29</td>\n      <td>黄瓜</td>\n      <td>17</td>\n      <td>苦瓜</td>\n      <td>10</td>\n      <td>火龙果</td>\n      <td>True</td>\n      <td>...</td>\n      <td>4.711977e-04</td>\n      <td>2.416200e-06</td>\n      <td>1.181708e-04</td>\n      <td>1.354685e-03</td>\n      <td>4.606787e-04</td>\n      <td>0.001486</td>\n      <td>4.860827e-05</td>\n      <td>4.654320e-06</td>\n      <td>1.134495e-04</td>\n      <td>9.820547e-01</td>\n    </tr>\n    <tr>\n      <th>1077</th>\n      <td>fruit30_split/val/黄瓜/97.jpg</td>\n      <td>29</td>\n      <td>黄瓜</td>\n      <td>29</td>\n      <td>黄瓜</td>\n      <td>17</td>\n      <td>苦瓜</td>\n      <td>20</td>\n      <td>草莓</td>\n      <td>True</td>\n      <td>...</td>\n      <td>9.858399e-05</td>\n      <td>5.240494e-08</td>\n      <td>2.631890e-05</td>\n      <td>6.695663e-05</td>\n      <td>5.562449e-06</td>\n      <td>0.000061</td>\n      <td>7.503472e-07</td>\n      <td>1.481079e-07</td>\n      <td>9.697259e-07</td>\n      <td>9.951879e-01</td>\n    </tr>\n  </tbody>\n</table>\n<p>1078 rows × 40 columns</p>\n</div>"
     },
     "metadata": {}
    }
   ],
   "execution_count": 4,
   "metadata": {
    "gather": {
     "logged": 1674825922720
    },
    "pycharm": {
     "name": "#%%\n"
    }
   },
   "id": "917a75bd-bd3f-4105-aa3c-0fce5e4d1fda"
  },
  {
   "cell_type": "markdown",
   "source": [
    "## 准确率"
   ],
   "metadata": {
    "pycharm": {
     "name": "#%% md\n"
    }
   },
   "id": "9a8b96c3-1d5c-41af-9592-44b839b3f4e4"
  },
  {
   "cell_type": "code",
   "source": [
    "sum(df['标注类别名称'] == df['top-1-预测名称']) / len(df)"
   ],
   "outputs": [
    {
     "output_type": "execute_result",
     "execution_count": 5,
     "data": {
      "text/plain": "0.8636363636363636"
     },
     "metadata": {}
    }
   ],
   "execution_count": 5,
   "metadata": {
    "gather": {
     "logged": 1674825925254
    },
    "pycharm": {
     "name": "#%%\n"
    }
   },
   "id": "c9886ac3-4640-4ff3-8884-2206af037fac"
  },
  {
   "cell_type": "markdown",
   "source": [
    "## top-n准确率"
   ],
   "metadata": {
    "pycharm": {
     "name": "#%% md\n"
    }
   },
   "id": "bf691ba6-ce59-4dcc-9305-109fe5dcb499"
  },
  {
   "cell_type": "code",
   "source": [
    "sum(df['top-n预测正确']) / len(df)"
   ],
   "outputs": [
    {
     "output_type": "execute_result",
     "execution_count": 6,
     "data": {
      "text/plain": "0.9647495361781077"
     },
     "metadata": {}
    }
   ],
   "execution_count": 6,
   "metadata": {
    "gather": {
     "logged": 1674825926450
    },
    "pycharm": {
     "name": "#%%\n"
    }
   },
   "id": "fedf6c0d-c06b-4a04-8a07-9d4c6f937338"
  },
  {
   "cell_type": "markdown",
   "source": [
    "## 各类别其它评估指标\n",
    "\n",
    "公众号 人工智能小技巧 回复 混淆矩阵\n",
    "\n",
    "看子豪兄视频和笔记讲解"
   ],
   "metadata": {
    "pycharm": {
     "name": "#%% md\n"
    }
   },
   "id": "8a3de26a-3e66-404b-b64d-111835a7c0de"
  },
  {
   "cell_type": "code",
   "source": [
    "from sklearn.metrics import classification_report"
   ],
   "outputs": [],
   "execution_count": 7,
   "metadata": {
    "gather": {
     "logged": 1674825935803
    },
    "pycharm": {
     "name": "#%%\n"
    }
   },
   "id": "d1e22035-9163-427f-b620-d3bc079f8959"
  },
  {
   "cell_type": "code",
   "source": [
    "print(classification_report(df['标注类别名称'], df['top-1-预测名称'], target_names=classes))"
   ],
   "outputs": [
    {
     "output_type": "stream",
     "name": "stdout",
     "text": "              precision    recall  f1-score   support\n\n         哈密瓜       0.88      0.81      0.85        37\n         圣女果       0.92      0.63      0.75        38\n          山竹       1.00      0.83      0.91        35\n          杨梅       0.86      0.84      0.85        37\n          柚子       0.74      0.76      0.75        37\n          柠檬       0.80      0.83      0.81        29\n          桂圆       0.76      1.00      0.86        38\n           梨       0.83      0.78      0.81        37\n          椰子       0.92      0.89      0.91        38\n          榴莲       0.94      0.81      0.87        36\n         火龙果       1.00      0.92      0.96        36\n         猕猴桃       0.97      0.86      0.91        37\n          石榴       0.84      0.86      0.85        37\n         砂糖橘       0.81      0.83      0.82        35\n         胡萝卜       0.91      0.89      0.90        36\n          脐橙       0.79      0.73      0.76        37\n          芒果       0.77      0.82      0.79        33\n          苦瓜       1.00      0.77      0.87        35\n        苹果-红       0.91      0.89      0.90        35\n        苹果-青       0.84      0.97      0.90        37\n          草莓       0.92      0.92      0.92        38\n          荔枝       0.85      0.92      0.89        38\n          菠萝       0.97      0.81      0.88        37\n        葡萄-白       0.94      0.97      0.95        31\n        葡萄-红       0.77      0.95      0.85        38\n          西瓜       0.83      0.95      0.89        37\n         西红柿       0.72      0.92      0.80        36\n         车厘子       1.00      0.84      0.92        32\n          香蕉       0.97      0.92      0.94        36\n          黄瓜       0.76      1.00      0.86        35\n\n    accuracy                           0.86      1078\n   macro avg       0.87      0.86      0.86      1078\nweighted avg       0.87      0.86      0.86      1078\n\n"
    }
   ],
   "execution_count": 8,
   "metadata": {
    "gather": {
     "logged": 1674825936042
    },
    "pycharm": {
     "name": "#%%\n"
    }
   },
   "id": "18d3f8e3-8e57-42c0-97d2-62f1e33b5739"
  },
  {
   "cell_type": "markdown",
   "source": [
    "macro avg 宏平均：直接将每一类的评估指标求和取平均（算数平均值）\n",
    "\n",
    "weighted avg 加权平均：按样本数量（support）加权计算评估指标的平均值"
   ],
   "metadata": {
    "pycharm": {
     "name": "#%% md\n"
    }
   },
   "id": "df4db2a0-b1b2-4cff-92e5-fc097336b2ae"
  },
  {
   "cell_type": "code",
   "source": [
    "report = classification_report(df['标注类别名称'], df['top-1-预测名称'], target_names=classes, output_dict=True)\n",
    "del report['accuracy']\n",
    "df_report = pd.DataFrame(report).transpose()"
   ],
   "outputs": [],
   "execution_count": 9,
   "metadata": {
    "gather": {
     "logged": 1674825949451
    },
    "pycharm": {
     "name": "#%%\n"
    }
   },
   "id": "64e2187b-a236-4518-a439-562e565739c5"
  },
  {
   "cell_type": "code",
   "source": [
    "df_report"
   ],
   "outputs": [
    {
     "output_type": "execute_result",
     "execution_count": 10,
     "data": {
      "text/plain": "              precision    recall  f1-score  support\n哈密瓜            0.882353  0.810811  0.845070     37.0\n圣女果            0.923077  0.631579  0.750000     38.0\n山竹             1.000000  0.828571  0.906250     35.0\n杨梅             0.861111  0.837838  0.849315     37.0\n柚子             0.736842  0.756757  0.746667     37.0\n柠檬             0.800000  0.827586  0.813559     29.0\n桂圆             0.760000  1.000000  0.863636     38.0\n梨              0.828571  0.783784  0.805556     37.0\n椰子             0.918919  0.894737  0.906667     38.0\n榴莲             0.935484  0.805556  0.865672     36.0\n火龙果            1.000000  0.916667  0.956522     36.0\n猕猴桃            0.969697  0.864865  0.914286     37.0\n石榴             0.842105  0.864865  0.853333     37.0\n砂糖橘            0.805556  0.828571  0.816901     35.0\n胡萝卜            0.914286  0.888889  0.901408     36.0\n脐橙             0.794118  0.729730  0.760563     37.0\n芒果             0.771429  0.818182  0.794118     33.0\n苦瓜             1.000000  0.771429  0.870968     35.0\n苹果-红           0.911765  0.885714  0.898551     35.0\n苹果-青           0.837209  0.972973  0.900000     37.0\n草莓             0.921053  0.921053  0.921053     38.0\n荔枝             0.853659  0.921053  0.886076     38.0\n菠萝             0.967742  0.810811  0.882353     37.0\n葡萄-白           0.937500  0.967742  0.952381     31.0\n葡萄-红           0.765957  0.947368  0.847059     38.0\n西瓜             0.833333  0.945946  0.886076     37.0\n西红柿            0.717391  0.916667  0.804878     36.0\n车厘子            1.000000  0.843750  0.915254     32.0\n香蕉             0.970588  0.916667  0.942857     36.0\n黄瓜             0.760870  1.000000  0.864198     35.0\nmacro avg      0.874020  0.863672  0.864041   1078.0\nweighted avg   0.873563  0.863636  0.863728   1078.0",
      "text/html": "<div>\n<style scoped>\n    .dataframe tbody tr th:only-of-type {\n        vertical-align: middle;\n    }\n\n    .dataframe tbody tr th {\n        vertical-align: top;\n    }\n\n    .dataframe thead th {\n        text-align: right;\n    }\n</style>\n<table border=\"1\" class=\"dataframe\">\n  <thead>\n    <tr style=\"text-align: right;\">\n      <th></th>\n      <th>precision</th>\n      <th>recall</th>\n      <th>f1-score</th>\n      <th>support</th>\n    </tr>\n  </thead>\n  <tbody>\n    <tr>\n      <th>哈密瓜</th>\n      <td>0.882353</td>\n      <td>0.810811</td>\n      <td>0.845070</td>\n      <td>37.0</td>\n    </tr>\n    <tr>\n      <th>圣女果</th>\n      <td>0.923077</td>\n      <td>0.631579</td>\n      <td>0.750000</td>\n      <td>38.0</td>\n    </tr>\n    <tr>\n      <th>山竹</th>\n      <td>1.000000</td>\n      <td>0.828571</td>\n      <td>0.906250</td>\n      <td>35.0</td>\n    </tr>\n    <tr>\n      <th>杨梅</th>\n      <td>0.861111</td>\n      <td>0.837838</td>\n      <td>0.849315</td>\n      <td>37.0</td>\n    </tr>\n    <tr>\n      <th>柚子</th>\n      <td>0.736842</td>\n      <td>0.756757</td>\n      <td>0.746667</td>\n      <td>37.0</td>\n    </tr>\n    <tr>\n      <th>柠檬</th>\n      <td>0.800000</td>\n      <td>0.827586</td>\n      <td>0.813559</td>\n      <td>29.0</td>\n    </tr>\n    <tr>\n      <th>桂圆</th>\n      <td>0.760000</td>\n      <td>1.000000</td>\n      <td>0.863636</td>\n      <td>38.0</td>\n    </tr>\n    <tr>\n      <th>梨</th>\n      <td>0.828571</td>\n      <td>0.783784</td>\n      <td>0.805556</td>\n      <td>37.0</td>\n    </tr>\n    <tr>\n      <th>椰子</th>\n      <td>0.918919</td>\n      <td>0.894737</td>\n      <td>0.906667</td>\n      <td>38.0</td>\n    </tr>\n    <tr>\n      <th>榴莲</th>\n      <td>0.935484</td>\n      <td>0.805556</td>\n      <td>0.865672</td>\n      <td>36.0</td>\n    </tr>\n    <tr>\n      <th>火龙果</th>\n      <td>1.000000</td>\n      <td>0.916667</td>\n      <td>0.956522</td>\n      <td>36.0</td>\n    </tr>\n    <tr>\n      <th>猕猴桃</th>\n      <td>0.969697</td>\n      <td>0.864865</td>\n      <td>0.914286</td>\n      <td>37.0</td>\n    </tr>\n    <tr>\n      <th>石榴</th>\n      <td>0.842105</td>\n      <td>0.864865</td>\n      <td>0.853333</td>\n      <td>37.0</td>\n    </tr>\n    <tr>\n      <th>砂糖橘</th>\n      <td>0.805556</td>\n      <td>0.828571</td>\n      <td>0.816901</td>\n      <td>35.0</td>\n    </tr>\n    <tr>\n      <th>胡萝卜</th>\n      <td>0.914286</td>\n      <td>0.888889</td>\n      <td>0.901408</td>\n      <td>36.0</td>\n    </tr>\n    <tr>\n      <th>脐橙</th>\n      <td>0.794118</td>\n      <td>0.729730</td>\n      <td>0.760563</td>\n      <td>37.0</td>\n    </tr>\n    <tr>\n      <th>芒果</th>\n      <td>0.771429</td>\n      <td>0.818182</td>\n      <td>0.794118</td>\n      <td>33.0</td>\n    </tr>\n    <tr>\n      <th>苦瓜</th>\n      <td>1.000000</td>\n      <td>0.771429</td>\n      <td>0.870968</td>\n      <td>35.0</td>\n    </tr>\n    <tr>\n      <th>苹果-红</th>\n      <td>0.911765</td>\n      <td>0.885714</td>\n      <td>0.898551</td>\n      <td>35.0</td>\n    </tr>\n    <tr>\n      <th>苹果-青</th>\n      <td>0.837209</td>\n      <td>0.972973</td>\n      <td>0.900000</td>\n      <td>37.0</td>\n    </tr>\n    <tr>\n      <th>草莓</th>\n      <td>0.921053</td>\n      <td>0.921053</td>\n      <td>0.921053</td>\n      <td>38.0</td>\n    </tr>\n    <tr>\n      <th>荔枝</th>\n      <td>0.853659</td>\n      <td>0.921053</td>\n      <td>0.886076</td>\n      <td>38.0</td>\n    </tr>\n    <tr>\n      <th>菠萝</th>\n      <td>0.967742</td>\n      <td>0.810811</td>\n      <td>0.882353</td>\n      <td>37.0</td>\n    </tr>\n    <tr>\n      <th>葡萄-白</th>\n      <td>0.937500</td>\n      <td>0.967742</td>\n      <td>0.952381</td>\n      <td>31.0</td>\n    </tr>\n    <tr>\n      <th>葡萄-红</th>\n      <td>0.765957</td>\n      <td>0.947368</td>\n      <td>0.847059</td>\n      <td>38.0</td>\n    </tr>\n    <tr>\n      <th>西瓜</th>\n      <td>0.833333</td>\n      <td>0.945946</td>\n      <td>0.886076</td>\n      <td>37.0</td>\n    </tr>\n    <tr>\n      <th>西红柿</th>\n      <td>0.717391</td>\n      <td>0.916667</td>\n      <td>0.804878</td>\n      <td>36.0</td>\n    </tr>\n    <tr>\n      <th>车厘子</th>\n      <td>1.000000</td>\n      <td>0.843750</td>\n      <td>0.915254</td>\n      <td>32.0</td>\n    </tr>\n    <tr>\n      <th>香蕉</th>\n      <td>0.970588</td>\n      <td>0.916667</td>\n      <td>0.942857</td>\n      <td>36.0</td>\n    </tr>\n    <tr>\n      <th>黄瓜</th>\n      <td>0.760870</td>\n      <td>1.000000</td>\n      <td>0.864198</td>\n      <td>35.0</td>\n    </tr>\n    <tr>\n      <th>macro avg</th>\n      <td>0.874020</td>\n      <td>0.863672</td>\n      <td>0.864041</td>\n      <td>1078.0</td>\n    </tr>\n    <tr>\n      <th>weighted avg</th>\n      <td>0.873563</td>\n      <td>0.863636</td>\n      <td>0.863728</td>\n      <td>1078.0</td>\n    </tr>\n  </tbody>\n</table>\n</div>"
     },
     "metadata": {}
    }
   ],
   "execution_count": 10,
   "metadata": {
    "gather": {
     "logged": 1674825952404
    },
    "pycharm": {
     "name": "#%%\n"
    }
   },
   "id": "14266155-da0f-4c5d-9366-4273222fe600"
  },
  {
   "cell_type": "markdown",
   "source": [
    "## 补充：各类别准确率（其实就是recall）"
   ],
   "metadata": {
    "pycharm": {
     "name": "#%% md\n"
    }
   },
   "id": "a65da7a6-f1ba-4f86-8a89-11d87529f6c7"
  },
  {
   "cell_type": "code",
   "source": [
    "accuracy_list = []\n",
    "for fruit in tqdm(classes):\n",
    "    df_temp = df[df['标注类别名称']==fruit]\n",
    "    accuracy = sum(df_temp['标注类别名称'] == df_temp['top-1-预测名称']) / len(df_temp)\n",
    "    accuracy_list.append(accuracy)"
   ],
   "outputs": [
    {
     "output_type": "stream",
     "name": "stderr",
     "text": "\r  0%|          | 0/30 [00:00<?, ?it/s]\r100%|██████████| 30/30 [00:00<00:00, 1332.19it/s]\n"
    }
   ],
   "execution_count": 11,
   "metadata": {
    "gather": {
     "logged": 1674825957124
    },
    "pycharm": {
     "name": "#%%\n"
    }
   },
   "id": "02d63458-49eb-4d8a-a264-2e09bb61bc6b"
  },
  {
   "cell_type": "code",
   "source": [
    "# 计算 宏平均准确率 和 加权平均准确率\n",
    "acc_macro = np.mean(accuracy_list)\n",
    "acc_weighted = sum(accuracy_list * df_report.iloc[:-2]['support'] / len(df))\n",
    "\n",
    "accuracy_list.append(acc_macro)\n",
    "accuracy_list.append(acc_weighted)\n",
    "\n",
    "df_report['accuracy'] = accuracy_list"
   ],
   "outputs": [],
   "execution_count": 12,
   "metadata": {
    "gather": {
     "logged": 1674825960905
    },
    "pycharm": {
     "name": "#%%\n"
    }
   },
   "id": "24ca5a23-b6f3-4ce3-84af-262fa5d10edb"
  },
  {
   "cell_type": "code",
   "source": [
    "df_report"
   ],
   "outputs": [
    {
     "output_type": "execute_result",
     "execution_count": 13,
     "data": {
      "text/plain": "              precision    recall  f1-score  support  accuracy\n哈密瓜            0.882353  0.810811  0.845070     37.0  0.810811\n圣女果            0.923077  0.631579  0.750000     38.0  0.631579\n山竹             1.000000  0.828571  0.906250     35.0  0.828571\n杨梅             0.861111  0.837838  0.849315     37.0  0.837838\n柚子             0.736842  0.756757  0.746667     37.0  0.756757\n柠檬             0.800000  0.827586  0.813559     29.0  0.827586\n桂圆             0.760000  1.000000  0.863636     38.0  1.000000\n梨              0.828571  0.783784  0.805556     37.0  0.783784\n椰子             0.918919  0.894737  0.906667     38.0  0.894737\n榴莲             0.935484  0.805556  0.865672     36.0  0.805556\n火龙果            1.000000  0.916667  0.956522     36.0  0.916667\n猕猴桃            0.969697  0.864865  0.914286     37.0  0.864865\n石榴             0.842105  0.864865  0.853333     37.0  0.864865\n砂糖橘            0.805556  0.828571  0.816901     35.0  0.828571\n胡萝卜            0.914286  0.888889  0.901408     36.0  0.888889\n脐橙             0.794118  0.729730  0.760563     37.0  0.729730\n芒果             0.771429  0.818182  0.794118     33.0  0.818182\n苦瓜             1.000000  0.771429  0.870968     35.0  0.771429\n苹果-红           0.911765  0.885714  0.898551     35.0  0.885714\n苹果-青           0.837209  0.972973  0.900000     37.0  0.972973\n草莓             0.921053  0.921053  0.921053     38.0  0.921053\n荔枝             0.853659  0.921053  0.886076     38.0  0.921053\n菠萝             0.967742  0.810811  0.882353     37.0  0.810811\n葡萄-白           0.937500  0.967742  0.952381     31.0  0.967742\n葡萄-红           0.765957  0.947368  0.847059     38.0  0.947368\n西瓜             0.833333  0.945946  0.886076     37.0  0.945946\n西红柿            0.717391  0.916667  0.804878     36.0  0.916667\n车厘子            1.000000  0.843750  0.915254     32.0  0.843750\n香蕉             0.970588  0.916667  0.942857     36.0  0.916667\n黄瓜             0.760870  1.000000  0.864198     35.0  1.000000\nmacro avg      0.874020  0.863672  0.864041   1078.0  0.863672\nweighted avg   0.873563  0.863636  0.863728   1078.0  0.863636",
      "text/html": "<div>\n<style scoped>\n    .dataframe tbody tr th:only-of-type {\n        vertical-align: middle;\n    }\n\n    .dataframe tbody tr th {\n        vertical-align: top;\n    }\n\n    .dataframe thead th {\n        text-align: right;\n    }\n</style>\n<table border=\"1\" class=\"dataframe\">\n  <thead>\n    <tr style=\"text-align: right;\">\n      <th></th>\n      <th>precision</th>\n      <th>recall</th>\n      <th>f1-score</th>\n      <th>support</th>\n      <th>accuracy</th>\n    </tr>\n  </thead>\n  <tbody>\n    <tr>\n      <th>哈密瓜</th>\n      <td>0.882353</td>\n      <td>0.810811</td>\n      <td>0.845070</td>\n      <td>37.0</td>\n      <td>0.810811</td>\n    </tr>\n    <tr>\n      <th>圣女果</th>\n      <td>0.923077</td>\n      <td>0.631579</td>\n      <td>0.750000</td>\n      <td>38.0</td>\n      <td>0.631579</td>\n    </tr>\n    <tr>\n      <th>山竹</th>\n      <td>1.000000</td>\n      <td>0.828571</td>\n      <td>0.906250</td>\n      <td>35.0</td>\n      <td>0.828571</td>\n    </tr>\n    <tr>\n      <th>杨梅</th>\n      <td>0.861111</td>\n      <td>0.837838</td>\n      <td>0.849315</td>\n      <td>37.0</td>\n      <td>0.837838</td>\n    </tr>\n    <tr>\n      <th>柚子</th>\n      <td>0.736842</td>\n      <td>0.756757</td>\n      <td>0.746667</td>\n      <td>37.0</td>\n      <td>0.756757</td>\n    </tr>\n    <tr>\n      <th>柠檬</th>\n      <td>0.800000</td>\n      <td>0.827586</td>\n      <td>0.813559</td>\n      <td>29.0</td>\n      <td>0.827586</td>\n    </tr>\n    <tr>\n      <th>桂圆</th>\n      <td>0.760000</td>\n      <td>1.000000</td>\n      <td>0.863636</td>\n      <td>38.0</td>\n      <td>1.000000</td>\n    </tr>\n    <tr>\n      <th>梨</th>\n      <td>0.828571</td>\n      <td>0.783784</td>\n      <td>0.805556</td>\n      <td>37.0</td>\n      <td>0.783784</td>\n    </tr>\n    <tr>\n      <th>椰子</th>\n      <td>0.918919</td>\n      <td>0.894737</td>\n      <td>0.906667</td>\n      <td>38.0</td>\n      <td>0.894737</td>\n    </tr>\n    <tr>\n      <th>榴莲</th>\n      <td>0.935484</td>\n      <td>0.805556</td>\n      <td>0.865672</td>\n      <td>36.0</td>\n      <td>0.805556</td>\n    </tr>\n    <tr>\n      <th>火龙果</th>\n      <td>1.000000</td>\n      <td>0.916667</td>\n      <td>0.956522</td>\n      <td>36.0</td>\n      <td>0.916667</td>\n    </tr>\n    <tr>\n      <th>猕猴桃</th>\n      <td>0.969697</td>\n      <td>0.864865</td>\n      <td>0.914286</td>\n      <td>37.0</td>\n      <td>0.864865</td>\n    </tr>\n    <tr>\n      <th>石榴</th>\n      <td>0.842105</td>\n      <td>0.864865</td>\n      <td>0.853333</td>\n      <td>37.0</td>\n      <td>0.864865</td>\n    </tr>\n    <tr>\n      <th>砂糖橘</th>\n      <td>0.805556</td>\n      <td>0.828571</td>\n      <td>0.816901</td>\n      <td>35.0</td>\n      <td>0.828571</td>\n    </tr>\n    <tr>\n      <th>胡萝卜</th>\n      <td>0.914286</td>\n      <td>0.888889</td>\n      <td>0.901408</td>\n      <td>36.0</td>\n      <td>0.888889</td>\n    </tr>\n    <tr>\n      <th>脐橙</th>\n      <td>0.794118</td>\n      <td>0.729730</td>\n      <td>0.760563</td>\n      <td>37.0</td>\n      <td>0.729730</td>\n    </tr>\n    <tr>\n      <th>芒果</th>\n      <td>0.771429</td>\n      <td>0.818182</td>\n      <td>0.794118</td>\n      <td>33.0</td>\n      <td>0.818182</td>\n    </tr>\n    <tr>\n      <th>苦瓜</th>\n      <td>1.000000</td>\n      <td>0.771429</td>\n      <td>0.870968</td>\n      <td>35.0</td>\n      <td>0.771429</td>\n    </tr>\n    <tr>\n      <th>苹果-红</th>\n      <td>0.911765</td>\n      <td>0.885714</td>\n      <td>0.898551</td>\n      <td>35.0</td>\n      <td>0.885714</td>\n    </tr>\n    <tr>\n      <th>苹果-青</th>\n      <td>0.837209</td>\n      <td>0.972973</td>\n      <td>0.900000</td>\n      <td>37.0</td>\n      <td>0.972973</td>\n    </tr>\n    <tr>\n      <th>草莓</th>\n      <td>0.921053</td>\n      <td>0.921053</td>\n      <td>0.921053</td>\n      <td>38.0</td>\n      <td>0.921053</td>\n    </tr>\n    <tr>\n      <th>荔枝</th>\n      <td>0.853659</td>\n      <td>0.921053</td>\n      <td>0.886076</td>\n      <td>38.0</td>\n      <td>0.921053</td>\n    </tr>\n    <tr>\n      <th>菠萝</th>\n      <td>0.967742</td>\n      <td>0.810811</td>\n      <td>0.882353</td>\n      <td>37.0</td>\n      <td>0.810811</td>\n    </tr>\n    <tr>\n      <th>葡萄-白</th>\n      <td>0.937500</td>\n      <td>0.967742</td>\n      <td>0.952381</td>\n      <td>31.0</td>\n      <td>0.967742</td>\n    </tr>\n    <tr>\n      <th>葡萄-红</th>\n      <td>0.765957</td>\n      <td>0.947368</td>\n      <td>0.847059</td>\n      <td>38.0</td>\n      <td>0.947368</td>\n    </tr>\n    <tr>\n      <th>西瓜</th>\n      <td>0.833333</td>\n      <td>0.945946</td>\n      <td>0.886076</td>\n      <td>37.0</td>\n      <td>0.945946</td>\n    </tr>\n    <tr>\n      <th>西红柿</th>\n      <td>0.717391</td>\n      <td>0.916667</td>\n      <td>0.804878</td>\n      <td>36.0</td>\n      <td>0.916667</td>\n    </tr>\n    <tr>\n      <th>车厘子</th>\n      <td>1.000000</td>\n      <td>0.843750</td>\n      <td>0.915254</td>\n      <td>32.0</td>\n      <td>0.843750</td>\n    </tr>\n    <tr>\n      <th>香蕉</th>\n      <td>0.970588</td>\n      <td>0.916667</td>\n      <td>0.942857</td>\n      <td>36.0</td>\n      <td>0.916667</td>\n    </tr>\n    <tr>\n      <th>黄瓜</th>\n      <td>0.760870</td>\n      <td>1.000000</td>\n      <td>0.864198</td>\n      <td>35.0</td>\n      <td>1.000000</td>\n    </tr>\n    <tr>\n      <th>macro avg</th>\n      <td>0.874020</td>\n      <td>0.863672</td>\n      <td>0.864041</td>\n      <td>1078.0</td>\n      <td>0.863672</td>\n    </tr>\n    <tr>\n      <th>weighted avg</th>\n      <td>0.873563</td>\n      <td>0.863636</td>\n      <td>0.863728</td>\n      <td>1078.0</td>\n      <td>0.863636</td>\n    </tr>\n  </tbody>\n</table>\n</div>"
     },
     "metadata": {}
    }
   ],
   "execution_count": 13,
   "metadata": {
    "gather": {
     "logged": 1674825965024
    },
    "pycharm": {
     "name": "#%%\n"
    }
   },
   "id": "6f4b0b49-a8f2-4647-bc68-22f83ce29cc2"
  },
  {
   "cell_type": "code",
   "source": [
    "df_report.to_csv('各类别准确率评估指标.csv', index_label='类别')"
   ],
   "outputs": [],
   "execution_count": 14,
   "metadata": {
    "gather": {
     "logged": 1674825966458
    },
    "pycharm": {
     "name": "#%%\n"
    }
   },
   "id": "123e15a8-a48f-4cf6-b1de-0bf1ab673962"
  },
  {
   "cell_type": "code",
   "source": [],
   "outputs": [],
   "execution_count": null,
   "metadata": {
    "pycharm": {
     "name": "#%%\n"
    }
   },
   "id": "386536ae-7c69-491d-832c-d0b2aa8f64f0"
  }
 ],
 "metadata": {
  "kernelspec": {
   "name": "python3",
   "language": "python",
   "display_name": "Python 3 (ipykernel)"
  },
  "language_info": {
   "name": "python",
   "version": "3.8.5",
   "mimetype": "text/x-python",
   "codemirror_mode": {
    "name": "ipython",
    "version": 3
   },
   "pygments_lexer": "ipython3",
   "nbconvert_exporter": "python",
   "file_extension": ".py"
  },
  "kernel_info": {
   "name": "python3"
  },
  "microsoft": {
   "host": {
    "AzureML": {
     "notebookHasBeenCompleted": true
    }
   }
  },
  "nteract": {
   "version": "nteract-front-end@1.0.0"
  }
 },
 "nbformat": 4,
 "nbformat_minor": 5
}