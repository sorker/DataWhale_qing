{
  "cells": [
    {
      "cell_type": "markdown",
      "source": [
        "# 计算测试集图像语义特征\n",
        "\n",
        "抽取Pytorch训练得到的图像分类模型中间层的输出特征，作为输入图像的语义特征。\n",
        "\n",
        "计算测试集所有图像的语义特征，使用t-SNE和UMAP两种降维方法降维至二维和三维，可视化。\n",
        "\n",
        "分析不同类别的语义距离、异常数据、细粒度分类、高维数据结构。\n",
        "\n",
        "同济子豪兄：https://space.bilibili.com/1900783\n",
        "\n",
        "[代码运行云GPU环境](https://featurize.cn/?s=d7ce99f842414bfcaea5662a97581bd1)：GPU RTX 3060、CUDA v11.2"
      ],
      "metadata": {},
      "id": "753ae5b1-2f57-4f1c-ba12-0c2a6f62a23a"
    },
    {
      "cell_type": "markdown",
      "source": [
        "## 导入工具包"
      ],
      "metadata": {},
      "id": "0a2a232f-0178-4661-98d8-f27f6fa130bf"
    },
    {
      "cell_type": "code",
      "source": [
        "from tqdm import tqdm\n",
        "\n",
        "import pandas as pd\n",
        "import numpy as np\n",
        "\n",
        "import torch\n",
        "\n",
        "import cv2\n",
        "from PIL import Image\n",
        "\n",
        "# 忽略烦人的红色提示\n",
        "import warnings\n",
        "warnings.filterwarnings(\"ignore\")\n",
        "\n",
        "# 有 GPU 就用 GPU，没有就用 CPU\n",
        "device = torch.device('cuda:0' if torch.cuda.is_available() else 'cpu')\n",
        "print('device', device)"
      ],
      "outputs": [
        {
          "output_type": "stream",
          "name": "stdout",
          "text": "device cuda:0\n"
        }
      ],
      "execution_count": 1,
      "metadata": {
        "gather": {
          "logged": 1674907321393
        }
      },
      "id": "57328106-567d-4be0-a0bc-1a20e88ceb01"
    },
    {
      "cell_type": "markdown",
      "source": [
        "## 图像预处理"
      ],
      "metadata": {},
      "id": "7500ea23-53d8-4421-92f6-647d41e34d80"
    },
    {
      "cell_type": "code",
      "source": [
        "from torchvision import transforms\n",
        "\n",
        "# # 训练集图像预处理：缩放裁剪、图像增强、转 Tensor、归一化\n",
        "# train_transform = transforms.Compose([transforms.RandomResizedCrop(224),\n",
        "#                                       transforms.RandomHorizontalFlip(),\n",
        "#                                       transforms.ToTensor(),\n",
        "#                                       transforms.Normalize([0.485, 0.456, 0.406], [0.229, 0.224, 0.225])\n",
        "#                                      ])\n",
        "\n",
        "# 测试集图像预处理-RCTN：缩放、裁剪、转 Tensor、归一化\n",
        "test_transform = transforms.Compose([transforms.Resize(256),\n",
        "                                     transforms.CenterCrop(224),\n",
        "                                     transforms.ToTensor(),\n",
        "                                     transforms.Normalize(\n",
        "                                         mean=[0.485, 0.456, 0.406], \n",
        "                                         std=[0.229, 0.224, 0.225])\n",
        "                                    ])"
      ],
      "outputs": [],
      "execution_count": 2,
      "metadata": {
        "gather": {
          "logged": 1674907326670
        }
      },
      "id": "b562b97f-9a4a-4729-b238-4acb2e77e9dc"
    },
    {
      "cell_type": "markdown",
      "source": [
        "## 导入训练好的模型"
      ],
      "metadata": {},
      "id": "f4a3347a-1c09-4b48-b19a-fbcc3791c08b"
    },
    {
      "cell_type": "code",
      "source": [
        "model = torch.load('checkpoints/fruit30_pytorch_20220814.pth')\n",
        "model = model.eval().to(device)"
      ],
      "outputs": [],
      "execution_count": 3,
      "metadata": {
        "gather": {
          "logged": 1674907334965
        }
      },
      "id": "618333ec-6e91-4342-acf3-86aaa1654068"
    },
    {
      "cell_type": "markdown",
      "source": [
        "## 抽取模型中间层输出结果作为语义特征"
      ],
      "metadata": {},
      "id": "e41c4cb2-e516-4150-9e9c-9580a26c72a3"
    },
    {
      "cell_type": "code",
      "source": [
        "from torchvision.models.feature_extraction import create_feature_extractor"
      ],
      "outputs": [],
      "execution_count": 4,
      "metadata": {
        "gather": {
          "logged": 1674907413009
        }
      },
      "id": "a9fdf127-c713-4bb4-bcc8-4f808e011229"
    },
    {
      "cell_type": "code",
      "source": [
        "model_trunc = create_feature_extractor(model, return_nodes={'avgpool': 'semantic_feature'})"
      ],
      "outputs": [],
      "execution_count": 5,
      "metadata": {
        "gather": {
          "logged": 1674907414875
        }
      },
      "id": "0a4dda05-7510-40a5-bc6f-6df80fdc4c64"
    },
    {
      "cell_type": "markdown",
      "source": [
        "## 计算单张图像的语义特征"
      ],
      "metadata": {},
      "id": "1b7137df-1c4a-452e-be96-de7ec6a5d85e"
    },
    {
      "cell_type": "code",
      "source": [
        "img_path = 'fruit30_split/val/菠萝/105.jpg'\n",
        "img_pil = Image.open(img_path)\n",
        "input_img = test_transform(img_pil) # 预处理\n",
        "input_img = input_img.unsqueeze(0).to(device)\n",
        "# 执行前向预测，得到指定中间层的输出\n",
        "pred_logits = model_trunc(input_img) "
      ],
      "outputs": [],
      "execution_count": 6,
      "metadata": {
        "gather": {
          "logged": 1674907425695
        }
      },
      "id": "157f9102-fc51-468e-a43e-1a9256dfe22a"
    },
    {
      "cell_type": "code",
      "source": [
        "pred_logits['semantic_feature'].squeeze().detach().cpu().numpy().shape"
      ],
      "outputs": [
        {
          "output_type": "execute_result",
          "execution_count": 7,
          "data": {
            "text/plain": "(512,)"
          },
          "metadata": {}
        }
      ],
      "execution_count": 7,
      "metadata": {
        "gather": {
          "logged": 1674907428862
        }
      },
      "id": "108eb111-dc92-408c-8bf8-6111ad6a28e7"
    },
    {
      "cell_type": "code",
      "source": [
        "pred_logits['semantic_feature'].squeeze().detach().cpu().numpy()"
      ],
      "outputs": [],
      "execution_count": null,
      "metadata": {
        "gather": {
          "logged": 1674907435090
        }
      },
      "id": "f70ba1f3-02c3-4bc7-92c2-5b0ee5a76762"
    },
    {
      "cell_type": "markdown",
      "source": [
        "## 载入测试集图像分类结果"
      ],
      "metadata": {},
      "id": "b1d681eb-d2af-4e54-bfa2-78590dffafbe"
    },
    {
      "cell_type": "code",
      "source": [
        "df = pd.read_csv('测试集预测结果.csv')"
      ],
      "outputs": [],
      "execution_count": 10,
      "metadata": {
        "gather": {
          "logged": 1674907446176
        }
      },
      "id": "6bb76734-83d2-49c9-ae35-3240595d5861"
    },
    {
      "cell_type": "code",
      "source": [
        "df.head()"
      ],
      "outputs": [
        {
          "output_type": "execute_result",
          "execution_count": 11,
          "data": {
            "text/plain": "                            图像路径  标注类别ID 标注类别名称  top-1-预测ID top-1-预测名称  \\\n0  fruit30_split/val/哈密瓜/106.jpg       0    哈密瓜           4         柚子   \n1  fruit30_split/val/哈密瓜/109.jpg       0    哈密瓜           6         桂圆   \n2  fruit30_split/val/哈密瓜/114.jpg       0    哈密瓜           0        哈密瓜   \n3  fruit30_split/val/哈密瓜/116.jpg       0    哈密瓜           0        哈密瓜   \n4  fruit30_split/val/哈密瓜/118.png       0    哈密瓜           4         柚子   \n\n   top-2-预测ID top-2-预测名称  top-3-预测ID top-3-预测名称  top-n预测正确  ...      草莓-预测置信度  \\\n0           5         柠檬           7          梨      False  ...  1.815084e-07   \n1           0        哈密瓜           8         椰子       True  ...  7.804896e-08   \n2          26        西红柿          23       葡萄-白       True  ...  9.334810e-03   \n3          16         芒果           4         柚子       True  ...  3.197652e-05   \n4          11        猕猴桃          23       葡萄-白      False  ...  7.075434e-04   \n\n   荔枝-预测置信度      菠萝-预测置信度  葡萄-白-预测置信度  葡萄-红-预测置信度  西瓜-预测置信度     西红柿-预测置信度  \\\n0  0.000001  3.243423e-06    0.000011    0.000006  0.000116  1.286697e-04   \n1  0.000001  9.750311e-07    0.001511    0.000043  0.000157  6.638699e-07   \n2  0.007176  1.038816e-03    0.037528    0.034992  0.001578  2.654020e-01   \n3  0.000254  6.003276e-05    0.001584    0.000003  0.000280  7.256652e-04   \n4  0.000068  7.408392e-05    0.115253    0.000762  0.000400  2.893470e-03   \n\n      车厘子-预测置信度  香蕉-预测置信度      黄瓜-预测置信度  \n0  4.142584e-07  0.000005  6.217669e-07  \n1  3.048453e-06  0.000032  2.386899e-06  \n2  1.620361e-04  0.005669  1.115545e-03  \n3  2.260151e-07  0.021936  3.845498e-04  \n4  2.952121e-08  0.000335  4.361433e-04  \n\n[5 rows x 40 columns]",
            "text/html": "<div>\n<style scoped>\n    .dataframe tbody tr th:only-of-type {\n        vertical-align: middle;\n    }\n\n    .dataframe tbody tr th {\n        vertical-align: top;\n    }\n\n    .dataframe thead th {\n        text-align: right;\n    }\n</style>\n<table border=\"1\" class=\"dataframe\">\n  <thead>\n    <tr style=\"text-align: right;\">\n      <th></th>\n      <th>图像路径</th>\n      <th>标注类别ID</th>\n      <th>标注类别名称</th>\n      <th>top-1-预测ID</th>\n      <th>top-1-预测名称</th>\n      <th>top-2-预测ID</th>\n      <th>top-2-预测名称</th>\n      <th>top-3-预测ID</th>\n      <th>top-3-预测名称</th>\n      <th>top-n预测正确</th>\n      <th>...</th>\n      <th>草莓-预测置信度</th>\n      <th>荔枝-预测置信度</th>\n      <th>菠萝-预测置信度</th>\n      <th>葡萄-白-预测置信度</th>\n      <th>葡萄-红-预测置信度</th>\n      <th>西瓜-预测置信度</th>\n      <th>西红柿-预测置信度</th>\n      <th>车厘子-预测置信度</th>\n      <th>香蕉-预测置信度</th>\n      <th>黄瓜-预测置信度</th>\n    </tr>\n  </thead>\n  <tbody>\n    <tr>\n      <th>0</th>\n      <td>fruit30_split/val/哈密瓜/106.jpg</td>\n      <td>0</td>\n      <td>哈密瓜</td>\n      <td>4</td>\n      <td>柚子</td>\n      <td>5</td>\n      <td>柠檬</td>\n      <td>7</td>\n      <td>梨</td>\n      <td>False</td>\n      <td>...</td>\n      <td>1.815084e-07</td>\n      <td>0.000001</td>\n      <td>3.243423e-06</td>\n      <td>0.000011</td>\n      <td>0.000006</td>\n      <td>0.000116</td>\n      <td>1.286697e-04</td>\n      <td>4.142584e-07</td>\n      <td>0.000005</td>\n      <td>6.217669e-07</td>\n    </tr>\n    <tr>\n      <th>1</th>\n      <td>fruit30_split/val/哈密瓜/109.jpg</td>\n      <td>0</td>\n      <td>哈密瓜</td>\n      <td>6</td>\n      <td>桂圆</td>\n      <td>0</td>\n      <td>哈密瓜</td>\n      <td>8</td>\n      <td>椰子</td>\n      <td>True</td>\n      <td>...</td>\n      <td>7.804896e-08</td>\n      <td>0.000001</td>\n      <td>9.750311e-07</td>\n      <td>0.001511</td>\n      <td>0.000043</td>\n      <td>0.000157</td>\n      <td>6.638699e-07</td>\n      <td>3.048453e-06</td>\n      <td>0.000032</td>\n      <td>2.386899e-06</td>\n    </tr>\n    <tr>\n      <th>2</th>\n      <td>fruit30_split/val/哈密瓜/114.jpg</td>\n      <td>0</td>\n      <td>哈密瓜</td>\n      <td>0</td>\n      <td>哈密瓜</td>\n      <td>26</td>\n      <td>西红柿</td>\n      <td>23</td>\n      <td>葡萄-白</td>\n      <td>True</td>\n      <td>...</td>\n      <td>9.334810e-03</td>\n      <td>0.007176</td>\n      <td>1.038816e-03</td>\n      <td>0.037528</td>\n      <td>0.034992</td>\n      <td>0.001578</td>\n      <td>2.654020e-01</td>\n      <td>1.620361e-04</td>\n      <td>0.005669</td>\n      <td>1.115545e-03</td>\n    </tr>\n    <tr>\n      <th>3</th>\n      <td>fruit30_split/val/哈密瓜/116.jpg</td>\n      <td>0</td>\n      <td>哈密瓜</td>\n      <td>0</td>\n      <td>哈密瓜</td>\n      <td>16</td>\n      <td>芒果</td>\n      <td>4</td>\n      <td>柚子</td>\n      <td>True</td>\n      <td>...</td>\n      <td>3.197652e-05</td>\n      <td>0.000254</td>\n      <td>6.003276e-05</td>\n      <td>0.001584</td>\n      <td>0.000003</td>\n      <td>0.000280</td>\n      <td>7.256652e-04</td>\n      <td>2.260151e-07</td>\n      <td>0.021936</td>\n      <td>3.845498e-04</td>\n    </tr>\n    <tr>\n      <th>4</th>\n      <td>fruit30_split/val/哈密瓜/118.png</td>\n      <td>0</td>\n      <td>哈密瓜</td>\n      <td>4</td>\n      <td>柚子</td>\n      <td>11</td>\n      <td>猕猴桃</td>\n      <td>23</td>\n      <td>葡萄-白</td>\n      <td>False</td>\n      <td>...</td>\n      <td>7.075434e-04</td>\n      <td>0.000068</td>\n      <td>7.408392e-05</td>\n      <td>0.115253</td>\n      <td>0.000762</td>\n      <td>0.000400</td>\n      <td>2.893470e-03</td>\n      <td>2.952121e-08</td>\n      <td>0.000335</td>\n      <td>4.361433e-04</td>\n    </tr>\n  </tbody>\n</table>\n<p>5 rows × 40 columns</p>\n</div>"
          },
          "metadata": {}
        }
      ],
      "execution_count": 11,
      "metadata": {
        "gather": {
          "logged": 1674907450222
        }
      },
      "id": "6de3a2b3-0035-4f01-afbc-69b87e1af806"
    },
    {
      "cell_type": "markdown",
      "source": [
        "## 计算测试集每张图像的语义特征"
      ],
      "metadata": {},
      "id": "74e7d010-df35-4fb9-8dcb-1af2d5399681"
    },
    {
      "cell_type": "code",
      "source": [
        "encoding_array = []\n",
        "img_path_list = []\n",
        "\n",
        "for img_path in tqdm(df['图像路径']):\n",
        "    img_path_list.append(img_path)\n",
        "    img_pil = Image.open(img_path).convert('RGB')\n",
        "    input_img = test_transform(img_pil).unsqueeze(0).to(device) # 预处理\n",
        "    feature = model_trunc(input_img)['semantic_feature'].squeeze().detach().cpu().numpy() # 执行前向预测，得到 avgpool 层输出的语义特征\n",
        "    encoding_array.append(feature)\n",
        "encoding_array = np.array(encoding_array)"
      ],
      "outputs": [
        {
          "output_type": "stream",
          "name": "stderr",
          "text": "100%|██████████| 1078/1078 [01:22<00:00, 13.13it/s]\n"
        }
      ],
      "execution_count": 12,
      "metadata": {
        "gather": {
          "logged": 1674907538821
        }
      },
      "id": "0d630667-6b6b-4fdd-8c4d-28286499330b"
    },
    {
      "cell_type": "code",
      "source": [
        "encoding_array.shape"
      ],
      "outputs": [
        {
          "output_type": "execute_result",
          "execution_count": 13,
          "data": {
            "text/plain": "(1078, 512)"
          },
          "metadata": {}
        }
      ],
      "execution_count": 13,
      "metadata": {
        "gather": {
          "logged": 1674907550209
        }
      },
      "id": "fec12f5b-35d0-4367-8ac1-7d7321eecee9"
    },
    {
      "cell_type": "markdown",
      "source": [
        "## 保存为本地的.npy文件"
      ],
      "metadata": {},
      "id": "c434aad3-9689-4e77-bef7-1daa4400e590"
    },
    {
      "cell_type": "code",
      "source": [
        "# 保存为本地的 npy 文件\n",
        "np.save('测试集语义特征.npy', encoding_array)"
      ],
      "outputs": [],
      "execution_count": 14,
      "metadata": {
        "gather": {
          "logged": 1674907552777
        }
      },
      "id": "896a318d-430c-4b59-9c94-0b08ba0106dd"
    },
    {
      "cell_type": "code",
      "source": [],
      "outputs": [],
      "execution_count": null,
      "metadata": {},
      "id": "4417cdc4-0bad-428c-896f-1d35d31401a8"
    }
  ],
  "metadata": {
    "kernelspec": {
      "name": "python3",
      "language": "python",
      "display_name": "Python 3 (ipykernel)"
    },
    "language_info": {
      "name": "python",
      "version": "3.8.5",
      "mimetype": "text/x-python",
      "codemirror_mode": {
        "name": "ipython",
        "version": 3
      },
      "pygments_lexer": "ipython3",
      "nbconvert_exporter": "python",
      "file_extension": ".py"
    },
    "kernel_info": {
      "name": "python3"
    },
    "microsoft": {
      "host": {
        "AzureML": {
          "notebookHasBeenCompleted": true
        }
      }
    },
    "nteract": {
      "version": "nteract-front-end@1.0.0"
    }
  },
  "nbformat": 4,
  "nbformat_minor": 5
}