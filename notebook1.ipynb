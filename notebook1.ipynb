{
 "cells": [
  {
   "cell_type": "markdown",
   "id": "cc664f7c-9b8a-4c19-a350-948208d8e7a5",
   "metadata": {},
   "source": [
    "用了inception_v3模型用于本次实验\n",
    "下面是已经训练的模型的调用代码"
   ]
  },
  {
   "cell_type": "code",
   "execution_count": null,
   "id": "8d92b374-12d1-4189-ab1e-1932f9e640da",
   "metadata": {
    "scrolled": true
   },
   "outputs": [],
   "source": [
    "# from torch.nn.modules\r\n",
    "model = models.inception_v3(pretrained=False, num_classes=n_class) # 载入预训练模型\r\n",
    "\r\n",
    "# 修改全连接层，使得全连接层的输出与当前数据集类别数对应\r\n",
    "# 新建的层默认 requires_grad=True\r\n",
    "# model.fc = nn.Linear(model.fc.in_features, n_class)\r\n",
    "\r\n",
    "checkpoint = paddle.load('./checkpoints/best-897.0000.pth')\r\n",
    "best_test_accuracy = checkpoint['best_test_accuracy']\r\n",
    "model.set_state_dict(checkpoint['model'])\r\n"
   ]
  },
  {
   "cell_type": "markdown",
   "id": "5016308d-4a8d-4bb4-8bb7-28e6014ddf6b",
   "metadata": {},
   "source": [
    "下面是模型的保存代码"
   ]
  },
  {
   "cell_type": "code",
   "execution_count": null,
   "id": "dbeebf1c-3450-40e1-aba3-ccd36d9efd6b",
   "metadata": {
    "scrolled": true
   },
   "outputs": [],
   "source": [
    "    # 保存最新的最佳模型文件\r\n",
    "    if log_test['test_accuracy'] > best_test_accuracy:\r\n",
    "        # 删除旧的最佳模型文件(如有)\r\n",
    "        old_best_checkpoint_path = 'checkpoints/best-{:.4f}.pth'.format(best_test_accuracy)\r\n",
    "        if os.path.exists(old_best_checkpoint_path):\r\n",
    "            os.remove(old_best_checkpoint_path)\r\n",
    "        # 保存新的最佳模型文件\r\n",
    "        new_best_checkpoint_path = 'checkpoints/best-{:.4f}.pth'.format(log_test['test_accuracy'])\r\n",
    "        best_test_accuracy = log_test['test_accuracy']\r\n",
    "        checkpoint = {'model': model.state_dict(),\r\n",
    "                      'best_test_accuracy': best_test_accuracy,\r\n",
    "                      'optimizer': optimizer.state_dict()}\r\n",
    "\r\n",
    "        paddle.save(checkpoint, new_best_checkpoint_path)\r\n",
    "\r\n",
    "    print(log_test['test_accuracy'], epoch)\r\n",
    "    gc.collect()"
   ]
  }
 ],
 "metadata": {
  "kernelspec": {
   "display_name": "Python 3",
   "language": "python",
   "name": "py35-paddle1.2.0"
  },
  "language_info": {
   "codemirror_mode": {
    "name": "ipython",
    "version": 3
   },
   "file_extension": ".py",
   "mimetype": "text/x-python",
   "name": "python",
   "nbconvert_exporter": "python",
   "pygments_lexer": "ipython3",
   "version": "3.10.10"
  }
 },
 "nbformat": 4,
 "nbformat_minor": 5
}
