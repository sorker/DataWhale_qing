{
 "cells": [
  {
   "cell_type": "markdown",
   "id": "cc664f7c-9b8a-4c19-a350-948208d8e7a5",
   "metadata": {},
   "source": [
    "### 第一次打卡笔记"
   ]
  },
  {
   "cell_type": "markdown",
   "id": "ec349f75",
   "metadata": {},
   "source": [
    "用了inception_v3模型用于本次实验\n",
    "\n",
    "下面是已经训练的模型的调用代码"
   ]
  },
  {
   "cell_type": "code",
   "execution_count": null,
   "id": "8d92b374-12d1-4189-ab1e-1932f9e640da",
   "metadata": {
    "scrolled": true
   },
   "outputs": [],
   "source": [
    "# from torch.nn.modules\n",
    "model = models.inception_v3(pretrained=False, num_classes=n_class) # 载入预训练模型\n",
    "\n",
    "# 修改全连接层，使得全连接层的输出与当前数据集类别数对应\n",
    "# 新建的层默认 requires_grad=True\n",
    "# model.fc = nn.Linear(model.fc.in_features, n_class)\n",
    "\n",
    "checkpoint = paddle.load('./checkpoints/best-897.0000.pth')\n",
    "best_test_accuracy = checkpoint['best_test_accuracy']\n",
    "model.set_state_dict(checkpoint['model'])\n"
   ]
  },
  {
   "cell_type": "markdown",
   "id": "5016308d-4a8d-4bb4-8bb7-28e6014ddf6b",
   "metadata": {},
   "source": [
    "下面是模型的保存代码"
   ]
  },
  {
   "cell_type": "code",
   "execution_count": null,
   "id": "dbeebf1c-3450-40e1-aba3-ccd36d9efd6b",
   "metadata": {
    "scrolled": true
   },
   "outputs": [],
   "source": [
    "    # 保存最新的最佳模型文件\n",
    "    if log_test['test_accuracy'] > best_test_accuracy:\n",
    "        # 删除旧的最佳模型文件(如有)\n",
    "        old_best_checkpoint_path = 'checkpoints/best-{:.4f}.pth'.format(best_test_accuracy)\n",
    "        if os.path.exists(old_best_checkpoint_path):\n",
    "            os.remove(old_best_checkpoint_path)\n",
    "        # 保存新的最佳模型文件\n",
    "        new_best_checkpoint_path = 'checkpoints/best-{:.4f}.pth'.format(log_test['test_accuracy'])\n",
    "        best_test_accuracy = log_test['test_accuracy']\n",
    "        checkpoint = {'model': model.state_dict(),\n",
    "                      'best_test_accuracy': best_test_accuracy,\n",
    "                      'optimizer': optimizer.state_dict()}\n",
    "\n",
    "        paddle.save(checkpoint, new_best_checkpoint_path)\n",
    "\n",
    "    print(log_test['test_accuracy'], epoch)\n",
    "    gc.collect()"
   ]
  },
  {
   "cell_type": "markdown",
   "id": "b0662164",
   "metadata": {},
   "source": [
    "### 第二次打卡笔记"
   ]
  },
  {
   "cell_type": "markdown",
   "id": "77d35b35",
   "metadata": {},
   "source": [
    "看了群友的聊天 使用了resnet50作为模型"
   ]
  },
  {
   "cell_type": "markdown",
   "id": "4a77701c",
   "metadata": {},
   "source": [
    "其次 修改了每次运行是数据集的划分"
   ]
  },
  {
   "cell_type": "code",
   "execution_count": null,
   "id": "8249de78",
   "metadata": {},
   "outputs": [],
   "source": [
    "# 每次随机划分 5%的数据作为测试集\n",
    "train_path, test_path, train_label, test_label = train_test_split(train_path, train_label, test_size=0.05)"
   ]
  },
  {
   "cell_type": "code",
   "execution_count": null,
   "id": "6ac76864",
   "metadata": {},
   "outputs": [],
   "source": [
    "# 修改模型为 restnet50\n",
    "# from torch.nn.modules\n",
    "model = models.resnet50(pretrained=False) # 载入预训练模型\n",
    "\n",
    "# 修改全连接层，使得全连接层的输出与当前数据集类别数对应\n",
    "# 新建的层默认 requires_grad=True\n",
    "model.fc = nn.Linear(2048, n_class)"
   ]
  },
  {
   "cell_type": "markdown",
   "id": "df76b074",
   "metadata": {},
   "source": [
    "分数从0.539提高到0.57902"
   ]
  }
 ],
 "metadata": {
  "kernelspec": {
   "display_name": "Python 3",
   "language": "python",
   "name": "py35-paddle1.2.0"
  },
  "language_info": {
   "codemirror_mode": {
    "name": "ipython",
    "version": 3
   },
   "file_extension": ".py",
   "mimetype": "text/x-python",
   "name": "python",
   "nbconvert_exporter": "python",
   "pygments_lexer": "ipython3",
   "version": "3.10.10"
  }
 },
 "nbformat": 4,
 "nbformat_minor": 5
}
